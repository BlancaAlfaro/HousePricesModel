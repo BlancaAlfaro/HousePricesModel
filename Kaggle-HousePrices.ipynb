{
 "cells": [
  {
   "cell_type": "code",
   "execution_count": 1,
   "id": "c27ad332",
   "metadata": {
    "_cell_guid": "b1076dfc-b9ad-4769-8c92-a6c4dae69d19",
    "_uuid": "8f2839f25d086af736a60e9eeb907d3b93b6e0e5",
    "execution": {
     "iopub.execute_input": "2023-02-02T17:16:11.200392Z",
     "iopub.status.busy": "2023-02-02T17:16:11.199781Z",
     "iopub.status.idle": "2023-02-02T17:16:11.213858Z",
     "shell.execute_reply": "2023-02-02T17:16:11.212672Z"
    },
    "papermill": {
     "duration": 0.040436,
     "end_time": "2023-02-02T17:16:11.217706",
     "exception": false,
     "start_time": "2023-02-02T17:16:11.177270",
     "status": "completed"
    },
    "tags": []
   },
   "outputs": [
    {
     "name": "stdout",
     "output_type": "stream",
     "text": [
      "/kaggle/input/home-data-for-ml-course/sample_submission.csv\n",
      "/kaggle/input/home-data-for-ml-course/sample_submission.csv.gz\n",
      "/kaggle/input/home-data-for-ml-course/train.csv.gz\n",
      "/kaggle/input/home-data-for-ml-course/data_description.txt\n",
      "/kaggle/input/home-data-for-ml-course/test.csv.gz\n",
      "/kaggle/input/home-data-for-ml-course/train.csv\n",
      "/kaggle/input/home-data-for-ml-course/test.csv\n"
     ]
    }
   ],
   "source": [
    "# This Python 3 environment comes with many helpful analytics libraries installed\n",
    "# It is defined by the kaggle/python Docker image: https://github.com/kaggle/docker-python\n",
    "# For example, here's several helpful packages to load\n",
    "\n",
    "import numpy as np # linear algebra\n",
    "import pandas as pd # data processing, CSV file I/O (e.g. pd.read_csv)\n",
    "\n",
    "# Input data files are available in the read-only \"../input/\" directory\n",
    "# For example, running this (by clicking run or pressing Shift+Enter) will list all files under the input directory\n",
    "\n",
    "import os\n",
    "for dirname, _, filenames in os.walk('/kaggle/input'):\n",
    "    for filename in filenames:\n",
    "        print(os.path.join(dirname, filename))\n",
    "\n",
    "# You can write up to 20GB to the current directory (/kaggle/working/) that gets preserved as output when you create a version using \"Save & Run All\" \n",
    "# You can also write temporary files to /kaggle/temp/, but they won't be saved outside of the current session"
   ]
  },
  {
   "cell_type": "markdown",
   "id": "09393b23",
   "metadata": {
    "papermill": {
     "duration": 0.019051,
     "end_time": "2023-02-02T17:16:11.257543",
     "exception": false,
     "start_time": "2023-02-02T17:16:11.238492",
     "status": "completed"
    },
    "tags": []
   },
   "source": [
    "***"
   ]
  },
  {
   "cell_type": "code",
   "execution_count": 2,
   "id": "104402e9",
   "metadata": {
    "execution": {
     "iopub.execute_input": "2023-02-02T17:16:11.299593Z",
     "iopub.status.busy": "2023-02-02T17:16:11.299226Z",
     "iopub.status.idle": "2023-02-02T17:16:11.303212Z",
     "shell.execute_reply": "2023-02-02T17:16:11.302477Z"
    },
    "papermill": {
     "duration": 0.027497,
     "end_time": "2023-02-02T17:16:11.305252",
     "exception": false,
     "start_time": "2023-02-02T17:16:11.277755",
     "status": "completed"
    },
    "tags": []
   },
   "outputs": [],
   "source": [
    "# Code start :"
   ]
  },
  {
   "cell_type": "code",
   "execution_count": 3,
   "id": "755c6503",
   "metadata": {
    "execution": {
     "iopub.execute_input": "2023-02-02T17:16:11.347124Z",
     "iopub.status.busy": "2023-02-02T17:16:11.346181Z",
     "iopub.status.idle": "2023-02-02T17:16:11.386142Z",
     "shell.execute_reply": "2023-02-02T17:16:11.385003Z"
    },
    "papermill": {
     "duration": 0.0639,
     "end_time": "2023-02-02T17:16:11.388994",
     "exception": false,
     "start_time": "2023-02-02T17:16:11.325094",
     "status": "completed"
    },
    "tags": []
   },
   "outputs": [],
   "source": [
    "data=pd.read_csv('/kaggle/input/home-data-for-ml-course/train.csv')"
   ]
  },
  {
   "cell_type": "code",
   "execution_count": 4,
   "id": "5e6a41ae",
   "metadata": {
    "execution": {
     "iopub.execute_input": "2023-02-02T17:16:11.430653Z",
     "iopub.status.busy": "2023-02-02T17:16:11.429920Z",
     "iopub.status.idle": "2023-02-02T17:16:11.468933Z",
     "shell.execute_reply": "2023-02-02T17:16:11.467857Z"
    },
    "papermill": {
     "duration": 0.062958,
     "end_time": "2023-02-02T17:16:11.471505",
     "exception": false,
     "start_time": "2023-02-02T17:16:11.408547",
     "status": "completed"
    },
    "tags": []
   },
   "outputs": [
    {
     "data": {
      "text/html": [
       "<div>\n",
       "<style scoped>\n",
       "    .dataframe tbody tr th:only-of-type {\n",
       "        vertical-align: middle;\n",
       "    }\n",
       "\n",
       "    .dataframe tbody tr th {\n",
       "        vertical-align: top;\n",
       "    }\n",
       "\n",
       "    .dataframe thead th {\n",
       "        text-align: right;\n",
       "    }\n",
       "</style>\n",
       "<table border=\"1\" class=\"dataframe\">\n",
       "  <thead>\n",
       "    <tr style=\"text-align: right;\">\n",
       "      <th></th>\n",
       "      <th>Id</th>\n",
       "      <th>MSSubClass</th>\n",
       "      <th>MSZoning</th>\n",
       "      <th>LotFrontage</th>\n",
       "      <th>LotArea</th>\n",
       "      <th>Street</th>\n",
       "      <th>Alley</th>\n",
       "      <th>LotShape</th>\n",
       "      <th>LandContour</th>\n",
       "      <th>Utilities</th>\n",
       "      <th>...</th>\n",
       "      <th>PoolArea</th>\n",
       "      <th>PoolQC</th>\n",
       "      <th>Fence</th>\n",
       "      <th>MiscFeature</th>\n",
       "      <th>MiscVal</th>\n",
       "      <th>MoSold</th>\n",
       "      <th>YrSold</th>\n",
       "      <th>SaleType</th>\n",
       "      <th>SaleCondition</th>\n",
       "      <th>SalePrice</th>\n",
       "    </tr>\n",
       "  </thead>\n",
       "  <tbody>\n",
       "    <tr>\n",
       "      <th>0</th>\n",
       "      <td>1</td>\n",
       "      <td>60</td>\n",
       "      <td>RL</td>\n",
       "      <td>65.0</td>\n",
       "      <td>8450</td>\n",
       "      <td>Pave</td>\n",
       "      <td>NaN</td>\n",
       "      <td>Reg</td>\n",
       "      <td>Lvl</td>\n",
       "      <td>AllPub</td>\n",
       "      <td>...</td>\n",
       "      <td>0</td>\n",
       "      <td>NaN</td>\n",
       "      <td>NaN</td>\n",
       "      <td>NaN</td>\n",
       "      <td>0</td>\n",
       "      <td>2</td>\n",
       "      <td>2008</td>\n",
       "      <td>WD</td>\n",
       "      <td>Normal</td>\n",
       "      <td>208500</td>\n",
       "    </tr>\n",
       "    <tr>\n",
       "      <th>1</th>\n",
       "      <td>2</td>\n",
       "      <td>20</td>\n",
       "      <td>RL</td>\n",
       "      <td>80.0</td>\n",
       "      <td>9600</td>\n",
       "      <td>Pave</td>\n",
       "      <td>NaN</td>\n",
       "      <td>Reg</td>\n",
       "      <td>Lvl</td>\n",
       "      <td>AllPub</td>\n",
       "      <td>...</td>\n",
       "      <td>0</td>\n",
       "      <td>NaN</td>\n",
       "      <td>NaN</td>\n",
       "      <td>NaN</td>\n",
       "      <td>0</td>\n",
       "      <td>5</td>\n",
       "      <td>2007</td>\n",
       "      <td>WD</td>\n",
       "      <td>Normal</td>\n",
       "      <td>181500</td>\n",
       "    </tr>\n",
       "    <tr>\n",
       "      <th>2</th>\n",
       "      <td>3</td>\n",
       "      <td>60</td>\n",
       "      <td>RL</td>\n",
       "      <td>68.0</td>\n",
       "      <td>11250</td>\n",
       "      <td>Pave</td>\n",
       "      <td>NaN</td>\n",
       "      <td>IR1</td>\n",
       "      <td>Lvl</td>\n",
       "      <td>AllPub</td>\n",
       "      <td>...</td>\n",
       "      <td>0</td>\n",
       "      <td>NaN</td>\n",
       "      <td>NaN</td>\n",
       "      <td>NaN</td>\n",
       "      <td>0</td>\n",
       "      <td>9</td>\n",
       "      <td>2008</td>\n",
       "      <td>WD</td>\n",
       "      <td>Normal</td>\n",
       "      <td>223500</td>\n",
       "    </tr>\n",
       "    <tr>\n",
       "      <th>3</th>\n",
       "      <td>4</td>\n",
       "      <td>70</td>\n",
       "      <td>RL</td>\n",
       "      <td>60.0</td>\n",
       "      <td>9550</td>\n",
       "      <td>Pave</td>\n",
       "      <td>NaN</td>\n",
       "      <td>IR1</td>\n",
       "      <td>Lvl</td>\n",
       "      <td>AllPub</td>\n",
       "      <td>...</td>\n",
       "      <td>0</td>\n",
       "      <td>NaN</td>\n",
       "      <td>NaN</td>\n",
       "      <td>NaN</td>\n",
       "      <td>0</td>\n",
       "      <td>2</td>\n",
       "      <td>2006</td>\n",
       "      <td>WD</td>\n",
       "      <td>Abnorml</td>\n",
       "      <td>140000</td>\n",
       "    </tr>\n",
       "    <tr>\n",
       "      <th>4</th>\n",
       "      <td>5</td>\n",
       "      <td>60</td>\n",
       "      <td>RL</td>\n",
       "      <td>84.0</td>\n",
       "      <td>14260</td>\n",
       "      <td>Pave</td>\n",
       "      <td>NaN</td>\n",
       "      <td>IR1</td>\n",
       "      <td>Lvl</td>\n",
       "      <td>AllPub</td>\n",
       "      <td>...</td>\n",
       "      <td>0</td>\n",
       "      <td>NaN</td>\n",
       "      <td>NaN</td>\n",
       "      <td>NaN</td>\n",
       "      <td>0</td>\n",
       "      <td>12</td>\n",
       "      <td>2008</td>\n",
       "      <td>WD</td>\n",
       "      <td>Normal</td>\n",
       "      <td>250000</td>\n",
       "    </tr>\n",
       "  </tbody>\n",
       "</table>\n",
       "<p>5 rows × 81 columns</p>\n",
       "</div>"
      ],
      "text/plain": [
       "   Id  MSSubClass MSZoning  LotFrontage  LotArea Street Alley LotShape  \\\n",
       "0   1          60       RL         65.0     8450   Pave   NaN      Reg   \n",
       "1   2          20       RL         80.0     9600   Pave   NaN      Reg   \n",
       "2   3          60       RL         68.0    11250   Pave   NaN      IR1   \n",
       "3   4          70       RL         60.0     9550   Pave   NaN      IR1   \n",
       "4   5          60       RL         84.0    14260   Pave   NaN      IR1   \n",
       "\n",
       "  LandContour Utilities  ... PoolArea PoolQC Fence MiscFeature MiscVal MoSold  \\\n",
       "0         Lvl    AllPub  ...        0    NaN   NaN         NaN       0      2   \n",
       "1         Lvl    AllPub  ...        0    NaN   NaN         NaN       0      5   \n",
       "2         Lvl    AllPub  ...        0    NaN   NaN         NaN       0      9   \n",
       "3         Lvl    AllPub  ...        0    NaN   NaN         NaN       0      2   \n",
       "4         Lvl    AllPub  ...        0    NaN   NaN         NaN       0     12   \n",
       "\n",
       "  YrSold  SaleType  SaleCondition  SalePrice  \n",
       "0   2008        WD         Normal     208500  \n",
       "1   2007        WD         Normal     181500  \n",
       "2   2008        WD         Normal     223500  \n",
       "3   2006        WD        Abnorml     140000  \n",
       "4   2008        WD         Normal     250000  \n",
       "\n",
       "[5 rows x 81 columns]"
      ]
     },
     "execution_count": 4,
     "metadata": {},
     "output_type": "execute_result"
    }
   ],
   "source": [
    "data.head()"
   ]
  },
  {
   "cell_type": "markdown",
   "id": "c3d770aa",
   "metadata": {
    "papermill": {
     "duration": 0.019292,
     "end_time": "2023-02-02T17:16:11.510806",
     "exception": false,
     "start_time": "2023-02-02T17:16:11.491514",
     "status": "completed"
    },
    "tags": []
   },
   "source": [
    "***"
   ]
  },
  {
   "cell_type": "code",
   "execution_count": 5,
   "id": "3f0968ab",
   "metadata": {
    "execution": {
     "iopub.execute_input": "2023-02-02T17:16:11.551743Z",
     "iopub.status.busy": "2023-02-02T17:16:11.551335Z",
     "iopub.status.idle": "2023-02-02T17:16:11.555764Z",
     "shell.execute_reply": "2023-02-02T17:16:11.554641Z"
    },
    "papermill": {
     "duration": 0.027438,
     "end_time": "2023-02-02T17:16:11.557854",
     "exception": false,
     "start_time": "2023-02-02T17:16:11.530416",
     "status": "completed"
    },
    "tags": []
   },
   "outputs": [],
   "source": [
    "#CLEANING DATA"
   ]
  },
  {
   "cell_type": "code",
   "execution_count": 6,
   "id": "9bf93118",
   "metadata": {
    "execution": {
     "iopub.execute_input": "2023-02-02T17:16:11.600355Z",
     "iopub.status.busy": "2023-02-02T17:16:11.599649Z",
     "iopub.status.idle": "2023-02-02T17:16:11.626062Z",
     "shell.execute_reply": "2023-02-02T17:16:11.625074Z"
    },
    "papermill": {
     "duration": 0.050778,
     "end_time": "2023-02-02T17:16:11.629198",
     "exception": false,
     "start_time": "2023-02-02T17:16:11.578420",
     "status": "completed"
    },
    "tags": []
   },
   "outputs": [
    {
     "name": "stdout",
     "output_type": "stream",
     "text": [
      "<class 'pandas.core.frame.DataFrame'>\n",
      "RangeIndex: 1460 entries, 0 to 1459\n",
      "Data columns (total 81 columns):\n",
      " #   Column         Non-Null Count  Dtype  \n",
      "---  ------         --------------  -----  \n",
      " 0   Id             1460 non-null   int64  \n",
      " 1   MSSubClass     1460 non-null   int64  \n",
      " 2   MSZoning       1460 non-null   object \n",
      " 3   LotFrontage    1201 non-null   float64\n",
      " 4   LotArea        1460 non-null   int64  \n",
      " 5   Street         1460 non-null   object \n",
      " 6   Alley          91 non-null     object \n",
      " 7   LotShape       1460 non-null   object \n",
      " 8   LandContour    1460 non-null   object \n",
      " 9   Utilities      1460 non-null   object \n",
      " 10  LotConfig      1460 non-null   object \n",
      " 11  LandSlope      1460 non-null   object \n",
      " 12  Neighborhood   1460 non-null   object \n",
      " 13  Condition1     1460 non-null   object \n",
      " 14  Condition2     1460 non-null   object \n",
      " 15  BldgType       1460 non-null   object \n",
      " 16  HouseStyle     1460 non-null   object \n",
      " 17  OverallQual    1460 non-null   int64  \n",
      " 18  OverallCond    1460 non-null   int64  \n",
      " 19  YearBuilt      1460 non-null   int64  \n",
      " 20  YearRemodAdd   1460 non-null   int64  \n",
      " 21  RoofStyle      1460 non-null   object \n",
      " 22  RoofMatl       1460 non-null   object \n",
      " 23  Exterior1st    1460 non-null   object \n",
      " 24  Exterior2nd    1460 non-null   object \n",
      " 25  MasVnrType     1452 non-null   object \n",
      " 26  MasVnrArea     1452 non-null   float64\n",
      " 27  ExterQual      1460 non-null   object \n",
      " 28  ExterCond      1460 non-null   object \n",
      " 29  Foundation     1460 non-null   object \n",
      " 30  BsmtQual       1423 non-null   object \n",
      " 31  BsmtCond       1423 non-null   object \n",
      " 32  BsmtExposure   1422 non-null   object \n",
      " 33  BsmtFinType1   1423 non-null   object \n",
      " 34  BsmtFinSF1     1460 non-null   int64  \n",
      " 35  BsmtFinType2   1422 non-null   object \n",
      " 36  BsmtFinSF2     1460 non-null   int64  \n",
      " 37  BsmtUnfSF      1460 non-null   int64  \n",
      " 38  TotalBsmtSF    1460 non-null   int64  \n",
      " 39  Heating        1460 non-null   object \n",
      " 40  HeatingQC      1460 non-null   object \n",
      " 41  CentralAir     1460 non-null   object \n",
      " 42  Electrical     1459 non-null   object \n",
      " 43  1stFlrSF       1460 non-null   int64  \n",
      " 44  2ndFlrSF       1460 non-null   int64  \n",
      " 45  LowQualFinSF   1460 non-null   int64  \n",
      " 46  GrLivArea      1460 non-null   int64  \n",
      " 47  BsmtFullBath   1460 non-null   int64  \n",
      " 48  BsmtHalfBath   1460 non-null   int64  \n",
      " 49  FullBath       1460 non-null   int64  \n",
      " 50  HalfBath       1460 non-null   int64  \n",
      " 51  BedroomAbvGr   1460 non-null   int64  \n",
      " 52  KitchenAbvGr   1460 non-null   int64  \n",
      " 53  KitchenQual    1460 non-null   object \n",
      " 54  TotRmsAbvGrd   1460 non-null   int64  \n",
      " 55  Functional     1460 non-null   object \n",
      " 56  Fireplaces     1460 non-null   int64  \n",
      " 57  FireplaceQu    770 non-null    object \n",
      " 58  GarageType     1379 non-null   object \n",
      " 59  GarageYrBlt    1379 non-null   float64\n",
      " 60  GarageFinish   1379 non-null   object \n",
      " 61  GarageCars     1460 non-null   int64  \n",
      " 62  GarageArea     1460 non-null   int64  \n",
      " 63  GarageQual     1379 non-null   object \n",
      " 64  GarageCond     1379 non-null   object \n",
      " 65  PavedDrive     1460 non-null   object \n",
      " 66  WoodDeckSF     1460 non-null   int64  \n",
      " 67  OpenPorchSF    1460 non-null   int64  \n",
      " 68  EnclosedPorch  1460 non-null   int64  \n",
      " 69  3SsnPorch      1460 non-null   int64  \n",
      " 70  ScreenPorch    1460 non-null   int64  \n",
      " 71  PoolArea       1460 non-null   int64  \n",
      " 72  PoolQC         7 non-null      object \n",
      " 73  Fence          281 non-null    object \n",
      " 74  MiscFeature    54 non-null     object \n",
      " 75  MiscVal        1460 non-null   int64  \n",
      " 76  MoSold         1460 non-null   int64  \n",
      " 77  YrSold         1460 non-null   int64  \n",
      " 78  SaleType       1460 non-null   object \n",
      " 79  SaleCondition  1460 non-null   object \n",
      " 80  SalePrice      1460 non-null   int64  \n",
      "dtypes: float64(3), int64(35), object(43)\n",
      "memory usage: 924.0+ KB\n"
     ]
    }
   ],
   "source": [
    "data.info() #81 columns"
   ]
  },
  {
   "cell_type": "code",
   "execution_count": 7,
   "id": "3119f9df",
   "metadata": {
    "execution": {
     "iopub.execute_input": "2023-02-02T17:16:11.672567Z",
     "iopub.status.busy": "2023-02-02T17:16:11.671857Z",
     "iopub.status.idle": "2023-02-02T17:16:12.527131Z",
     "shell.execute_reply": "2023-02-02T17:16:12.525957Z"
    },
    "papermill": {
     "duration": 0.879716,
     "end_time": "2023-02-02T17:16:12.530063",
     "exception": false,
     "start_time": "2023-02-02T17:16:11.650347",
     "status": "completed"
    },
    "tags": []
   },
   "outputs": [],
   "source": [
    "import matplotlib.pyplot as plt\n",
    "import seaborn as sns\n",
    "%matplotlib inline"
   ]
  },
  {
   "cell_type": "code",
   "execution_count": 8,
   "id": "7625b2b2",
   "metadata": {
    "execution": {
     "iopub.execute_input": "2023-02-02T17:16:12.571288Z",
     "iopub.status.busy": "2023-02-02T17:16:12.570893Z",
     "iopub.status.idle": "2023-02-02T17:16:12.637925Z",
     "shell.execute_reply": "2023-02-02T17:16:12.636998Z"
    },
    "papermill": {
     "duration": 0.091625,
     "end_time": "2023-02-02T17:16:12.641745",
     "exception": false,
     "start_time": "2023-02-02T17:16:12.550120",
     "status": "completed"
    },
    "tags": []
   },
   "outputs": [
    {
     "name": "stdout",
     "output_type": "stream",
     "text": [
      "Index(['Street', 'LandContour', 'Utilities', 'LandSlope', 'Condition1',\n",
      "       'Condition2', 'BldgType', 'RoofMatl', 'ExterCond', 'BsmtCond',\n",
      "       'BsmtFinType2', 'BsmtFinSF2', 'Heating', 'CentralAir', 'Electrical',\n",
      "       'LowQualFinSF', 'BsmtHalfBath', 'KitchenAbvGr', 'Functional',\n",
      "       'GarageQual', 'GarageCond', 'PavedDrive', 'EnclosedPorch', '3SsnPorch',\n",
      "       'ScreenPorch', 'PoolArea', 'MiscFeature', 'MiscVal', 'SaleType',\n",
      "       'SaleCondition'],\n",
      "      dtype='object')\n"
     ]
    }
   ],
   "source": [
    "df=data.copy()\n",
    "#Filtering out columns with 80% of values identical\n",
    "columns_to_drop=df.columns[[sum(df[col]==df[col].mode()[0])/df[col].count()>0.8 for col in df.columns]]\n",
    "\n",
    "print(columns_to_drop)"
   ]
  },
  {
   "cell_type": "code",
   "execution_count": 9,
   "id": "72aadf38",
   "metadata": {
    "execution": {
     "iopub.execute_input": "2023-02-02T17:16:12.684825Z",
     "iopub.status.busy": "2023-02-02T17:16:12.684412Z",
     "iopub.status.idle": "2023-02-02T17:16:12.689036Z",
     "shell.execute_reply": "2023-02-02T17:16:12.687665Z"
    },
    "papermill": {
     "duration": 0.027934,
     "end_time": "2023-02-02T17:16:12.691260",
     "exception": false,
     "start_time": "2023-02-02T17:16:12.663326",
     "status": "completed"
    },
    "tags": []
   },
   "outputs": [],
   "source": [
    "#Visual check of the colums to drop\n",
    "#for col in columns_to_drop :\n",
    "#    sns.histplot(data=df,x=col)\n",
    "#    plt.show()"
   ]
  },
  {
   "cell_type": "code",
   "execution_count": 10,
   "id": "f23c5120",
   "metadata": {
    "execution": {
     "iopub.execute_input": "2023-02-02T17:16:12.732859Z",
     "iopub.status.busy": "2023-02-02T17:16:12.732439Z",
     "iopub.status.idle": "2023-02-02T17:16:12.740016Z",
     "shell.execute_reply": "2023-02-02T17:16:12.738834Z"
    },
    "papermill": {
     "duration": 0.030871,
     "end_time": "2023-02-02T17:16:12.742087",
     "exception": false,
     "start_time": "2023-02-02T17:16:12.711216",
     "status": "completed"
    },
    "tags": []
   },
   "outputs": [],
   "source": [
    "df=df.drop(columns_to_drop,axis=1)"
   ]
  },
  {
   "cell_type": "code",
   "execution_count": 11,
   "id": "01f4f9de",
   "metadata": {
    "execution": {
     "iopub.execute_input": "2023-02-02T17:16:12.784137Z",
     "iopub.status.busy": "2023-02-02T17:16:12.783507Z",
     "iopub.status.idle": "2023-02-02T17:16:12.789892Z",
     "shell.execute_reply": "2023-02-02T17:16:12.788755Z"
    },
    "papermill": {
     "duration": 0.029892,
     "end_time": "2023-02-02T17:16:12.792029",
     "exception": false,
     "start_time": "2023-02-02T17:16:12.762137",
     "status": "completed"
    },
    "tags": []
   },
   "outputs": [
    {
     "data": {
      "text/plain": [
       "Index(['Id', 'MSSubClass', 'MSZoning', 'LotFrontage', 'LotArea', 'Alley',\n",
       "       'LotShape', 'LotConfig', 'Neighborhood', 'HouseStyle', 'OverallQual',\n",
       "       'OverallCond', 'YearBuilt', 'YearRemodAdd', 'RoofStyle', 'Exterior1st',\n",
       "       'Exterior2nd', 'MasVnrType', 'MasVnrArea', 'ExterQual', 'Foundation',\n",
       "       'BsmtQual', 'BsmtExposure', 'BsmtFinType1', 'BsmtFinSF1', 'BsmtUnfSF',\n",
       "       'TotalBsmtSF', 'HeatingQC', '1stFlrSF', '2ndFlrSF', 'GrLivArea',\n",
       "       'BsmtFullBath', 'FullBath', 'HalfBath', 'BedroomAbvGr', 'KitchenQual',\n",
       "       'TotRmsAbvGrd', 'Fireplaces', 'FireplaceQu', 'GarageType',\n",
       "       'GarageYrBlt', 'GarageFinish', 'GarageCars', 'GarageArea', 'WoodDeckSF',\n",
       "       'OpenPorchSF', 'PoolQC', 'Fence', 'MoSold', 'YrSold', 'SalePrice'],\n",
       "      dtype='object')"
      ]
     },
     "execution_count": 11,
     "metadata": {},
     "output_type": "execute_result"
    }
   ],
   "source": [
    "df.columns"
   ]
  },
  {
   "cell_type": "code",
   "execution_count": 12,
   "id": "83fcc949",
   "metadata": {
    "execution": {
     "iopub.execute_input": "2023-02-02T17:16:12.833724Z",
     "iopub.status.busy": "2023-02-02T17:16:12.833260Z",
     "iopub.status.idle": "2023-02-02T17:16:12.850750Z",
     "shell.execute_reply": "2023-02-02T17:16:12.849508Z"
    },
    "papermill": {
     "duration": 0.042296,
     "end_time": "2023-02-02T17:16:12.854365",
     "exception": false,
     "start_time": "2023-02-02T17:16:12.812069",
     "status": "completed"
    },
    "tags": []
   },
   "outputs": [
    {
     "name": "stdout",
     "output_type": "stream",
     "text": [
      "<class 'pandas.core.frame.DataFrame'>\n",
      "RangeIndex: 1460 entries, 0 to 1459\n",
      "Data columns (total 51 columns):\n",
      " #   Column        Non-Null Count  Dtype  \n",
      "---  ------        --------------  -----  \n",
      " 0   Id            1460 non-null   int64  \n",
      " 1   MSSubClass    1460 non-null   int64  \n",
      " 2   MSZoning      1460 non-null   object \n",
      " 3   LotFrontage   1201 non-null   float64\n",
      " 4   LotArea       1460 non-null   int64  \n",
      " 5   Alley         91 non-null     object \n",
      " 6   LotShape      1460 non-null   object \n",
      " 7   LotConfig     1460 non-null   object \n",
      " 8   Neighborhood  1460 non-null   object \n",
      " 9   HouseStyle    1460 non-null   object \n",
      " 10  OverallQual   1460 non-null   int64  \n",
      " 11  OverallCond   1460 non-null   int64  \n",
      " 12  YearBuilt     1460 non-null   int64  \n",
      " 13  YearRemodAdd  1460 non-null   int64  \n",
      " 14  RoofStyle     1460 non-null   object \n",
      " 15  Exterior1st   1460 non-null   object \n",
      " 16  Exterior2nd   1460 non-null   object \n",
      " 17  MasVnrType    1452 non-null   object \n",
      " 18  MasVnrArea    1452 non-null   float64\n",
      " 19  ExterQual     1460 non-null   object \n",
      " 20  Foundation    1460 non-null   object \n",
      " 21  BsmtQual      1423 non-null   object \n",
      " 22  BsmtExposure  1422 non-null   object \n",
      " 23  BsmtFinType1  1423 non-null   object \n",
      " 24  BsmtFinSF1    1460 non-null   int64  \n",
      " 25  BsmtUnfSF     1460 non-null   int64  \n",
      " 26  TotalBsmtSF   1460 non-null   int64  \n",
      " 27  HeatingQC     1460 non-null   object \n",
      " 28  1stFlrSF      1460 non-null   int64  \n",
      " 29  2ndFlrSF      1460 non-null   int64  \n",
      " 30  GrLivArea     1460 non-null   int64  \n",
      " 31  BsmtFullBath  1460 non-null   int64  \n",
      " 32  FullBath      1460 non-null   int64  \n",
      " 33  HalfBath      1460 non-null   int64  \n",
      " 34  BedroomAbvGr  1460 non-null   int64  \n",
      " 35  KitchenQual   1460 non-null   object \n",
      " 36  TotRmsAbvGrd  1460 non-null   int64  \n",
      " 37  Fireplaces    1460 non-null   int64  \n",
      " 38  FireplaceQu   770 non-null    object \n",
      " 39  GarageType    1379 non-null   object \n",
      " 40  GarageYrBlt   1379 non-null   float64\n",
      " 41  GarageFinish  1379 non-null   object \n",
      " 42  GarageCars    1460 non-null   int64  \n",
      " 43  GarageArea    1460 non-null   int64  \n",
      " 44  WoodDeckSF    1460 non-null   int64  \n",
      " 45  OpenPorchSF   1460 non-null   int64  \n",
      " 46  PoolQC        7 non-null      object \n",
      " 47  Fence         281 non-null    object \n",
      " 48  MoSold        1460 non-null   int64  \n",
      " 49  YrSold        1460 non-null   int64  \n",
      " 50  SalePrice     1460 non-null   int64  \n",
      "dtypes: float64(3), int64(26), object(22)\n",
      "memory usage: 581.8+ KB\n"
     ]
    }
   ],
   "source": [
    "df.info() #51 columns"
   ]
  },
  {
   "cell_type": "code",
   "execution_count": 13,
   "id": "0e35f70e",
   "metadata": {
    "execution": {
     "iopub.execute_input": "2023-02-02T17:16:12.898859Z",
     "iopub.status.busy": "2023-02-02T17:16:12.898175Z",
     "iopub.status.idle": "2023-02-02T17:16:12.916123Z",
     "shell.execute_reply": "2023-02-02T17:16:12.915379Z"
    },
    "papermill": {
     "duration": 0.042519,
     "end_time": "2023-02-02T17:16:12.918714",
     "exception": false,
     "start_time": "2023-02-02T17:16:12.876195",
     "status": "completed"
    },
    "tags": []
   },
   "outputs": [
    {
     "name": "stdout",
     "output_type": "stream",
     "text": [
      "Index(['Alley', 'FireplaceQu', 'PoolQC', 'Fence'], dtype='object')\n"
     ]
    }
   ],
   "source": [
    "#Filtering out columns with 80% of nan\n",
    "columns_to_drop2=df.columns[[df[col].isna().sum()/df[col].count()>0.8 for col in df.columns]]\n",
    "\n",
    "print(columns_to_drop2)"
   ]
  },
  {
   "cell_type": "code",
   "execution_count": 14,
   "id": "aff38f11",
   "metadata": {
    "execution": {
     "iopub.execute_input": "2023-02-02T17:16:12.968262Z",
     "iopub.status.busy": "2023-02-02T17:16:12.967205Z",
     "iopub.status.idle": "2023-02-02T17:16:12.973898Z",
     "shell.execute_reply": "2023-02-02T17:16:12.972668Z"
    },
    "papermill": {
     "duration": 0.037573,
     "end_time": "2023-02-02T17:16:12.977130",
     "exception": false,
     "start_time": "2023-02-02T17:16:12.939557",
     "status": "completed"
    },
    "tags": []
   },
   "outputs": [],
   "source": [
    "df=df.drop(columns_to_drop2,axis=1)"
   ]
  },
  {
   "cell_type": "code",
   "execution_count": 15,
   "id": "0fe89e58",
   "metadata": {
    "execution": {
     "iopub.execute_input": "2023-02-02T17:16:13.026791Z",
     "iopub.status.busy": "2023-02-02T17:16:13.026013Z",
     "iopub.status.idle": "2023-02-02T17:16:13.045067Z",
     "shell.execute_reply": "2023-02-02T17:16:13.042779Z"
    },
    "papermill": {
     "duration": 0.0458,
     "end_time": "2023-02-02T17:16:13.047469",
     "exception": false,
     "start_time": "2023-02-02T17:16:13.001669",
     "status": "completed"
    },
    "tags": []
   },
   "outputs": [
    {
     "name": "stdout",
     "output_type": "stream",
     "text": [
      "<class 'pandas.core.frame.DataFrame'>\n",
      "RangeIndex: 1460 entries, 0 to 1459\n",
      "Data columns (total 47 columns):\n",
      " #   Column        Non-Null Count  Dtype  \n",
      "---  ------        --------------  -----  \n",
      " 0   Id            1460 non-null   int64  \n",
      " 1   MSSubClass    1460 non-null   int64  \n",
      " 2   MSZoning      1460 non-null   object \n",
      " 3   LotFrontage   1201 non-null   float64\n",
      " 4   LotArea       1460 non-null   int64  \n",
      " 5   LotShape      1460 non-null   object \n",
      " 6   LotConfig     1460 non-null   object \n",
      " 7   Neighborhood  1460 non-null   object \n",
      " 8   HouseStyle    1460 non-null   object \n",
      " 9   OverallQual   1460 non-null   int64  \n",
      " 10  OverallCond   1460 non-null   int64  \n",
      " 11  YearBuilt     1460 non-null   int64  \n",
      " 12  YearRemodAdd  1460 non-null   int64  \n",
      " 13  RoofStyle     1460 non-null   object \n",
      " 14  Exterior1st   1460 non-null   object \n",
      " 15  Exterior2nd   1460 non-null   object \n",
      " 16  MasVnrType    1452 non-null   object \n",
      " 17  MasVnrArea    1452 non-null   float64\n",
      " 18  ExterQual     1460 non-null   object \n",
      " 19  Foundation    1460 non-null   object \n",
      " 20  BsmtQual      1423 non-null   object \n",
      " 21  BsmtExposure  1422 non-null   object \n",
      " 22  BsmtFinType1  1423 non-null   object \n",
      " 23  BsmtFinSF1    1460 non-null   int64  \n",
      " 24  BsmtUnfSF     1460 non-null   int64  \n",
      " 25  TotalBsmtSF   1460 non-null   int64  \n",
      " 26  HeatingQC     1460 non-null   object \n",
      " 27  1stFlrSF      1460 non-null   int64  \n",
      " 28  2ndFlrSF      1460 non-null   int64  \n",
      " 29  GrLivArea     1460 non-null   int64  \n",
      " 30  BsmtFullBath  1460 non-null   int64  \n",
      " 31  FullBath      1460 non-null   int64  \n",
      " 32  HalfBath      1460 non-null   int64  \n",
      " 33  BedroomAbvGr  1460 non-null   int64  \n",
      " 34  KitchenQual   1460 non-null   object \n",
      " 35  TotRmsAbvGrd  1460 non-null   int64  \n",
      " 36  Fireplaces    1460 non-null   int64  \n",
      " 37  GarageType    1379 non-null   object \n",
      " 38  GarageYrBlt   1379 non-null   float64\n",
      " 39  GarageFinish  1379 non-null   object \n",
      " 40  GarageCars    1460 non-null   int64  \n",
      " 41  GarageArea    1460 non-null   int64  \n",
      " 42  WoodDeckSF    1460 non-null   int64  \n",
      " 43  OpenPorchSF   1460 non-null   int64  \n",
      " 44  MoSold        1460 non-null   int64  \n",
      " 45  YrSold        1460 non-null   int64  \n",
      " 46  SalePrice     1460 non-null   int64  \n",
      "dtypes: float64(3), int64(26), object(18)\n",
      "memory usage: 536.2+ KB\n"
     ]
    }
   ],
   "source": [
    "df.info() #47 columns"
   ]
  },
  {
   "cell_type": "code",
   "execution_count": 16,
   "id": "cde899ac",
   "metadata": {
    "execution": {
     "iopub.execute_input": "2023-02-02T17:16:13.091251Z",
     "iopub.status.busy": "2023-02-02T17:16:13.090234Z",
     "iopub.status.idle": "2023-02-02T17:16:13.105758Z",
     "shell.execute_reply": "2023-02-02T17:16:13.104329Z"
    },
    "papermill": {
     "duration": 0.0403,
     "end_time": "2023-02-02T17:16:13.108666",
     "exception": false,
     "start_time": "2023-02-02T17:16:13.068366",
     "status": "completed"
    },
    "tags": []
   },
   "outputs": [
    {
     "name": "stdout",
     "output_type": "stream",
     "text": [
      "Index(['LotFrontage', 'MasVnrType', 'MasVnrArea', 'BsmtQual', 'BsmtExposure',\n",
      "       'BsmtFinType1', 'GarageType', 'GarageYrBlt', 'GarageFinish'],\n",
      "      dtype='object')\n"
     ]
    }
   ],
   "source": [
    "#Remaining columns with Nans\n",
    "columns_with_nan=df.columns[[df[col].isna().sum()>0 for col in df.columns]]\n",
    "print(columns_with_nan)"
   ]
  },
  {
   "cell_type": "code",
   "execution_count": 17,
   "id": "0d50afb5",
   "metadata": {
    "execution": {
     "iopub.execute_input": "2023-02-02T17:16:13.151790Z",
     "iopub.status.busy": "2023-02-02T17:16:13.151373Z",
     "iopub.status.idle": "2023-02-02T17:16:15.199278Z",
     "shell.execute_reply": "2023-02-02T17:16:15.198494Z"
    },
    "papermill": {
     "duration": 2.071899,
     "end_time": "2023-02-02T17:16:15.201407",
     "exception": false,
     "start_time": "2023-02-02T17:16:13.129508",
     "status": "completed"
    },
    "tags": []
   },
   "outputs": [
    {
     "data": {
      "image/png": "[encoded data removed]",
      "text/plain": [
       "<Figure size 432x288 with 1 Axes>"
      ]
     },
     "metadata": {
      "needs_background": "light"
     },
     "output_type": "display_data"
    },
    {
     "data": {
      "image/png": "[encoded data removed]",
      "text/plain": [
       "<Figure size 432x288 with 1 Axes>"
      ]
     },
     "metadata": {
      "needs_background": "light"
     },
     "output_type": "display_data"
    },
    {
     "data": {
      "image/png": "[encoded data removed]",
      "text/plain": [
       "<Figure size 432x288 with 1 Axes>"
      ]
     },
     "metadata": {
      "needs_background": "light"
     },
     "output_type": "display_data"
    },
    {
     "data": {
      "image/png": "[encoded data removed]",
      "text/plain": [
       "<Figure size 432x288 with 1 Axes>"
      ]
     },
     "metadata": {
      "needs_background": "light"
     },
     "output_type": "display_data"
    },
    {
     "data": {
      "image/png": "[encoded data removed]",
      "text/plain": [
       "<Figure size 432x288 with 1 Axes>"
      ]
     },
     "metadata": {
      "needs_background": "light"
     },
     "output_type": "display_data"
    },
    {
     "data": {
      "image/png": "[encoded data removed]",
      "text/plain": [
       "<Figure size 432x288 with 1 Axes>"
      ]
     },
     "metadata": {
      "needs_background": "light"
     },
     "output_type": "display_data"
    },
    {
     "data": {
      "image/png": "[encoded data removed]",
      "text/plain": [
       "<Figure size 432x288 with 1 Axes>"
      ]
     },
     "metadata": {
      "needs_background": "light"
     },
     "output_type": "display_data"
    },
    {
     "data": {
      "image/png": "[encoded data removed]",
      "text/plain": [
       "<Figure size 432x288 with 1 Axes>"
      ]
     },
     "metadata": {
      "needs_background": "light"
     },
     "output_type": "display_data"
    },
    {
     "data": {
      "image/png": "[encoded data removed]",
      "text/plain": [
       "<Figure size 432x288 with 1 Axes>"
      ]
     },
     "metadata": {
      "needs_background": "light"
     },
     "output_type": "display_data"
    }
   ],
   "source": [
    "#Visual check of the colums with Nans\n",
    "for col in columns_with_nan :\n",
    "    sns.histplot(data=df,x=col)\n",
    "    plt.show()"
   ]
  },
  {
   "cell_type": "code",
   "execution_count": 18,
   "id": "180d28a5",
   "metadata": {
    "execution": {
     "iopub.execute_input": "2023-02-02T17:16:15.249194Z",
     "iopub.status.busy": "2023-02-02T17:16:15.248486Z",
     "iopub.status.idle": "2023-02-02T17:16:15.255666Z",
     "shell.execute_reply": "2023-02-02T17:16:15.254913Z"
    },
    "papermill": {
     "duration": 0.03326,
     "end_time": "2023-02-02T17:16:15.257642",
     "exception": false,
     "start_time": "2023-02-02T17:16:15.224382",
     "status": "completed"
    },
    "tags": []
   },
   "outputs": [
    {
     "data": {
      "text/plain": [
       "array([nan])"
      ]
     },
     "execution_count": 18,
     "metadata": {},
     "output_type": "execute_result"
    }
   ],
   "source": [
    "df[df.MasVnrType.isna()].MasVnrArea.unique()  \n",
    "#all nans in MasVnrType correspond to nan in MasVnrArea ->will be filled with \"None\""
   ]
  },
  {
   "cell_type": "code",
   "execution_count": 19,
   "id": "cce16bc0",
   "metadata": {
    "execution": {
     "iopub.execute_input": "2023-02-02T17:16:15.305454Z",
     "iopub.status.busy": "2023-02-02T17:16:15.304771Z",
     "iopub.status.idle": "2023-02-02T17:16:15.311837Z",
     "shell.execute_reply": "2023-02-02T17:16:15.310855Z"
    },
    "papermill": {
     "duration": 0.033431,
     "end_time": "2023-02-02T17:16:15.313911",
     "exception": false,
     "start_time": "2023-02-02T17:16:15.280480",
     "status": "completed"
    },
    "tags": []
   },
   "outputs": [
    {
     "data": {
      "text/plain": [
       "array([nan], dtype=object)"
      ]
     },
     "execution_count": 19,
     "metadata": {},
     "output_type": "execute_result"
    }
   ],
   "source": [
    "df[df.MasVnrArea.isna()].MasVnrType.unique() \n",
    "#all nans in MasVnrArea correspond to nan in MasVnrType -> will be filled with 0"
   ]
  },
  {
   "cell_type": "code",
   "execution_count": 20,
   "id": "1dde7323",
   "metadata": {
    "execution": {
     "iopub.execute_input": "2023-02-02T17:16:15.361154Z",
     "iopub.status.busy": "2023-02-02T17:16:15.360469Z",
     "iopub.status.idle": "2023-02-02T17:16:15.370441Z",
     "shell.execute_reply": "2023-02-02T17:16:15.369727Z"
    },
    "papermill": {
     "duration": 0.035934,
     "end_time": "2023-02-02T17:16:15.372514",
     "exception": false,
     "start_time": "2023-02-02T17:16:15.336580",
     "status": "completed"
    },
    "tags": []
   },
   "outputs": [
    {
     "data": {
      "text/plain": [
       "count    37.0\n",
       "mean      0.0\n",
       "std       0.0\n",
       "min       0.0\n",
       "25%       0.0\n",
       "50%       0.0\n",
       "75%       0.0\n",
       "max       0.0\n",
       "Name: TotalBsmtSF, dtype: float64"
      ]
     },
     "execution_count": 20,
     "metadata": {},
     "output_type": "execute_result"
    }
   ],
   "source": [
    "df[df.BsmtQual.isna()].TotalBsmtSF.describe() \n",
    "#all nans correspond to a surface of 0."
   ]
  },
  {
   "cell_type": "code",
   "execution_count": 21,
   "id": "e0970c08",
   "metadata": {
    "execution": {
     "iopub.execute_input": "2023-02-02T17:16:15.420250Z",
     "iopub.status.busy": "2023-02-02T17:16:15.419856Z",
     "iopub.status.idle": "2023-02-02T17:16:15.438310Z",
     "shell.execute_reply": "2023-02-02T17:16:15.436338Z"
    },
    "papermill": {
     "duration": 0.04547,
     "end_time": "2023-02-02T17:16:15.440816",
     "exception": false,
     "start_time": "2023-02-02T17:16:15.395346",
     "status": "completed"
    },
    "tags": []
   },
   "outputs": [
    {
     "name": "stdout",
     "output_type": "stream",
     "text": [
      "<class 'pandas.core.frame.DataFrame'>\n",
      "Int64Index: 37 entries, 17 to 1412\n",
      "Data columns (total 47 columns):\n",
      " #   Column        Non-Null Count  Dtype  \n",
      "---  ------        --------------  -----  \n",
      " 0   Id            37 non-null     int64  \n",
      " 1   MSSubClass    37 non-null     int64  \n",
      " 2   MSZoning      37 non-null     object \n",
      " 3   LotFrontage   31 non-null     float64\n",
      " 4   LotArea       37 non-null     int64  \n",
      " 5   LotShape      37 non-null     object \n",
      " 6   LotConfig     37 non-null     object \n",
      " 7   Neighborhood  37 non-null     object \n",
      " 8   HouseStyle    37 non-null     object \n",
      " 9   OverallQual   37 non-null     int64  \n",
      " 10  OverallCond   37 non-null     int64  \n",
      " 11  YearBuilt     37 non-null     int64  \n",
      " 12  YearRemodAdd  37 non-null     int64  \n",
      " 13  RoofStyle     37 non-null     object \n",
      " 14  Exterior1st   37 non-null     object \n",
      " 15  Exterior2nd   37 non-null     object \n",
      " 16  MasVnrType    37 non-null     object \n",
      " 17  MasVnrArea    37 non-null     float64\n",
      " 18  ExterQual     37 non-null     object \n",
      " 19  Foundation    37 non-null     object \n",
      " 20  BsmtQual      0 non-null      object \n",
      " 21  BsmtExposure  0 non-null      object \n",
      " 22  BsmtFinType1  0 non-null      object \n",
      " 23  BsmtFinSF1    37 non-null     int64  \n",
      " 24  BsmtUnfSF     37 non-null     int64  \n",
      " 25  TotalBsmtSF   37 non-null     int64  \n",
      " 26  HeatingQC     37 non-null     object \n",
      " 27  1stFlrSF      37 non-null     int64  \n",
      " 28  2ndFlrSF      37 non-null     int64  \n",
      " 29  GrLivArea     37 non-null     int64  \n",
      " 30  BsmtFullBath  37 non-null     int64  \n",
      " 31  FullBath      37 non-null     int64  \n",
      " 32  HalfBath      37 non-null     int64  \n",
      " 33  BedroomAbvGr  37 non-null     int64  \n",
      " 34  KitchenQual   37 non-null     object \n",
      " 35  TotRmsAbvGrd  37 non-null     int64  \n",
      " 36  Fireplaces    37 non-null     int64  \n",
      " 37  GarageType    30 non-null     object \n",
      " 38  GarageYrBlt   30 non-null     float64\n",
      " 39  GarageFinish  30 non-null     object \n",
      " 40  GarageCars    37 non-null     int64  \n",
      " 41  GarageArea    37 non-null     int64  \n",
      " 42  WoodDeckSF    37 non-null     int64  \n",
      " 43  OpenPorchSF   37 non-null     int64  \n",
      " 44  MoSold        37 non-null     int64  \n",
      " 45  YrSold        37 non-null     int64  \n",
      " 46  SalePrice     37 non-null     int64  \n",
      "dtypes: float64(3), int64(26), object(18)\n",
      "memory usage: 13.9+ KB\n"
     ]
    }
   ],
   "source": [
    "df[df.BsmtQual.isna()].info()\n",
    "#other related features are also nan -> BsmtQual nans will be filled with  \"NA\" (No Basement)"
   ]
  },
  {
   "cell_type": "code",
   "execution_count": 22,
   "id": "5649075c",
   "metadata": {
    "execution": {
     "iopub.execute_input": "2023-02-02T17:16:15.489183Z",
     "iopub.status.busy": "2023-02-02T17:16:15.488396Z",
     "iopub.status.idle": "2023-02-02T17:16:15.504222Z",
     "shell.execute_reply": "2023-02-02T17:16:15.502740Z"
    },
    "papermill": {
     "duration": 0.043403,
     "end_time": "2023-02-02T17:16:15.507434",
     "exception": false,
     "start_time": "2023-02-02T17:16:15.464031",
     "status": "completed"
    },
    "tags": []
   },
   "outputs": [
    {
     "name": "stdout",
     "output_type": "stream",
     "text": [
      "<class 'pandas.core.frame.DataFrame'>\n",
      "Int64Index: 38 entries, 17 to 1412\n",
      "Data columns (total 47 columns):\n",
      " #   Column        Non-Null Count  Dtype  \n",
      "---  ------        --------------  -----  \n",
      " 0   Id            38 non-null     int64  \n",
      " 1   MSSubClass    38 non-null     int64  \n",
      " 2   MSZoning      38 non-null     object \n",
      " 3   LotFrontage   32 non-null     float64\n",
      " 4   LotArea       38 non-null     int64  \n",
      " 5   LotShape      38 non-null     object \n",
      " 6   LotConfig     38 non-null     object \n",
      " 7   Neighborhood  38 non-null     object \n",
      " 8   HouseStyle    38 non-null     object \n",
      " 9   OverallQual   38 non-null     int64  \n",
      " 10  OverallCond   38 non-null     int64  \n",
      " 11  YearBuilt     38 non-null     int64  \n",
      " 12  YearRemodAdd  38 non-null     int64  \n",
      " 13  RoofStyle     38 non-null     object \n",
      " 14  Exterior1st   38 non-null     object \n",
      " 15  Exterior2nd   38 non-null     object \n",
      " 16  MasVnrType    38 non-null     object \n",
      " 17  MasVnrArea    38 non-null     float64\n",
      " 18  ExterQual     38 non-null     object \n",
      " 19  Foundation    38 non-null     object \n",
      " 20  BsmtQual      1 non-null      object \n",
      " 21  BsmtExposure  0 non-null      object \n",
      " 22  BsmtFinType1  1 non-null      object \n",
      " 23  BsmtFinSF1    38 non-null     int64  \n",
      " 24  BsmtUnfSF     38 non-null     int64  \n",
      " 25  TotalBsmtSF   38 non-null     int64  \n",
      " 26  HeatingQC     38 non-null     object \n",
      " 27  1stFlrSF      38 non-null     int64  \n",
      " 28  2ndFlrSF      38 non-null     int64  \n",
      " 29  GrLivArea     38 non-null     int64  \n",
      " 30  BsmtFullBath  38 non-null     int64  \n",
      " 31  FullBath      38 non-null     int64  \n",
      " 32  HalfBath      38 non-null     int64  \n",
      " 33  BedroomAbvGr  38 non-null     int64  \n",
      " 34  KitchenQual   38 non-null     object \n",
      " 35  TotRmsAbvGrd  38 non-null     int64  \n",
      " 36  Fireplaces    38 non-null     int64  \n",
      " 37  GarageType    31 non-null     object \n",
      " 38  GarageYrBlt   31 non-null     float64\n",
      " 39  GarageFinish  31 non-null     object \n",
      " 40  GarageCars    38 non-null     int64  \n",
      " 41  GarageArea    38 non-null     int64  \n",
      " 42  WoodDeckSF    38 non-null     int64  \n",
      " 43  OpenPorchSF   38 non-null     int64  \n",
      " 44  MoSold        38 non-null     int64  \n",
      " 45  YrSold        38 non-null     int64  \n",
      " 46  SalePrice     38 non-null     int64  \n",
      "dtypes: float64(3), int64(26), object(18)\n",
      "memory usage: 14.2+ KB\n"
     ]
    }
   ],
   "source": [
    "df[df.BsmtExposure.isna()].info() #1 non nan in BsmtQual \n",
    "# BsmtQual (Gd=Good), BsmtFinType1 (Unf=Unfinshed), BsmtUnfSF>0 ->will be filled with \"No\" (No exposure)\n",
    "# rest of nans will be filled with \"NA\" No Basement"
   ]
  },
  {
   "cell_type": "code",
   "execution_count": 23,
   "id": "38a84234",
   "metadata": {
    "execution": {
     "iopub.execute_input": "2023-02-02T17:16:15.556205Z",
     "iopub.status.busy": "2023-02-02T17:16:15.555775Z",
     "iopub.status.idle": "2023-02-02T17:16:15.571082Z",
     "shell.execute_reply": "2023-02-02T17:16:15.570115Z"
    },
    "papermill": {
     "duration": 0.042428,
     "end_time": "2023-02-02T17:16:15.573704",
     "exception": false,
     "start_time": "2023-02-02T17:16:15.531276",
     "status": "completed"
    },
    "tags": []
   },
   "outputs": [
    {
     "name": "stdout",
     "output_type": "stream",
     "text": [
      "<class 'pandas.core.frame.DataFrame'>\n",
      "Int64Index: 37 entries, 17 to 1412\n",
      "Data columns (total 47 columns):\n",
      " #   Column        Non-Null Count  Dtype  \n",
      "---  ------        --------------  -----  \n",
      " 0   Id            37 non-null     int64  \n",
      " 1   MSSubClass    37 non-null     int64  \n",
      " 2   MSZoning      37 non-null     object \n",
      " 3   LotFrontage   31 non-null     float64\n",
      " 4   LotArea       37 non-null     int64  \n",
      " 5   LotShape      37 non-null     object \n",
      " 6   LotConfig     37 non-null     object \n",
      " 7   Neighborhood  37 non-null     object \n",
      " 8   HouseStyle    37 non-null     object \n",
      " 9   OverallQual   37 non-null     int64  \n",
      " 10  OverallCond   37 non-null     int64  \n",
      " 11  YearBuilt     37 non-null     int64  \n",
      " 12  YearRemodAdd  37 non-null     int64  \n",
      " 13  RoofStyle     37 non-null     object \n",
      " 14  Exterior1st   37 non-null     object \n",
      " 15  Exterior2nd   37 non-null     object \n",
      " 16  MasVnrType    37 non-null     object \n",
      " 17  MasVnrArea    37 non-null     float64\n",
      " 18  ExterQual     37 non-null     object \n",
      " 19  Foundation    37 non-null     object \n",
      " 20  BsmtQual      0 non-null      object \n",
      " 21  BsmtExposure  0 non-null      object \n",
      " 22  BsmtFinType1  0 non-null      object \n",
      " 23  BsmtFinSF1    37 non-null     int64  \n",
      " 24  BsmtUnfSF     37 non-null     int64  \n",
      " 25  TotalBsmtSF   37 non-null     int64  \n",
      " 26  HeatingQC     37 non-null     object \n",
      " 27  1stFlrSF      37 non-null     int64  \n",
      " 28  2ndFlrSF      37 non-null     int64  \n",
      " 29  GrLivArea     37 non-null     int64  \n",
      " 30  BsmtFullBath  37 non-null     int64  \n",
      " 31  FullBath      37 non-null     int64  \n",
      " 32  HalfBath      37 non-null     int64  \n",
      " 33  BedroomAbvGr  37 non-null     int64  \n",
      " 34  KitchenQual   37 non-null     object \n",
      " 35  TotRmsAbvGrd  37 non-null     int64  \n",
      " 36  Fireplaces    37 non-null     int64  \n",
      " 37  GarageType    30 non-null     object \n",
      " 38  GarageYrBlt   30 non-null     float64\n",
      " 39  GarageFinish  30 non-null     object \n",
      " 40  GarageCars    37 non-null     int64  \n",
      " 41  GarageArea    37 non-null     int64  \n",
      " 42  WoodDeckSF    37 non-null     int64  \n",
      " 43  OpenPorchSF   37 non-null     int64  \n",
      " 44  MoSold        37 non-null     int64  \n",
      " 45  YrSold        37 non-null     int64  \n",
      " 46  SalePrice     37 non-null     int64  \n",
      "dtypes: float64(3), int64(26), object(18)\n",
      "memory usage: 13.9+ KB\n"
     ]
    }
   ],
   "source": [
    "df[df.BsmtFinType1.isna()].info() #all BsmtQual are nan -> will be remplaced with \"NA\"  (No Basement)\n"
   ]
  },
  {
   "cell_type": "code",
   "execution_count": 24,
   "id": "98e99d25",
   "metadata": {
    "execution": {
     "iopub.execute_input": "2023-02-02T17:16:15.622575Z",
     "iopub.status.busy": "2023-02-02T17:16:15.621439Z",
     "iopub.status.idle": "2023-02-02T17:16:15.633324Z",
     "shell.execute_reply": "2023-02-02T17:16:15.632343Z"
    },
    "papermill": {
     "duration": 0.038337,
     "end_time": "2023-02-02T17:16:15.635482",
     "exception": false,
     "start_time": "2023-02-02T17:16:15.597145",
     "status": "completed"
    },
    "tags": []
   },
   "outputs": [
    {
     "data": {
      "text/plain": [
       "count    81.0\n",
       "mean      0.0\n",
       "std       0.0\n",
       "min       0.0\n",
       "25%       0.0\n",
       "50%       0.0\n",
       "75%       0.0\n",
       "max       0.0\n",
       "Name: GarageArea, dtype: float64"
      ]
     },
     "execution_count": 24,
     "metadata": {},
     "output_type": "execute_result"
    }
   ],
   "source": [
    "df[df.GarageType.isna()].GarageArea.describe() # All GarageArea are 0 -> will be filled with \"NA\" (No Garage)"
   ]
  },
  {
   "cell_type": "code",
   "execution_count": 25,
   "id": "f15b1c2e",
   "metadata": {
    "execution": {
     "iopub.execute_input": "2023-02-02T17:16:15.685058Z",
     "iopub.status.busy": "2023-02-02T17:16:15.684006Z",
     "iopub.status.idle": "2023-02-02T17:16:15.695907Z",
     "shell.execute_reply": "2023-02-02T17:16:15.694790Z"
    },
    "papermill": {
     "duration": 0.039341,
     "end_time": "2023-02-02T17:16:15.698248",
     "exception": false,
     "start_time": "2023-02-02T17:16:15.658907",
     "status": "completed"
    },
    "tags": []
   },
   "outputs": [
    {
     "data": {
      "text/plain": [
       "count    81.0\n",
       "mean      0.0\n",
       "std       0.0\n",
       "min       0.0\n",
       "25%       0.0\n",
       "50%       0.0\n",
       "75%       0.0\n",
       "max       0.0\n",
       "Name: GarageArea, dtype: float64"
      ]
     },
     "execution_count": 25,
     "metadata": {},
     "output_type": "execute_result"
    }
   ],
   "source": [
    "df[df.GarageYrBlt.isna()].GarageArea.describe()# All GarageArea are 0 -> will be filled with 0"
   ]
  },
  {
   "cell_type": "code",
   "execution_count": 26,
   "id": "89bffad9",
   "metadata": {
    "execution": {
     "iopub.execute_input": "2023-02-02T17:16:15.746677Z",
     "iopub.status.busy": "2023-02-02T17:16:15.746253Z",
     "iopub.status.idle": "2023-02-02T17:16:15.757304Z",
     "shell.execute_reply": "2023-02-02T17:16:15.756147Z"
    },
    "papermill": {
     "duration": 0.037962,
     "end_time": "2023-02-02T17:16:15.759595",
     "exception": false,
     "start_time": "2023-02-02T17:16:15.721633",
     "status": "completed"
    },
    "tags": []
   },
   "outputs": [
    {
     "data": {
      "text/plain": [
       "count    81.0\n",
       "mean      0.0\n",
       "std       0.0\n",
       "min       0.0\n",
       "25%       0.0\n",
       "50%       0.0\n",
       "75%       0.0\n",
       "max       0.0\n",
       "Name: GarageArea, dtype: float64"
      ]
     },
     "execution_count": 26,
     "metadata": {},
     "output_type": "execute_result"
    }
   ],
   "source": [
    "df[df.GarageFinish.isna()].GarageArea.describe()# All GarageArea are 0 -> will be filled with \"NA\" (No Garage)\n"
   ]
  },
  {
   "cell_type": "code",
   "execution_count": 27,
   "id": "7f5e7b76",
   "metadata": {
    "execution": {
     "iopub.execute_input": "2023-02-02T17:16:15.808670Z",
     "iopub.status.busy": "2023-02-02T17:16:15.808238Z",
     "iopub.status.idle": "2023-02-02T17:16:15.826541Z",
     "shell.execute_reply": "2023-02-02T17:16:15.825387Z"
    },
    "papermill": {
     "duration": 0.046658,
     "end_time": "2023-02-02T17:16:15.830173",
     "exception": false,
     "start_time": "2023-02-02T17:16:15.783515",
     "status": "completed"
    },
    "tags": []
   },
   "outputs": [
    {
     "name": "stderr",
     "output_type": "stream",
     "text": [
      "/opt/conda/lib/python3.7/site-packages/ipykernel_launcher.py:9: UserWarning: Boolean Series key will be reindexed to match DataFrame index.\n",
      "  if __name__ == \"__main__\":\n"
     ]
    }
   ],
   "source": [
    "#Columns with nans:\n",
    "#Index(['LotFrontage', 'MasVnrType', 'MasVnrArea', 'BsmtQual', 'BsmtExposure','BsmtFinType1', 'GarageType', 'GarageYrBlt', 'GarageFinish'],dtype='object')\n",
    "\n",
    "df['LotFrontage']= df['LotFrontage'].fillna(df['LotFrontage'].mean())\n",
    "df['MasVnrType']= df['MasVnrType'].fillna('None')\n",
    "df['MasVnrArea']= df['MasVnrArea'].fillna(0)\n",
    "df['BsmtQual']= df['BsmtQual'].fillna(\"NA\")\n",
    "\n",
    "df[df.BsmtExposure.isna()][df.BsmtQual.isna()==False].BsmtExposure=\"No\"\n",
    "df['BsmtExposure']= df['BsmtExposure'].fillna(\"NA\")\n",
    "\n",
    "df['BsmtFinType1']= df['BsmtFinType1'].fillna(\"NA\")\n",
    "df['GarageType']= df['GarageType'].fillna(\"NA\")\n",
    "df['GarageYrBlt']= df['GarageYrBlt'].fillna(0)\n",
    "df['GarageFinish']= df['GarageFinish'].fillna(\"NA\")\n"
   ]
  },
  {
   "cell_type": "code",
   "execution_count": 28,
   "id": "417c635a",
   "metadata": {
    "execution": {
     "iopub.execute_input": "2023-02-02T17:16:15.881770Z",
     "iopub.status.busy": "2023-02-02T17:16:15.880509Z",
     "iopub.status.idle": "2023-02-02T17:16:18.484699Z",
     "shell.execute_reply": "2023-02-02T17:16:18.483869Z"
    },
    "papermill": {
     "duration": 2.631973,
     "end_time": "2023-02-02T17:16:18.487196",
     "exception": false,
     "start_time": "2023-02-02T17:16:15.855223",
     "status": "completed"
    },
    "tags": []
   },
   "outputs": [
    {
     "data": {
      "image/png": "[encoded data removed]",
      "text/plain": [
       "<Figure size 432x288 with 1 Axes>"
      ]
     },
     "metadata": {
      "needs_background": "light"
     },
     "output_type": "display_data"
    },
    {
     "data": {
      "image/png": "[encoded data removed]",
      "text/plain": [
       "<Figure size 432x288 with 1 Axes>"
      ]
     },
     "metadata": {
      "needs_background": "light"
     },
     "output_type": "display_data"
    },
    {
     "data": {
      "image/png": "[encoded data removed]",
      "text/plain": [
       "<Figure size 432x288 with 1 Axes>"
      ]
     },
     "metadata": {
      "needs_background": "light"
     },
     "output_type": "display_data"
    },
    {
     "data": {
      "image/png": "[encoded data removed]",
      "text/plain": [
       "<Figure size 432x288 with 1 Axes>"
      ]
     },
     "metadata": {
      "needs_background": "light"
     },
     "output_type": "display_data"
    },
    {
     "data": {
      "image/png": "[encoded data removed]",
      "text/plain": [
       "<Figure size 432x288 with 1 Axes>"
      ]
     },
     "metadata": {
      "needs_background": "light"
     },
     "output_type": "display_data"
    },
    {
     "data": {
      "image/png": "[encoded data removed]",
      "text/plain": [
       "<Figure size 432x288 with 1 Axes>"
      ]
     },
     "metadata": {
      "needs_background": "light"
     },
     "output_type": "display_data"
    },
    {
     "data": {
      "image/png": "[encoded data removed]",
      "text/plain": [
       "<Figure size 432x288 with 1 Axes>"
      ]
     },
     "metadata": {
      "needs_background": "light"
     },
     "output_type": "display_data"
    },
    {
     "data": {
      "image/png": "[encoded data removed]",
      "text/plain": [
       "<Figure size 432x288 with 1 Axes>"
      ]
     },
     "metadata": {
      "needs_background": "light"
     },
     "output_type": "display_data"
    },
    {
     "data": {
      "image/png": "[encoded data removed]",
      "text/plain": [
       "<Figure size 432x288 with 1 Axes>"
      ]
     },
     "metadata": {
      "needs_background": "light"
     },
     "output_type": "display_data"
    }
   ],
   "source": [
    "#Visual check of the colums with Nans\n",
    "for col in columns_with_nan :\n",
    "    sns.histplot(data=df,x=col)\n",
    "    plt.show()"
   ]
  },
  {
   "cell_type": "markdown",
   "id": "1a6a9121",
   "metadata": {
    "papermill": {
     "duration": 0.025184,
     "end_time": "2023-02-02T17:16:18.537977",
     "exception": false,
     "start_time": "2023-02-02T17:16:18.512793",
     "status": "completed"
    },
    "tags": []
   },
   "source": [
    "***"
   ]
  },
  {
   "cell_type": "code",
   "execution_count": 29,
   "id": "286c4292",
   "metadata": {
    "execution": {
     "iopub.execute_input": "2023-02-02T17:16:18.591619Z",
     "iopub.status.busy": "2023-02-02T17:16:18.590534Z",
     "iopub.status.idle": "2023-02-02T17:16:18.594734Z",
     "shell.execute_reply": "2023-02-02T17:16:18.593958Z"
    },
    "papermill": {
     "duration": 0.033226,
     "end_time": "2023-02-02T17:16:18.596986",
     "exception": false,
     "start_time": "2023-02-02T17:16:18.563760",
     "status": "completed"
    },
    "tags": []
   },
   "outputs": [],
   "source": [
    "#Creating X, y and splitting into train and val"
   ]
  },
  {
   "cell_type": "code",
   "execution_count": 30,
   "id": "0745f332",
   "metadata": {
    "execution": {
     "iopub.execute_input": "2023-02-02T17:16:18.649579Z",
     "iopub.status.busy": "2023-02-02T17:16:18.649171Z",
     "iopub.status.idle": "2023-02-02T17:16:18.671986Z",
     "shell.execute_reply": "2023-02-02T17:16:18.670011Z"
    },
    "papermill": {
     "duration": 0.052034,
     "end_time": "2023-02-02T17:16:18.674485",
     "exception": false,
     "start_time": "2023-02-02T17:16:18.622451",
     "status": "completed"
    },
    "tags": []
   },
   "outputs": [
    {
     "name": "stdout",
     "output_type": "stream",
     "text": [
      "<class 'pandas.core.frame.DataFrame'>\n",
      "RangeIndex: 1460 entries, 0 to 1459\n",
      "Data columns (total 46 columns):\n",
      " #   Column        Non-Null Count  Dtype  \n",
      "---  ------        --------------  -----  \n",
      " 0   Id            1460 non-null   int64  \n",
      " 1   MSSubClass    1460 non-null   int64  \n",
      " 2   MSZoning      1460 non-null   object \n",
      " 3   LotFrontage   1460 non-null   float64\n",
      " 4   LotArea       1460 non-null   int64  \n",
      " 5   LotShape      1460 non-null   object \n",
      " 6   LotConfig     1460 non-null   object \n",
      " 7   Neighborhood  1460 non-null   object \n",
      " 8   HouseStyle    1460 non-null   object \n",
      " 9   OverallQual   1460 non-null   int64  \n",
      " 10  OverallCond   1460 non-null   int64  \n",
      " 11  YearBuilt     1460 non-null   int64  \n",
      " 12  YearRemodAdd  1460 non-null   int64  \n",
      " 13  RoofStyle     1460 non-null   object \n",
      " 14  Exterior1st   1460 non-null   object \n",
      " 15  Exterior2nd   1460 non-null   object \n",
      " 16  MasVnrType    1460 non-null   object \n",
      " 17  MasVnrArea    1460 non-null   float64\n",
      " 18  ExterQual     1460 non-null   object \n",
      " 19  Foundation    1460 non-null   object \n",
      " 20  BsmtQual      1460 non-null   object \n",
      " 21  BsmtExposure  1460 non-null   object \n",
      " 22  BsmtFinType1  1460 non-null   object \n",
      " 23  BsmtFinSF1    1460 non-null   int64  \n",
      " 24  BsmtUnfSF     1460 non-null   int64  \n",
      " 25  TotalBsmtSF   1460 non-null   int64  \n",
      " 26  HeatingQC     1460 non-null   object \n",
      " 27  1stFlrSF      1460 non-null   int64  \n",
      " 28  2ndFlrSF      1460 non-null   int64  \n",
      " 29  GrLivArea     1460 non-null   int64  \n",
      " 30  BsmtFullBath  1460 non-null   int64  \n",
      " 31  FullBath      1460 non-null   int64  \n",
      " 32  HalfBath      1460 non-null   int64  \n",
      " 33  BedroomAbvGr  1460 non-null   int64  \n",
      " 34  KitchenQual   1460 non-null   object \n",
      " 35  TotRmsAbvGrd  1460 non-null   int64  \n",
      " 36  Fireplaces    1460 non-null   int64  \n",
      " 37  GarageType    1460 non-null   object \n",
      " 38  GarageYrBlt   1460 non-null   float64\n",
      " 39  GarageFinish  1460 non-null   object \n",
      " 40  GarageCars    1460 non-null   int64  \n",
      " 41  GarageArea    1460 non-null   int64  \n",
      " 42  WoodDeckSF    1460 non-null   int64  \n",
      " 43  OpenPorchSF   1460 non-null   int64  \n",
      " 44  MoSold        1460 non-null   int64  \n",
      " 45  YrSold        1460 non-null   int64  \n",
      "dtypes: float64(3), int64(25), object(18)\n",
      "memory usage: 524.8+ KB\n"
     ]
    }
   ],
   "source": [
    "features_1=df.columns\n",
    "X=df[features_1]\n",
    "y=X.pop('SalePrice')\n",
    "X.info() #46 columns"
   ]
  },
  {
   "cell_type": "code",
   "execution_count": 31,
   "id": "475b97ff",
   "metadata": {
    "execution": {
     "iopub.execute_input": "2023-02-02T17:16:18.728248Z",
     "iopub.status.busy": "2023-02-02T17:16:18.727150Z",
     "iopub.status.idle": "2023-02-02T17:16:18.768383Z",
     "shell.execute_reply": "2023-02-02T17:16:18.767130Z"
    },
    "papermill": {
     "duration": 0.070666,
     "end_time": "2023-02-02T17:16:18.771010",
     "exception": false,
     "start_time": "2023-02-02T17:16:18.700344",
     "status": "completed"
    },
    "tags": []
   },
   "outputs": [
    {
     "data": {
      "text/html": [
       "<div>\n",
       "<style scoped>\n",
       "    .dataframe tbody tr th:only-of-type {\n",
       "        vertical-align: middle;\n",
       "    }\n",
       "\n",
       "    .dataframe tbody tr th {\n",
       "        vertical-align: top;\n",
       "    }\n",
       "\n",
       "    .dataframe thead th {\n",
       "        text-align: right;\n",
       "    }\n",
       "</style>\n",
       "<table border=\"1\" class=\"dataframe\">\n",
       "  <thead>\n",
       "    <tr style=\"text-align: right;\">\n",
       "      <th></th>\n",
       "      <th>Id</th>\n",
       "      <th>MSSubClass</th>\n",
       "      <th>LotFrontage</th>\n",
       "      <th>LotArea</th>\n",
       "      <th>OverallQual</th>\n",
       "      <th>OverallCond</th>\n",
       "      <th>YearBuilt</th>\n",
       "      <th>YearRemodAdd</th>\n",
       "      <th>MasVnrArea</th>\n",
       "      <th>BsmtFinSF1</th>\n",
       "      <th>...</th>\n",
       "      <th>GarageType_Attchd</th>\n",
       "      <th>GarageType_Basment</th>\n",
       "      <th>GarageType_BuiltIn</th>\n",
       "      <th>GarageType_CarPort</th>\n",
       "      <th>GarageType_Detchd</th>\n",
       "      <th>GarageType_NA</th>\n",
       "      <th>GarageFinish_Fin</th>\n",
       "      <th>GarageFinish_NA</th>\n",
       "      <th>GarageFinish_RFn</th>\n",
       "      <th>GarageFinish_Unf</th>\n",
       "    </tr>\n",
       "  </thead>\n",
       "  <tbody>\n",
       "    <tr>\n",
       "      <th>0</th>\n",
       "      <td>1</td>\n",
       "      <td>60</td>\n",
       "      <td>65.0</td>\n",
       "      <td>8450</td>\n",
       "      <td>7</td>\n",
       "      <td>5</td>\n",
       "      <td>2003</td>\n",
       "      <td>2003</td>\n",
       "      <td>196.0</td>\n",
       "      <td>706</td>\n",
       "      <td>...</td>\n",
       "      <td>1</td>\n",
       "      <td>0</td>\n",
       "      <td>0</td>\n",
       "      <td>0</td>\n",
       "      <td>0</td>\n",
       "      <td>0</td>\n",
       "      <td>0</td>\n",
       "      <td>0</td>\n",
       "      <td>1</td>\n",
       "      <td>0</td>\n",
       "    </tr>\n",
       "    <tr>\n",
       "      <th>1</th>\n",
       "      <td>2</td>\n",
       "      <td>20</td>\n",
       "      <td>80.0</td>\n",
       "      <td>9600</td>\n",
       "      <td>6</td>\n",
       "      <td>8</td>\n",
       "      <td>1976</td>\n",
       "      <td>1976</td>\n",
       "      <td>0.0</td>\n",
       "      <td>978</td>\n",
       "      <td>...</td>\n",
       "      <td>1</td>\n",
       "      <td>0</td>\n",
       "      <td>0</td>\n",
       "      <td>0</td>\n",
       "      <td>0</td>\n",
       "      <td>0</td>\n",
       "      <td>0</td>\n",
       "      <td>0</td>\n",
       "      <td>1</td>\n",
       "      <td>0</td>\n",
       "    </tr>\n",
       "    <tr>\n",
       "      <th>2</th>\n",
       "      <td>3</td>\n",
       "      <td>60</td>\n",
       "      <td>68.0</td>\n",
       "      <td>11250</td>\n",
       "      <td>7</td>\n",
       "      <td>5</td>\n",
       "      <td>2001</td>\n",
       "      <td>2002</td>\n",
       "      <td>162.0</td>\n",
       "      <td>486</td>\n",
       "      <td>...</td>\n",
       "      <td>1</td>\n",
       "      <td>0</td>\n",
       "      <td>0</td>\n",
       "      <td>0</td>\n",
       "      <td>0</td>\n",
       "      <td>0</td>\n",
       "      <td>0</td>\n",
       "      <td>0</td>\n",
       "      <td>1</td>\n",
       "      <td>0</td>\n",
       "    </tr>\n",
       "    <tr>\n",
       "      <th>3</th>\n",
       "      <td>4</td>\n",
       "      <td>70</td>\n",
       "      <td>60.0</td>\n",
       "      <td>9550</td>\n",
       "      <td>7</td>\n",
       "      <td>5</td>\n",
       "      <td>1915</td>\n",
       "      <td>1970</td>\n",
       "      <td>0.0</td>\n",
       "      <td>216</td>\n",
       "      <td>...</td>\n",
       "      <td>0</td>\n",
       "      <td>0</td>\n",
       "      <td>0</td>\n",
       "      <td>0</td>\n",
       "      <td>1</td>\n",
       "      <td>0</td>\n",
       "      <td>0</td>\n",
       "      <td>0</td>\n",
       "      <td>0</td>\n",
       "      <td>1</td>\n",
       "    </tr>\n",
       "    <tr>\n",
       "      <th>4</th>\n",
       "      <td>5</td>\n",
       "      <td>60</td>\n",
       "      <td>84.0</td>\n",
       "      <td>14260</td>\n",
       "      <td>8</td>\n",
       "      <td>5</td>\n",
       "      <td>2000</td>\n",
       "      <td>2000</td>\n",
       "      <td>350.0</td>\n",
       "      <td>655</td>\n",
       "      <td>...</td>\n",
       "      <td>1</td>\n",
       "      <td>0</td>\n",
       "      <td>0</td>\n",
       "      <td>0</td>\n",
       "      <td>0</td>\n",
       "      <td>0</td>\n",
       "      <td>0</td>\n",
       "      <td>0</td>\n",
       "      <td>1</td>\n",
       "      <td>0</td>\n",
       "    </tr>\n",
       "  </tbody>\n",
       "</table>\n",
       "<p>5 rows × 163 columns</p>\n",
       "</div>"
      ],
      "text/plain": [
       "   Id  MSSubClass  LotFrontage  LotArea  OverallQual  OverallCond  YearBuilt  \\\n",
       "0   1          60         65.0     8450            7            5       2003   \n",
       "1   2          20         80.0     9600            6            8       1976   \n",
       "2   3          60         68.0    11250            7            5       2001   \n",
       "3   4          70         60.0     9550            7            5       1915   \n",
       "4   5          60         84.0    14260            8            5       2000   \n",
       "\n",
       "   YearRemodAdd  MasVnrArea  BsmtFinSF1  ...  GarageType_Attchd  \\\n",
       "0          2003       196.0         706  ...                  1   \n",
       "1          1976         0.0         978  ...                  1   \n",
       "2          2002       162.0         486  ...                  1   \n",
       "3          1970         0.0         216  ...                  0   \n",
       "4          2000       350.0         655  ...                  1   \n",
       "\n",
       "   GarageType_Basment  GarageType_BuiltIn  GarageType_CarPort  \\\n",
       "0                   0                   0                   0   \n",
       "1                   0                   0                   0   \n",
       "2                   0                   0                   0   \n",
       "3                   0                   0                   0   \n",
       "4                   0                   0                   0   \n",
       "\n",
       "   GarageType_Detchd  GarageType_NA  GarageFinish_Fin  GarageFinish_NA  \\\n",
       "0                  0              0                 0                0   \n",
       "1                  0              0                 0                0   \n",
       "2                  0              0                 0                0   \n",
       "3                  1              0                 0                0   \n",
       "4                  0              0                 0                0   \n",
       "\n",
       "   GarageFinish_RFn  GarageFinish_Unf  \n",
       "0                 1                 0  \n",
       "1                 1                 0  \n",
       "2                 1                 0  \n",
       "3                 0                 1  \n",
       "4                 1                 0  \n",
       "\n",
       "[5 rows x 163 columns]"
      ]
     },
     "execution_count": 31,
     "metadata": {},
     "output_type": "execute_result"
    }
   ],
   "source": [
    "X=pd.get_dummies(X)\n",
    "X.head() #163 columns"
   ]
  },
  {
   "cell_type": "code",
   "execution_count": 32,
   "id": "9b0bf6a3",
   "metadata": {
    "execution": {
     "iopub.execute_input": "2023-02-02T17:16:18.825510Z",
     "iopub.status.busy": "2023-02-02T17:16:18.824727Z",
     "iopub.status.idle": "2023-02-02T17:16:19.169216Z",
     "shell.execute_reply": "2023-02-02T17:16:19.168371Z"
    },
    "papermill": {
     "duration": 0.374214,
     "end_time": "2023-02-02T17:16:19.171634",
     "exception": false,
     "start_time": "2023-02-02T17:16:18.797420",
     "status": "completed"
    },
    "tags": []
   },
   "outputs": [
    {
     "data": {
      "text/html": [
       "<div>\n",
       "<style scoped>\n",
       "    .dataframe tbody tr th:only-of-type {\n",
       "        vertical-align: middle;\n",
       "    }\n",
       "\n",
       "    .dataframe tbody tr th {\n",
       "        vertical-align: top;\n",
       "    }\n",
       "\n",
       "    .dataframe thead th {\n",
       "        text-align: right;\n",
       "    }\n",
       "</style>\n",
       "<table border=\"1\" class=\"dataframe\">\n",
       "  <thead>\n",
       "    <tr style=\"text-align: right;\">\n",
       "      <th></th>\n",
       "      <th>Id</th>\n",
       "      <th>MSSubClass</th>\n",
       "      <th>LotFrontage</th>\n",
       "      <th>LotArea</th>\n",
       "      <th>OverallQual</th>\n",
       "      <th>OverallCond</th>\n",
       "      <th>YearBuilt</th>\n",
       "      <th>YearRemodAdd</th>\n",
       "      <th>MasVnrArea</th>\n",
       "      <th>BsmtFinSF1</th>\n",
       "      <th>...</th>\n",
       "      <th>GarageType_Attchd</th>\n",
       "      <th>GarageType_Basment</th>\n",
       "      <th>GarageType_BuiltIn</th>\n",
       "      <th>GarageType_CarPort</th>\n",
       "      <th>GarageType_Detchd</th>\n",
       "      <th>GarageType_NA</th>\n",
       "      <th>GarageFinish_Fin</th>\n",
       "      <th>GarageFinish_NA</th>\n",
       "      <th>GarageFinish_RFn</th>\n",
       "      <th>GarageFinish_Unf</th>\n",
       "    </tr>\n",
       "  </thead>\n",
       "  <tbody>\n",
       "    <tr>\n",
       "      <th>count</th>\n",
       "      <td>1460.000000</td>\n",
       "      <td>1460.000000</td>\n",
       "      <td>1460.000000</td>\n",
       "      <td>1460.000000</td>\n",
       "      <td>1460.000000</td>\n",
       "      <td>1460.000000</td>\n",
       "      <td>1460.000000</td>\n",
       "      <td>1460.000000</td>\n",
       "      <td>1460.000000</td>\n",
       "      <td>1460.000000</td>\n",
       "      <td>...</td>\n",
       "      <td>1460.000000</td>\n",
       "      <td>1460.000000</td>\n",
       "      <td>1460.000000</td>\n",
       "      <td>1460.000000</td>\n",
       "      <td>1460.000000</td>\n",
       "      <td>1460.000000</td>\n",
       "      <td>1460.000000</td>\n",
       "      <td>1460.000000</td>\n",
       "      <td>1460.000000</td>\n",
       "      <td>1460.000000</td>\n",
       "    </tr>\n",
       "    <tr>\n",
       "      <th>mean</th>\n",
       "      <td>730.500000</td>\n",
       "      <td>56.897260</td>\n",
       "      <td>70.049958</td>\n",
       "      <td>10516.828082</td>\n",
       "      <td>6.099315</td>\n",
       "      <td>5.575342</td>\n",
       "      <td>1971.267808</td>\n",
       "      <td>1984.865753</td>\n",
       "      <td>103.117123</td>\n",
       "      <td>443.639726</td>\n",
       "      <td>...</td>\n",
       "      <td>0.595890</td>\n",
       "      <td>0.013014</td>\n",
       "      <td>0.060274</td>\n",
       "      <td>0.006164</td>\n",
       "      <td>0.265068</td>\n",
       "      <td>0.055479</td>\n",
       "      <td>0.241096</td>\n",
       "      <td>0.055479</td>\n",
       "      <td>0.289041</td>\n",
       "      <td>0.414384</td>\n",
       "    </tr>\n",
       "    <tr>\n",
       "      <th>std</th>\n",
       "      <td>421.610009</td>\n",
       "      <td>42.300571</td>\n",
       "      <td>22.024023</td>\n",
       "      <td>9981.264932</td>\n",
       "      <td>1.382997</td>\n",
       "      <td>1.112799</td>\n",
       "      <td>30.202904</td>\n",
       "      <td>20.645407</td>\n",
       "      <td>180.731373</td>\n",
       "      <td>456.098091</td>\n",
       "      <td>...</td>\n",
       "      <td>0.490887</td>\n",
       "      <td>0.113372</td>\n",
       "      <td>0.238075</td>\n",
       "      <td>0.078298</td>\n",
       "      <td>0.441521</td>\n",
       "      <td>0.228992</td>\n",
       "      <td>0.427895</td>\n",
       "      <td>0.228992</td>\n",
       "      <td>0.453472</td>\n",
       "      <td>0.492784</td>\n",
       "    </tr>\n",
       "    <tr>\n",
       "      <th>min</th>\n",
       "      <td>1.000000</td>\n",
       "      <td>20.000000</td>\n",
       "      <td>21.000000</td>\n",
       "      <td>1300.000000</td>\n",
       "      <td>1.000000</td>\n",
       "      <td>1.000000</td>\n",
       "      <td>1872.000000</td>\n",
       "      <td>1950.000000</td>\n",
       "      <td>0.000000</td>\n",
       "      <td>0.000000</td>\n",
       "      <td>...</td>\n",
       "      <td>0.000000</td>\n",
       "      <td>0.000000</td>\n",
       "      <td>0.000000</td>\n",
       "      <td>0.000000</td>\n",
       "      <td>0.000000</td>\n",
       "      <td>0.000000</td>\n",
       "      <td>0.000000</td>\n",
       "      <td>0.000000</td>\n",
       "      <td>0.000000</td>\n",
       "      <td>0.000000</td>\n",
       "    </tr>\n",
       "    <tr>\n",
       "      <th>25%</th>\n",
       "      <td>365.750000</td>\n",
       "      <td>20.000000</td>\n",
       "      <td>60.000000</td>\n",
       "      <td>7553.500000</td>\n",
       "      <td>5.000000</td>\n",
       "      <td>5.000000</td>\n",
       "      <td>1954.000000</td>\n",
       "      <td>1967.000000</td>\n",
       "      <td>0.000000</td>\n",
       "      <td>0.000000</td>\n",
       "      <td>...</td>\n",
       "      <td>0.000000</td>\n",
       "      <td>0.000000</td>\n",
       "      <td>0.000000</td>\n",
       "      <td>0.000000</td>\n",
       "      <td>0.000000</td>\n",
       "      <td>0.000000</td>\n",
       "      <td>0.000000</td>\n",
       "      <td>0.000000</td>\n",
       "      <td>0.000000</td>\n",
       "      <td>0.000000</td>\n",
       "    </tr>\n",
       "    <tr>\n",
       "      <th>50%</th>\n",
       "      <td>730.500000</td>\n",
       "      <td>50.000000</td>\n",
       "      <td>70.049958</td>\n",
       "      <td>9478.500000</td>\n",
       "      <td>6.000000</td>\n",
       "      <td>5.000000</td>\n",
       "      <td>1973.000000</td>\n",
       "      <td>1994.000000</td>\n",
       "      <td>0.000000</td>\n",
       "      <td>383.500000</td>\n",
       "      <td>...</td>\n",
       "      <td>1.000000</td>\n",
       "      <td>0.000000</td>\n",
       "      <td>0.000000</td>\n",
       "      <td>0.000000</td>\n",
       "      <td>0.000000</td>\n",
       "      <td>0.000000</td>\n",
       "      <td>0.000000</td>\n",
       "      <td>0.000000</td>\n",
       "      <td>0.000000</td>\n",
       "      <td>0.000000</td>\n",
       "    </tr>\n",
       "    <tr>\n",
       "      <th>75%</th>\n",
       "      <td>1095.250000</td>\n",
       "      <td>70.000000</td>\n",
       "      <td>79.000000</td>\n",
       "      <td>11601.500000</td>\n",
       "      <td>7.000000</td>\n",
       "      <td>6.000000</td>\n",
       "      <td>2000.000000</td>\n",
       "      <td>2004.000000</td>\n",
       "      <td>164.250000</td>\n",
       "      <td>712.250000</td>\n",
       "      <td>...</td>\n",
       "      <td>1.000000</td>\n",
       "      <td>0.000000</td>\n",
       "      <td>0.000000</td>\n",
       "      <td>0.000000</td>\n",
       "      <td>1.000000</td>\n",
       "      <td>0.000000</td>\n",
       "      <td>0.000000</td>\n",
       "      <td>0.000000</td>\n",
       "      <td>1.000000</td>\n",
       "      <td>1.000000</td>\n",
       "    </tr>\n",
       "    <tr>\n",
       "      <th>max</th>\n",
       "      <td>1460.000000</td>\n",
       "      <td>190.000000</td>\n",
       "      <td>313.000000</td>\n",
       "      <td>215245.000000</td>\n",
       "      <td>10.000000</td>\n",
       "      <td>9.000000</td>\n",
       "      <td>2010.000000</td>\n",
       "      <td>2010.000000</td>\n",
       "      <td>1600.000000</td>\n",
       "      <td>5644.000000</td>\n",
       "      <td>...</td>\n",
       "      <td>1.000000</td>\n",
       "      <td>1.000000</td>\n",
       "      <td>1.000000</td>\n",
       "      <td>1.000000</td>\n",
       "      <td>1.000000</td>\n",
       "      <td>1.000000</td>\n",
       "      <td>1.000000</td>\n",
       "      <td>1.000000</td>\n",
       "      <td>1.000000</td>\n",
       "      <td>1.000000</td>\n",
       "    </tr>\n",
       "  </tbody>\n",
       "</table>\n",
       "<p>8 rows × 163 columns</p>\n",
       "</div>"
      ],
      "text/plain": [
       "                Id   MSSubClass  LotFrontage        LotArea  OverallQual  \\\n",
       "count  1460.000000  1460.000000  1460.000000    1460.000000  1460.000000   \n",
       "mean    730.500000    56.897260    70.049958   10516.828082     6.099315   \n",
       "std     421.610009    42.300571    22.024023    9981.264932     1.382997   \n",
       "min       1.000000    20.000000    21.000000    1300.000000     1.000000   \n",
       "25%     365.750000    20.000000    60.000000    7553.500000     5.000000   \n",
       "50%     730.500000    50.000000    70.049958    9478.500000     6.000000   \n",
       "75%    1095.250000    70.000000    79.000000   11601.500000     7.000000   \n",
       "max    1460.000000   190.000000   313.000000  215245.000000    10.000000   \n",
       "\n",
       "       OverallCond    YearBuilt  YearRemodAdd   MasVnrArea   BsmtFinSF1  ...  \\\n",
       "count  1460.000000  1460.000000   1460.000000  1460.000000  1460.000000  ...   \n",
       "mean      5.575342  1971.267808   1984.865753   103.117123   443.639726  ...   \n",
       "std       1.112799    30.202904     20.645407   180.731373   456.098091  ...   \n",
       "min       1.000000  1872.000000   1950.000000     0.000000     0.000000  ...   \n",
       "25%       5.000000  1954.000000   1967.000000     0.000000     0.000000  ...   \n",
       "50%       5.000000  1973.000000   1994.000000     0.000000   383.500000  ...   \n",
       "75%       6.000000  2000.000000   2004.000000   164.250000   712.250000  ...   \n",
       "max       9.000000  2010.000000   2010.000000  1600.000000  5644.000000  ...   \n",
       "\n",
       "       GarageType_Attchd  GarageType_Basment  GarageType_BuiltIn  \\\n",
       "count        1460.000000         1460.000000         1460.000000   \n",
       "mean            0.595890            0.013014            0.060274   \n",
       "std             0.490887            0.113372            0.238075   \n",
       "min             0.000000            0.000000            0.000000   \n",
       "25%             0.000000            0.000000            0.000000   \n",
       "50%             1.000000            0.000000            0.000000   \n",
       "75%             1.000000            0.000000            0.000000   \n",
       "max             1.000000            1.000000            1.000000   \n",
       "\n",
       "       GarageType_CarPort  GarageType_Detchd  GarageType_NA  GarageFinish_Fin  \\\n",
       "count         1460.000000        1460.000000    1460.000000       1460.000000   \n",
       "mean             0.006164           0.265068       0.055479          0.241096   \n",
       "std              0.078298           0.441521       0.228992          0.427895   \n",
       "min              0.000000           0.000000       0.000000          0.000000   \n",
       "25%              0.000000           0.000000       0.000000          0.000000   \n",
       "50%              0.000000           0.000000       0.000000          0.000000   \n",
       "75%              0.000000           1.000000       0.000000          0.000000   \n",
       "max              1.000000           1.000000       1.000000          1.000000   \n",
       "\n",
       "       GarageFinish_NA  GarageFinish_RFn  GarageFinish_Unf  \n",
       "count      1460.000000       1460.000000       1460.000000  \n",
       "mean          0.055479          0.289041          0.414384  \n",
       "std           0.228992          0.453472          0.492784  \n",
       "min           0.000000          0.000000          0.000000  \n",
       "25%           0.000000          0.000000          0.000000  \n",
       "50%           0.000000          0.000000          0.000000  \n",
       "75%           0.000000          1.000000          1.000000  \n",
       "max           1.000000          1.000000          1.000000  \n",
       "\n",
       "[8 rows x 163 columns]"
      ]
     },
     "execution_count": 32,
     "metadata": {},
     "output_type": "execute_result"
    }
   ],
   "source": [
    "X.describe()"
   ]
  },
  {
   "cell_type": "code",
   "execution_count": 33,
   "id": "86ce9da4",
   "metadata": {
    "execution": {
     "iopub.execute_input": "2023-02-02T17:16:19.226395Z",
     "iopub.status.busy": "2023-02-02T17:16:19.225590Z",
     "iopub.status.idle": "2023-02-02T17:16:19.366241Z",
     "shell.execute_reply": "2023-02-02T17:16:19.365057Z"
    },
    "papermill": {
     "duration": 0.170987,
     "end_time": "2023-02-02T17:16:19.368780",
     "exception": false,
     "start_time": "2023-02-02T17:16:19.197793",
     "status": "completed"
    },
    "tags": []
   },
   "outputs": [],
   "source": [
    "from sklearn.model_selection import train_test_split"
   ]
  },
  {
   "cell_type": "code",
   "execution_count": 34,
   "id": "12c296c6",
   "metadata": {
    "execution": {
     "iopub.execute_input": "2023-02-02T17:16:19.423658Z",
     "iopub.status.busy": "2023-02-02T17:16:19.423211Z",
     "iopub.status.idle": "2023-02-02T17:16:19.431381Z",
     "shell.execute_reply": "2023-02-02T17:16:19.430236Z"
    },
    "papermill": {
     "duration": 0.038262,
     "end_time": "2023-02-02T17:16:19.433889",
     "exception": false,
     "start_time": "2023-02-02T17:16:19.395627",
     "status": "completed"
    },
    "tags": []
   },
   "outputs": [],
   "source": [
    "train_X, val_X, train_y, val_y = train_test_split(X,y,random_state=0) "
   ]
  },
  {
   "cell_type": "markdown",
   "id": "114cb7b9",
   "metadata": {
    "papermill": {
     "duration": 0.025801,
     "end_time": "2023-02-02T17:16:19.486185",
     "exception": false,
     "start_time": "2023-02-02T17:16:19.460384",
     "status": "completed"
    },
    "tags": []
   },
   "source": [
    "***"
   ]
  },
  {
   "cell_type": "code",
   "execution_count": 35,
   "id": "b0edb1e3",
   "metadata": {
    "execution": {
     "iopub.execute_input": "2023-02-02T17:16:19.539742Z",
     "iopub.status.busy": "2023-02-02T17:16:19.539304Z",
     "iopub.status.idle": "2023-02-02T17:16:19.543800Z",
     "shell.execute_reply": "2023-02-02T17:16:19.542994Z"
    },
    "papermill": {
     "duration": 0.033719,
     "end_time": "2023-02-02T17:16:19.545761",
     "exception": false,
     "start_time": "2023-02-02T17:16:19.512042",
     "status": "completed"
    },
    "tags": []
   },
   "outputs": [],
   "source": [
    "# 1st Model fitting"
   ]
  },
  {
   "cell_type": "code",
   "execution_count": 36,
   "id": "54447999",
   "metadata": {
    "execution": {
     "iopub.execute_input": "2023-02-02T17:16:19.599859Z",
     "iopub.status.busy": "2023-02-02T17:16:19.599189Z",
     "iopub.status.idle": "2023-02-02T17:16:21.704875Z",
     "shell.execute_reply": "2023-02-02T17:16:21.703926Z"
    },
    "papermill": {
     "duration": 2.135394,
     "end_time": "2023-02-02T17:16:21.707319",
     "exception": false,
     "start_time": "2023-02-02T17:16:19.571925",
     "status": "completed"
    },
    "tags": []
   },
   "outputs": [
    {
     "data": {
      "text/plain": [
       "RandomForestRegressor(random_state=0)"
      ]
     },
     "execution_count": 36,
     "metadata": {},
     "output_type": "execute_result"
    }
   ],
   "source": [
    "from sklearn.ensemble import RandomForestRegressor\n",
    "model_1= RandomForestRegressor(n_estimators = 100, random_state = 0)\n",
    "model_1.fit(train_X,train_y)"
   ]
  },
  {
   "cell_type": "code",
   "execution_count": 37,
   "id": "d1ce5653",
   "metadata": {
    "execution": {
     "iopub.execute_input": "2023-02-02T17:16:21.762229Z",
     "iopub.status.busy": "2023-02-02T17:16:21.761822Z",
     "iopub.status.idle": "2023-02-02T17:16:21.791419Z",
     "shell.execute_reply": "2023-02-02T17:16:21.790659Z"
    },
    "papermill": {
     "duration": 0.059568,
     "end_time": "2023-02-02T17:16:21.793473",
     "exception": false,
     "start_time": "2023-02-02T17:16:21.733905",
     "status": "completed"
    },
    "tags": []
   },
   "outputs": [
    {
     "data": {
      "text/plain": [
       "17430.867506849314"
      ]
     },
     "execution_count": 37,
     "metadata": {},
     "output_type": "execute_result"
    }
   ],
   "source": [
    "from sklearn.metrics import mean_absolute_error\n",
    "\n",
    "\n",
    "mean_absolute_error(val_y, model_1.predict(val_X))\n",
    "#MAE = 17430.867506849314"
   ]
  },
  {
   "cell_type": "markdown",
   "id": "e7162e71",
   "metadata": {
    "papermill": {
     "duration": 0.025972,
     "end_time": "2023-02-02T17:16:21.845796",
     "exception": false,
     "start_time": "2023-02-02T17:16:21.819824",
     "status": "completed"
    },
    "tags": []
   },
   "source": [
    "***"
   ]
  },
  {
   "cell_type": "code",
   "execution_count": 38,
   "id": "ed9d788f",
   "metadata": {
    "execution": {
     "iopub.execute_input": "2023-02-02T17:16:21.902258Z",
     "iopub.status.busy": "2023-02-02T17:16:21.901538Z",
     "iopub.status.idle": "2023-02-02T17:16:21.905320Z",
     "shell.execute_reply": "2023-02-02T17:16:21.904593Z"
    },
    "papermill": {
     "duration": 0.034838,
     "end_time": "2023-02-02T17:16:21.907186",
     "exception": false,
     "start_time": "2023-02-02T17:16:21.872348",
     "status": "completed"
    },
    "tags": []
   },
   "outputs": [],
   "source": [
    "#Correlated features"
   ]
  },
  {
   "cell_type": "code",
   "execution_count": 39,
   "id": "9c3b3de3",
   "metadata": {
    "execution": {
     "iopub.execute_input": "2023-02-02T17:16:21.961230Z",
     "iopub.status.busy": "2023-02-02T17:16:21.960846Z",
     "iopub.status.idle": "2023-02-02T17:16:22.046532Z",
     "shell.execute_reply": "2023-02-02T17:16:22.045365Z"
    },
    "papermill": {
     "duration": 0.115957,
     "end_time": "2023-02-02T17:16:22.049312",
     "exception": false,
     "start_time": "2023-02-02T17:16:21.933355",
     "status": "completed"
    },
    "tags": []
   },
   "outputs": [],
   "source": [
    "correlation=train_X.corr()"
   ]
  },
  {
   "cell_type": "code",
   "execution_count": 40,
   "id": "0918aff3",
   "metadata": {
    "execution": {
     "iopub.execute_input": "2023-02-02T17:16:22.104694Z",
     "iopub.status.busy": "2023-02-02T17:16:22.103705Z",
     "iopub.status.idle": "2023-02-02T17:16:25.317098Z",
     "shell.execute_reply": "2023-02-02T17:16:25.315991Z"
    },
    "papermill": {
     "duration": 3.24477,
     "end_time": "2023-02-02T17:16:25.320556",
     "exception": false,
     "start_time": "2023-02-02T17:16:22.075786",
     "status": "completed"
    },
    "tags": []
   },
   "outputs": [
    {
     "data": {
      "text/plain": [
       "<AxesSubplot:>"
      ]
     },
     "execution_count": 40,
     "metadata": {},
     "output_type": "execute_result"
    },
    {
     "data": {
      "image/png": "[encoded data removed]",
      "text/plain": [
       "<Figure size 1440x1440 with 2 Axes>"
      ]
     },
     "metadata": {},
     "output_type": "display_data"
    }
   ],
   "source": [
    "high_sums=[correlation[col].sum()-1>0.7 for col in correlation.columns]\n",
    "high_corr=correlation[high_sums]\n",
    "high_corr=high_corr[high_corr.index]\n",
    "\n",
    "plt.rcParams['figure.figsize']=20,20\n",
    "sns.set_style(\"whitegrid\")\n",
    "sns.heatmap(high_corr,mask=high_corr<0.7,cmap='crest',linewidths=0.5, linecolor='grey')\n",
    "\n",
    "#High correlation for :\n",
    "#TotalBsmtSF and 1stFlrSF\n",
    "#GRLivArea and TotRmsAbvGrd\n",
    "#2ndFlrSF and HouseStyle_2Story\n",
    "#GarageCars and GarageArea\n",
    "#Exterior1st_CemntBd and Exterior2nd_CmentBd\n",
    "#Exterior1st_AsphShn and Exterior2nd_AsphShn"
   ]
  },
  {
   "cell_type": "code",
   "execution_count": 41,
   "id": "c2147e14",
   "metadata": {
    "execution": {
     "iopub.execute_input": "2023-02-02T17:16:25.381312Z",
     "iopub.status.busy": "2023-02-02T17:16:25.380896Z",
     "iopub.status.idle": "2023-02-02T17:16:48.973002Z",
     "shell.execute_reply": "2023-02-02T17:16:48.972204Z"
    },
    "papermill": {
     "duration": 23.625252,
     "end_time": "2023-02-02T17:16:48.975281",
     "exception": false,
     "start_time": "2023-02-02T17:16:25.350029",
     "status": "completed"
    },
    "tags": []
   },
   "outputs": [
    {
     "data": {
      "text/html": [
       "<style type='text/css'>\n",
       ".datatable table.frame { margin-bottom: 0; }\n",
       ".datatable table.frame thead { border-bottom: none; }\n",
       ".datatable table.frame tr.coltypes td {  color: #FFFFFF;  line-height: 6px;  padding: 0 0.5em;}\n",
       ".datatable .bool    { background: #DDDD99; }\n",
       ".datatable .object  { background: #565656; }\n",
       ".datatable .int     { background: #5D9E5D; }\n",
       ".datatable .float   { background: #4040CC; }\n",
       ".datatable .str     { background: #CC4040; }\n",
       ".datatable .time    { background: #40CC40; }\n",
       ".datatable .row_index {  background: var(--jp-border-color3);  border-right: 1px solid var(--jp-border-color0);  color: var(--jp-ui-font-color3);  font-size: 9px;}\n",
       ".datatable .frame tbody td { text-align: left; }\n",
       ".datatable .frame tr.coltypes .row_index {  background: var(--jp-border-color0);}\n",
       ".datatable th:nth-child(2) { padding-left: 12px; }\n",
       ".datatable .hellipsis {  color: var(--jp-cell-editor-border-color);}\n",
       ".datatable .vellipsis {  background: var(--jp-layout-color0);  color: var(--jp-cell-editor-border-color);}\n",
       ".datatable .na {  color: var(--jp-cell-editor-border-color);  font-size: 80%;}\n",
       ".datatable .sp {  opacity: 0.25;}\n",
       ".datatable .footer { font-size: 9px; }\n",
       ".datatable .frame_dimensions {  background: var(--jp-border-color3);  border-top: 1px solid var(--jp-border-color0);  color: var(--jp-ui-font-color3);  display: inline-block;  opacity: 0.6;  padding: 1px 10px 1px 5px;}\n",
       "</style>\n"
      ],
      "text/plain": [
       "<IPython.core.display.HTML object>"
      ]
     },
     "metadata": {},
     "output_type": "display_data"
    },
    {
     "data": {
      "text/html": [
       "\n",
       "    <style>\n",
       "    table.eli5-weights tr:hover {\n",
       "        filter: brightness(85%);\n",
       "    }\n",
       "</style>\n",
       "\n",
       "\n",
       "\n",
       "    \n",
       "\n",
       "    \n",
       "\n",
       "    \n",
       "\n",
       "    \n",
       "\n",
       "    \n",
       "\n",
       "    \n",
       "\n",
       "\n",
       "    \n",
       "\n",
       "    \n",
       "\n",
       "    \n",
       "\n",
       "    \n",
       "\n",
       "    \n",
       "\n",
       "    \n",
       "\n",
       "\n",
       "    \n",
       "\n",
       "    \n",
       "\n",
       "    \n",
       "\n",
       "    \n",
       "\n",
       "    \n",
       "        <table class=\"eli5-weights eli5-feature-importances\" style=\"border-collapse: collapse; border: none; margin-top: 0em; table-layout: auto;\">\n",
       "    <thead>\n",
       "    <tr style=\"border: none;\">\n",
       "        <th style=\"padding: 0 1em 0 0.5em; text-align: right; border: none;\">Weight</th>\n",
       "        <th style=\"padding: 0 0.5em 0 0.5em; text-align: left; border: none;\">Feature</th>\n",
       "    </tr>\n",
       "    </thead>\n",
       "    <tbody>\n",
       "    \n",
       "        <tr style=\"background-color: hsl(120, 100.00%, 80.00%); border: none;\">\n",
       "            <td style=\"padding: 0 1em 0 0.5em; text-align: right; border: none;\">\n",
       "                0.4656\n",
       "                \n",
       "                    &plusmn; 0.0767\n",
       "                \n",
       "            </td>\n",
       "            <td style=\"padding: 0 0.5em 0 0.5em; text-align: left; border: none;\">\n",
       "                OverallQual\n",
       "            </td>\n",
       "        </tr>\n",
       "    \n",
       "        <tr style=\"background-color: hsl(120, 100.00%, 92.69%); border: none;\">\n",
       "            <td style=\"padding: 0 1em 0 0.5em; text-align: right; border: none;\">\n",
       "                0.1105\n",
       "                \n",
       "                    &plusmn; 0.0235\n",
       "                \n",
       "            </td>\n",
       "            <td style=\"padding: 0 0.5em 0 0.5em; text-align: left; border: none;\">\n",
       "                GrLivArea\n",
       "            </td>\n",
       "        </tr>\n",
       "    \n",
       "        <tr style=\"background-color: hsl(120, 100.00%, 97.73%); border: none;\">\n",
       "            <td style=\"padding: 0 1em 0 0.5em; text-align: right; border: none;\">\n",
       "                0.0207\n",
       "                \n",
       "                    &plusmn; 0.0072\n",
       "                \n",
       "            </td>\n",
       "            <td style=\"padding: 0 0.5em 0 0.5em; text-align: left; border: none;\">\n",
       "                TotalBsmtSF\n",
       "            </td>\n",
       "        </tr>\n",
       "    \n",
       "        <tr style=\"background-color: hsl(120, 100.00%, 97.98%); border: none;\">\n",
       "            <td style=\"padding: 0 1em 0 0.5em; text-align: right; border: none;\">\n",
       "                0.0176\n",
       "                \n",
       "                    &plusmn; 0.0042\n",
       "                \n",
       "            </td>\n",
       "            <td style=\"padding: 0 0.5em 0 0.5em; text-align: left; border: none;\">\n",
       "                BsmtFinSF1\n",
       "            </td>\n",
       "        </tr>\n",
       "    \n",
       "        <tr style=\"background-color: hsl(120, 100.00%, 98.17%); border: none;\">\n",
       "            <td style=\"padding: 0 1em 0 0.5em; text-align: right; border: none;\">\n",
       "                0.0153\n",
       "                \n",
       "                    &plusmn; 0.0050\n",
       "                \n",
       "            </td>\n",
       "            <td style=\"padding: 0 0.5em 0 0.5em; text-align: left; border: none;\">\n",
       "                GarageCars\n",
       "            </td>\n",
       "        </tr>\n",
       "    \n",
       "        <tr style=\"background-color: hsl(120, 100.00%, 98.25%); border: none;\">\n",
       "            <td style=\"padding: 0 1em 0 0.5em; text-align: right; border: none;\">\n",
       "                0.0143\n",
       "                \n",
       "                    &plusmn; 0.0050\n",
       "                \n",
       "            </td>\n",
       "            <td style=\"padding: 0 0.5em 0 0.5em; text-align: left; border: none;\">\n",
       "                1stFlrSF\n",
       "            </td>\n",
       "        </tr>\n",
       "    \n",
       "        <tr style=\"background-color: hsl(120, 100.00%, 98.79%); border: none;\">\n",
       "            <td style=\"padding: 0 1em 0 0.5em; text-align: right; border: none;\">\n",
       "                0.0084\n",
       "                \n",
       "                    &plusmn; 0.0013\n",
       "                \n",
       "            </td>\n",
       "            <td style=\"padding: 0 0.5em 0 0.5em; text-align: left; border: none;\">\n",
       "                2ndFlrSF\n",
       "            </td>\n",
       "        </tr>\n",
       "    \n",
       "        <tr style=\"background-color: hsl(120, 100.00%, 98.87%); border: none;\">\n",
       "            <td style=\"padding: 0 1em 0 0.5em; text-align: right; border: none;\">\n",
       "                0.0076\n",
       "                \n",
       "                    &plusmn; 0.0026\n",
       "                \n",
       "            </td>\n",
       "            <td style=\"padding: 0 0.5em 0 0.5em; text-align: left; border: none;\">\n",
       "                LotArea\n",
       "            </td>\n",
       "        </tr>\n",
       "    \n",
       "        <tr style=\"background-color: hsl(120, 100.00%, 99.25%); border: none;\">\n",
       "            <td style=\"padding: 0 1em 0 0.5em; text-align: right; border: none;\">\n",
       "                0.0043\n",
       "                \n",
       "                    &plusmn; 0.0015\n",
       "                \n",
       "            </td>\n",
       "            <td style=\"padding: 0 0.5em 0 0.5em; text-align: left; border: none;\">\n",
       "                YearRemodAdd\n",
       "            </td>\n",
       "        </tr>\n",
       "    \n",
       "        <tr style=\"background-color: hsl(120, 100.00%, 99.34%); border: none;\">\n",
       "            <td style=\"padding: 0 1em 0 0.5em; text-align: right; border: none;\">\n",
       "                0.0035\n",
       "                \n",
       "                    &plusmn; 0.0014\n",
       "                \n",
       "            </td>\n",
       "            <td style=\"padding: 0 0.5em 0 0.5em; text-align: left; border: none;\">\n",
       "                OverallCond\n",
       "            </td>\n",
       "        </tr>\n",
       "    \n",
       "    \n",
       "        \n",
       "            <tr style=\"background-color: hsl(120, 100.00%, 99.34%); border: none;\">\n",
       "                <td colspan=\"2\" style=\"padding: 0 0.5em 0 0.5em; text-align: center; border: none; white-space: nowrap;\">\n",
       "                    <i>&hellip; 153 more &hellip;</i>\n",
       "                </td>\n",
       "            </tr>\n",
       "        \n",
       "    \n",
       "    </tbody>\n",
       "</table>\n",
       "    \n",
       "\n",
       "    \n",
       "\n",
       "\n",
       "    \n",
       "\n",
       "    \n",
       "\n",
       "    \n",
       "\n",
       "    \n",
       "\n",
       "    \n",
       "\n",
       "    \n",
       "\n",
       "\n",
       "\n"
      ],
      "text/plain": [
       "<IPython.core.display.HTML object>"
      ]
     },
     "execution_count": 41,
     "metadata": {},
     "output_type": "execute_result"
    }
   ],
   "source": [
    "import eli5\n",
    "from eli5.sklearn import PermutationImportance\n",
    "\n",
    "perm = PermutationImportance(model_1, random_state=1).fit(val_X, val_y)\n",
    "eli5.show_weights(perm,top=10, feature_names = val_X.columns.tolist())"
   ]
  },
  {
   "cell_type": "code",
   "execution_count": 42,
   "id": "c6601038",
   "metadata": {
    "execution": {
     "iopub.execute_input": "2023-02-02T17:16:49.039079Z",
     "iopub.status.busy": "2023-02-02T17:16:49.037893Z",
     "iopub.status.idle": "2023-02-02T17:16:49.043793Z",
     "shell.execute_reply": "2023-02-02T17:16:49.042957Z"
    },
    "papermill": {
     "duration": 0.040423,
     "end_time": "2023-02-02T17:16:49.046101",
     "exception": false,
     "start_time": "2023-02-02T17:16:49.005678",
     "status": "completed"
    },
    "tags": []
   },
   "outputs": [],
   "source": [
    "weights=perm.feature_importances_\n",
    "Feature_weights=pd.DataFrame({'Features':val_X.columns,'Weights':weights})"
   ]
  },
  {
   "cell_type": "code",
   "execution_count": 43,
   "id": "d18ed59c",
   "metadata": {
    "execution": {
     "iopub.execute_input": "2023-02-02T17:16:49.107184Z",
     "iopub.status.busy": "2023-02-02T17:16:49.106776Z",
     "iopub.status.idle": "2023-02-02T17:16:49.112847Z",
     "shell.execute_reply": "2023-02-02T17:16:49.111830Z"
    },
    "papermill": {
     "duration": 0.038982,
     "end_time": "2023-02-02T17:16:49.114976",
     "exception": false,
     "start_time": "2023-02-02T17:16:49.075994",
     "status": "completed"
    },
    "tags": []
   },
   "outputs": [],
   "source": [
    "Feature_weights=Feature_weights.sort_values(by=[\"Weights\"],ascending=False)"
   ]
  },
  {
   "cell_type": "code",
   "execution_count": 44,
   "id": "c6887a35",
   "metadata": {
    "execution": {
     "iopub.execute_input": "2023-02-02T17:16:49.175714Z",
     "iopub.status.busy": "2023-02-02T17:16:49.175269Z",
     "iopub.status.idle": "2023-02-02T17:16:49.190016Z",
     "shell.execute_reply": "2023-02-02T17:16:49.188928Z"
    },
    "papermill": {
     "duration": 0.047901,
     "end_time": "2023-02-02T17:16:49.192370",
     "exception": false,
     "start_time": "2023-02-02T17:16:49.144469",
     "status": "completed"
    },
    "tags": []
   },
   "outputs": [
    {
     "data": {
      "text/html": [
       "<div>\n",
       "<style scoped>\n",
       "    .dataframe tbody tr th:only-of-type {\n",
       "        vertical-align: middle;\n",
       "    }\n",
       "\n",
       "    .dataframe tbody tr th {\n",
       "        vertical-align: top;\n",
       "    }\n",
       "\n",
       "    .dataframe thead th {\n",
       "        text-align: right;\n",
       "    }\n",
       "</style>\n",
       "<table border=\"1\" class=\"dataframe\">\n",
       "  <thead>\n",
       "    <tr style=\"text-align: right;\">\n",
       "      <th></th>\n",
       "      <th>Features</th>\n",
       "      <th>Weights</th>\n",
       "    </tr>\n",
       "  </thead>\n",
       "  <tbody>\n",
       "    <tr>\n",
       "      <th>4</th>\n",
       "      <td>OverallQual</td>\n",
       "      <td>4.656281e-01</td>\n",
       "    </tr>\n",
       "    <tr>\n",
       "      <th>14</th>\n",
       "      <td>GrLivArea</td>\n",
       "      <td>1.104949e-01</td>\n",
       "    </tr>\n",
       "    <tr>\n",
       "      <th>11</th>\n",
       "      <td>TotalBsmtSF</td>\n",
       "      <td>2.074755e-02</td>\n",
       "    </tr>\n",
       "    <tr>\n",
       "      <th>9</th>\n",
       "      <td>BsmtFinSF1</td>\n",
       "      <td>1.763075e-02</td>\n",
       "    </tr>\n",
       "    <tr>\n",
       "      <th>22</th>\n",
       "      <td>GarageCars</td>\n",
       "      <td>1.532742e-02</td>\n",
       "    </tr>\n",
       "    <tr>\n",
       "      <th>...</th>\n",
       "      <td>...</td>\n",
       "      <td>...</td>\n",
       "    </tr>\n",
       "    <tr>\n",
       "      <th>123</th>\n",
       "      <td>Foundation_Slab</td>\n",
       "      <td>1.657088e-06</td>\n",
       "    </tr>\n",
       "    <tr>\n",
       "      <th>95</th>\n",
       "      <td>Exterior1st_WdShing</td>\n",
       "      <td>1.218792e-06</td>\n",
       "    </tr>\n",
       "    <tr>\n",
       "      <th>60</th>\n",
       "      <td>Neighborhood_SWISU</td>\n",
       "      <td>6.946357e-07</td>\n",
       "    </tr>\n",
       "    <tr>\n",
       "      <th>96</th>\n",
       "      <td>Exterior2nd_AsbShng</td>\n",
       "      <td>4.687911e-07</td>\n",
       "    </tr>\n",
       "    <tr>\n",
       "      <th>55</th>\n",
       "      <td>Neighborhood_NPkVill</td>\n",
       "      <td>2.560918e-07</td>\n",
       "    </tr>\n",
       "  </tbody>\n",
       "</table>\n",
       "<p>98 rows × 2 columns</p>\n",
       "</div>"
      ],
      "text/plain": [
       "                 Features       Weights\n",
       "4             OverallQual  4.656281e-01\n",
       "14              GrLivArea  1.104949e-01\n",
       "11            TotalBsmtSF  2.074755e-02\n",
       "9              BsmtFinSF1  1.763075e-02\n",
       "22             GarageCars  1.532742e-02\n",
       "..                    ...           ...\n",
       "123       Foundation_Slab  1.657088e-06\n",
       "95    Exterior1st_WdShing  1.218792e-06\n",
       "60     Neighborhood_SWISU  6.946357e-07\n",
       "96    Exterior2nd_AsbShng  4.687911e-07\n",
       "55   Neighborhood_NPkVill  2.560918e-07\n",
       "\n",
       "[98 rows x 2 columns]"
      ]
     },
     "execution_count": 44,
     "metadata": {},
     "output_type": "execute_result"
    }
   ],
   "source": [
    "Feature_weights[Feature_weights['Weights']>0]"
   ]
  },
  {
   "cell_type": "code",
   "execution_count": 45,
   "id": "cc4213e6",
   "metadata": {
    "execution": {
     "iopub.execute_input": "2023-02-02T17:16:49.253481Z",
     "iopub.status.busy": "2023-02-02T17:16:49.253082Z",
     "iopub.status.idle": "2023-02-02T17:16:49.278138Z",
     "shell.execute_reply": "2023-02-02T17:16:49.277017Z"
    },
    "papermill": {
     "duration": 0.059336,
     "end_time": "2023-02-02T17:16:49.281417",
     "exception": false,
     "start_time": "2023-02-02T17:16:49.222081",
     "status": "completed"
    },
    "tags": []
   },
   "outputs": [
    {
     "name": "stdout",
     "output_type": "stream",
     "text": [
      "        Features   Weights\n",
      "19  TotRmsAbvGrd -0.001876\n",
      "    Features  Weights\n",
      "13  2ndFlrSF  0.00842\n",
      "             Features  Weights\n",
      "72  HouseStyle_2Story -0.00006\n",
      "      Features   Weights\n",
      "22  GarageCars  0.015327\n",
      "      Features   Weights\n",
      "23  GarageArea  0.001282\n",
      "               Features   Weights\n",
      "86  Exterior1st_CemntBd -0.000006\n",
      "                Features   Weights\n",
      "101  Exterior2nd_CmentBd  0.000059\n",
      "               Features  Weights\n",
      "82  Exterior1st_AsphShn      0.0\n",
      "               Features  Weights\n",
      "97  Exterior2nd_AsphShn      0.0\n"
     ]
    }
   ],
   "source": [
    "print(Feature_weights[Feature_weights['Features']=='TotRmsAbvGrd'])\n",
    "\n",
    "print(Feature_weights[Feature_weights['Features']=='2ndFlrSF'])\n",
    "print(Feature_weights[Feature_weights['Features']=='HouseStyle_2Story'])\n",
    "\n",
    "print(Feature_weights[Feature_weights['Features']=='GarageCars'])\n",
    "print(Feature_weights[Feature_weights['Features']=='GarageArea'])\n",
    "\n",
    "print(Feature_weights[Feature_weights['Features']=='Exterior1st_CemntBd'])\n",
    "print(Feature_weights[Feature_weights['Features']=='Exterior2nd_CmentBd'])\n",
    "\n",
    "print(Feature_weights[Feature_weights['Features']=='Exterior1st_AsphShn'])\n",
    "print(Feature_weights[Feature_weights['Features']=='Exterior2nd_AsphShn'])\n",
    "\n",
    "#TotalBsmtSF > 1stFlrSF\n",
    "#GRLivArea > TotRmsAbvGrd\n",
    "#2ndFlrSF >HouseStyle_2Story\n",
    "#GarageCars > GarageArea\n",
    "#Exterior1st_CemntBd < Exterior2nd_CmentBd\n",
    "#Exterior1st_AsphShn and Exterior2nd_AsphShn =0\n",
    "to_remove=['1stFlrSF','TotRmsAbvGrd','HouseStyle_2Story','GarageArea','Exterior1st_CemntBd']"
   ]
  },
  {
   "cell_type": "code",
   "execution_count": 46,
   "id": "c79a39a3",
   "metadata": {
    "execution": {
     "iopub.execute_input": "2023-02-02T17:16:49.342239Z",
     "iopub.status.busy": "2023-02-02T17:16:49.341859Z",
     "iopub.status.idle": "2023-02-02T17:16:49.349532Z",
     "shell.execute_reply": "2023-02-02T17:16:49.348429Z"
    },
    "papermill": {
     "duration": 0.040664,
     "end_time": "2023-02-02T17:16:49.351830",
     "exception": false,
     "start_time": "2023-02-02T17:16:49.311166",
     "status": "completed"
    },
    "tags": []
   },
   "outputs": [
    {
     "data": {
      "text/plain": [
       "98"
      ]
     },
     "execution_count": 46,
     "metadata": {},
     "output_type": "execute_result"
    }
   ],
   "source": [
    "Selected_features=Feature_weights[Feature_weights['Weights']>0].Features.tolist()\n",
    "len(Selected_features) #98"
   ]
  },
  {
   "cell_type": "code",
   "execution_count": 47,
   "id": "0b3c8985",
   "metadata": {
    "execution": {
     "iopub.execute_input": "2023-02-02T17:16:49.412479Z",
     "iopub.status.busy": "2023-02-02T17:16:49.412070Z",
     "iopub.status.idle": "2023-02-02T17:16:49.420185Z",
     "shell.execute_reply": "2023-02-02T17:16:49.419157Z"
    },
    "papermill": {
     "duration": 0.041704,
     "end_time": "2023-02-02T17:16:49.422699",
     "exception": false,
     "start_time": "2023-02-02T17:16:49.380995",
     "status": "completed"
    },
    "tags": []
   },
   "outputs": [
    {
     "data": {
      "text/plain": [
       "['OverallQual',\n",
       " 'GrLivArea',\n",
       " 'TotalBsmtSF',\n",
       " 'BsmtFinSF1',\n",
       " 'GarageCars',\n",
       " '1stFlrSF',\n",
       " '2ndFlrSF',\n",
       " 'LotArea',\n",
       " 'YearRemodAdd',\n",
       " 'OverallCond',\n",
       " 'OpenPorchSF',\n",
       " 'YearBuilt',\n",
       " 'GarageYrBlt',\n",
       " 'BsmtQual_Ex',\n",
       " 'BsmtUnfSF',\n",
       " 'MSZoning_RM',\n",
       " 'GarageArea',\n",
       " 'Neighborhood_Edwards',\n",
       " 'FullBath',\n",
       " 'MSSubClass',\n",
       " 'HalfBath',\n",
       " 'BsmtQual_Gd',\n",
       " 'ExterQual_Gd',\n",
       " 'KitchenQual_Gd',\n",
       " 'Neighborhood_StoneBr',\n",
       " 'LotShape_IR1',\n",
       " 'BedroomAbvGr',\n",
       " 'RoofStyle_Gable',\n",
       " 'KitchenQual_TA',\n",
       " 'BsmtExposure_Av',\n",
       " 'LotConfig_Inside',\n",
       " 'GarageType_Attchd',\n",
       " 'GarageFinish_Fin',\n",
       " 'BsmtExposure_No',\n",
       " 'Fireplaces',\n",
       " 'MasVnrType_Stone',\n",
       " 'Neighborhood_Crawfor',\n",
       " 'LotShape_Reg',\n",
       " 'RoofStyle_Hip',\n",
       " 'GarageType_BuiltIn',\n",
       " 'BsmtFinType1_GLQ',\n",
       " 'ExterQual_Ex',\n",
       " 'GarageType_Detchd',\n",
       " 'MasVnrType_BrkFace',\n",
       " 'Neighborhood_NAmes',\n",
       " 'Neighborhood_NridgHt',\n",
       " 'Foundation_PConc',\n",
       " 'MSZoning_RL',\n",
       " 'ExterQual_TA',\n",
       " 'Exterior1st_Plywood',\n",
       " 'WoodDeckSF',\n",
       " 'HouseStyle_1.5Fin',\n",
       " 'Neighborhood_OldTown',\n",
       " 'BsmtFinType1_ALQ',\n",
       " 'Foundation_CBlock',\n",
       " 'Exterior2nd_CmentBd',\n",
       " 'LotConfig_CulDSac',\n",
       " 'Exterior2nd_MetalSd',\n",
       " 'HouseStyle_SLvl',\n",
       " 'HeatingQC_Fa',\n",
       " 'MasVnrArea',\n",
       " 'GarageFinish_Unf',\n",
       " 'Neighborhood_CollgCr',\n",
       " 'Exterior1st_MetalSd',\n",
       " 'MSZoning_C (all)',\n",
       " 'Neighborhood_BrkSide',\n",
       " 'Neighborhood_NWAmes',\n",
       " 'GarageFinish_NA',\n",
       " 'Neighborhood_Veenker',\n",
       " 'LotConfig_FR2',\n",
       " 'Foundation_BrkTil',\n",
       " 'BsmtFinType1_NA',\n",
       " 'Neighborhood_SawyerW',\n",
       " 'GarageType_CarPort',\n",
       " 'Exterior1st_BrkFace',\n",
       " 'MasVnrType_BrkCmn',\n",
       " 'BsmtExposure_NA',\n",
       " 'Exterior1st_Wd Sdng',\n",
       " 'Exterior2nd_BrkFace',\n",
       " 'Neighborhood_Gilbert',\n",
       " 'Neighborhood_MeadowV',\n",
       " 'KitchenQual_Fa',\n",
       " 'HouseStyle_1.5Unf',\n",
       " 'Exterior1st_AsbShng',\n",
       " 'Neighborhood_Blmngtn',\n",
       " 'LotShape_IR3',\n",
       " 'BsmtFinType1_BLQ',\n",
       " 'GarageType_Basment',\n",
       " 'ExterQual_Fa',\n",
       " 'MSZoning_FV',\n",
       " 'Exterior2nd_Stone',\n",
       " 'Exterior2nd_Brk Cmn',\n",
       " 'Neighborhood_BrDale',\n",
       " 'Foundation_Slab',\n",
       " 'Exterior1st_WdShing',\n",
       " 'Neighborhood_SWISU',\n",
       " 'Exterior2nd_AsbShng',\n",
       " 'Neighborhood_NPkVill']"
      ]
     },
     "execution_count": 47,
     "metadata": {},
     "output_type": "execute_result"
    }
   ],
   "source": [
    "Selected_features"
   ]
  },
  {
   "cell_type": "code",
   "execution_count": 48,
   "id": "b54ee205",
   "metadata": {
    "execution": {
     "iopub.execute_input": "2023-02-02T17:16:49.485385Z",
     "iopub.status.busy": "2023-02-02T17:16:49.485009Z",
     "iopub.status.idle": "2023-02-02T17:16:49.488932Z",
     "shell.execute_reply": "2023-02-02T17:16:49.488201Z"
    },
    "papermill": {
     "duration": 0.03804,
     "end_time": "2023-02-02T17:16:49.490987",
     "exception": false,
     "start_time": "2023-02-02T17:16:49.452947",
     "status": "completed"
    },
    "tags": []
   },
   "outputs": [],
   "source": [
    "for item in to_remove:\n",
    "    if item in Selected_features :\n",
    "        Selected_features.remove(item)"
   ]
  },
  {
   "cell_type": "code",
   "execution_count": 49,
   "id": "b50c1e9e",
   "metadata": {
    "execution": {
     "iopub.execute_input": "2023-02-02T17:16:49.552515Z",
     "iopub.status.busy": "2023-02-02T17:16:49.552122Z",
     "iopub.status.idle": "2023-02-02T17:16:49.557211Z",
     "shell.execute_reply": "2023-02-02T17:16:49.556460Z"
    },
    "papermill": {
     "duration": 0.03863,
     "end_time": "2023-02-02T17:16:49.559342",
     "exception": false,
     "start_time": "2023-02-02T17:16:49.520712",
     "status": "completed"
    },
    "tags": []
   },
   "outputs": [
    {
     "data": {
      "text/plain": [
       "96"
      ]
     },
     "execution_count": 49,
     "metadata": {},
     "output_type": "execute_result"
    }
   ],
   "source": [
    "len(Selected_features) #96"
   ]
  },
  {
   "cell_type": "markdown",
   "id": "34873b1f",
   "metadata": {
    "papermill": {
     "duration": 0.029878,
     "end_time": "2023-02-02T17:16:49.619420",
     "exception": false,
     "start_time": "2023-02-02T17:16:49.589542",
     "status": "completed"
    },
    "tags": []
   },
   "source": [
    "***"
   ]
  },
  {
   "cell_type": "code",
   "execution_count": 50,
   "id": "7f27af5f",
   "metadata": {
    "execution": {
     "iopub.execute_input": "2023-02-02T17:16:49.681575Z",
     "iopub.status.busy": "2023-02-02T17:16:49.680919Z",
     "iopub.status.idle": "2023-02-02T17:16:49.684682Z",
     "shell.execute_reply": "2023-02-02T17:16:49.683857Z"
    },
    "papermill": {
     "duration": 0.037328,
     "end_time": "2023-02-02T17:16:49.686765",
     "exception": false,
     "start_time": "2023-02-02T17:16:49.649437",
     "status": "completed"
    },
    "tags": []
   },
   "outputs": [],
   "source": [
    "# 2nd Model fitting"
   ]
  },
  {
   "cell_type": "code",
   "execution_count": 51,
   "id": "ad682352",
   "metadata": {
    "execution": {
     "iopub.execute_input": "2023-02-02T17:16:49.749306Z",
     "iopub.status.busy": "2023-02-02T17:16:49.748716Z",
     "iopub.status.idle": "2023-02-02T17:16:49.753677Z",
     "shell.execute_reply": "2023-02-02T17:16:49.752915Z"
    },
    "papermill": {
     "duration": 0.039045,
     "end_time": "2023-02-02T17:16:49.755704",
     "exception": false,
     "start_time": "2023-02-02T17:16:49.716659",
     "status": "completed"
    },
    "tags": []
   },
   "outputs": [],
   "source": [
    "X2=X[Selected_features]"
   ]
  },
  {
   "cell_type": "code",
   "execution_count": 52,
   "id": "10bb3254",
   "metadata": {
    "execution": {
     "iopub.execute_input": "2023-02-02T17:16:49.818340Z",
     "iopub.status.busy": "2023-02-02T17:16:49.817724Z",
     "iopub.status.idle": "2023-02-02T17:16:49.824354Z",
     "shell.execute_reply": "2023-02-02T17:16:49.823614Z"
    },
    "papermill": {
     "duration": 0.040227,
     "end_time": "2023-02-02T17:16:49.826340",
     "exception": false,
     "start_time": "2023-02-02T17:16:49.786113",
     "status": "completed"
    },
    "tags": []
   },
   "outputs": [],
   "source": [
    "train_X, val_X, train_y, val_y = train_test_split(X2,y,random_state=0) "
   ]
  },
  {
   "cell_type": "code",
   "execution_count": 53,
   "id": "cd9bbd4d",
   "metadata": {
    "execution": {
     "iopub.execute_input": "2023-02-02T17:16:49.888571Z",
     "iopub.status.busy": "2023-02-02T17:16:49.887967Z",
     "iopub.status.idle": "2023-02-02T17:16:51.214087Z",
     "shell.execute_reply": "2023-02-02T17:16:51.212992Z"
    },
    "papermill": {
     "duration": 1.35982,
     "end_time": "2023-02-02T17:16:51.216394",
     "exception": false,
     "start_time": "2023-02-02T17:16:49.856574",
     "status": "completed"
    },
    "tags": []
   },
   "outputs": [
    {
     "data": {
      "text/plain": [
       "RandomForestRegressor(random_state=0)"
      ]
     },
     "execution_count": 53,
     "metadata": {},
     "output_type": "execute_result"
    }
   ],
   "source": [
    "model_2= RandomForestRegressor(n_estimators = 100, random_state = 0)\n",
    "model_2.fit(train_X,train_y)"
   ]
  },
  {
   "cell_type": "code",
   "execution_count": 54,
   "id": "71b1247a",
   "metadata": {
    "execution": {
     "iopub.execute_input": "2023-02-02T17:16:51.279393Z",
     "iopub.status.busy": "2023-02-02T17:16:51.278981Z",
     "iopub.status.idle": "2023-02-02T17:16:51.308539Z",
     "shell.execute_reply": "2023-02-02T17:16:51.307515Z"
    },
    "papermill": {
     "duration": 0.063955,
     "end_time": "2023-02-02T17:16:51.310924",
     "exception": false,
     "start_time": "2023-02-02T17:16:51.246969",
     "status": "completed"
    },
    "tags": []
   },
   "outputs": [
    {
     "data": {
      "text/plain": [
       "16800.763835616435"
      ]
     },
     "execution_count": 54,
     "metadata": {},
     "output_type": "execute_result"
    }
   ],
   "source": [
    "mean_absolute_error(val_y, model_2.predict(val_X))\n",
    "#MAE = 16800.763835616435"
   ]
  },
  {
   "cell_type": "markdown",
   "id": "c09405e4",
   "metadata": {
    "papermill": {
     "duration": 0.030464,
     "end_time": "2023-02-02T17:16:51.372200",
     "exception": false,
     "start_time": "2023-02-02T17:16:51.341736",
     "status": "completed"
    },
    "tags": []
   },
   "source": [
    "***"
   ]
  },
  {
   "cell_type": "code",
   "execution_count": 55,
   "id": "33869d84",
   "metadata": {
    "execution": {
     "iopub.execute_input": "2023-02-02T17:16:51.437001Z",
     "iopub.status.busy": "2023-02-02T17:16:51.436557Z",
     "iopub.status.idle": "2023-02-02T17:16:51.441601Z",
     "shell.execute_reply": "2023-02-02T17:16:51.440428Z"
    },
    "papermill": {
     "duration": 0.041188,
     "end_time": "2023-02-02T17:16:51.444208",
     "exception": false,
     "start_time": "2023-02-02T17:16:51.403020",
     "status": "completed"
    },
    "tags": []
   },
   "outputs": [],
   "source": [
    "#2nd model feature analysis"
   ]
  },
  {
   "cell_type": "code",
   "execution_count": 56,
   "id": "02cf178a",
   "metadata": {
    "execution": {
     "iopub.execute_input": "2023-02-02T17:16:51.508042Z",
     "iopub.status.busy": "2023-02-02T17:16:51.507594Z",
     "iopub.status.idle": "2023-02-02T17:17:01.402410Z",
     "shell.execute_reply": "2023-02-02T17:17:01.401157Z"
    },
    "papermill": {
     "duration": 9.929816,
     "end_time": "2023-02-02T17:17:01.404889",
     "exception": false,
     "start_time": "2023-02-02T17:16:51.475073",
     "status": "completed"
    },
    "tags": []
   },
   "outputs": [
    {
     "data": {
      "text/html": [
       "\n",
       "    <style>\n",
       "    table.eli5-weights tr:hover {\n",
       "        filter: brightness(85%);\n",
       "    }\n",
       "</style>\n",
       "\n",
       "\n",
       "\n",
       "    \n",
       "\n",
       "    \n",
       "\n",
       "    \n",
       "\n",
       "    \n",
       "\n",
       "    \n",
       "\n",
       "    \n",
       "\n",
       "\n",
       "    \n",
       "\n",
       "    \n",
       "\n",
       "    \n",
       "\n",
       "    \n",
       "\n",
       "    \n",
       "\n",
       "    \n",
       "\n",
       "\n",
       "    \n",
       "\n",
       "    \n",
       "\n",
       "    \n",
       "\n",
       "    \n",
       "\n",
       "    \n",
       "        <table class=\"eli5-weights eli5-feature-importances\" style=\"border-collapse: collapse; border: none; margin-top: 0em; table-layout: auto;\">\n",
       "    <thead>\n",
       "    <tr style=\"border: none;\">\n",
       "        <th style=\"padding: 0 1em 0 0.5em; text-align: right; border: none;\">Weight</th>\n",
       "        <th style=\"padding: 0 0.5em 0 0.5em; text-align: left; border: none;\">Feature</th>\n",
       "    </tr>\n",
       "    </thead>\n",
       "    <tbody>\n",
       "    \n",
       "        <tr style=\"background-color: hsl(120, 100.00%, 80.00%); border: none;\">\n",
       "            <td style=\"padding: 0 1em 0 0.5em; text-align: right; border: none;\">\n",
       "                0.4899\n",
       "                \n",
       "                    &plusmn; 0.1105\n",
       "                \n",
       "            </td>\n",
       "            <td style=\"padding: 0 0.5em 0 0.5em; text-align: left; border: none;\">\n",
       "                OverallQual\n",
       "            </td>\n",
       "        </tr>\n",
       "    \n",
       "        <tr style=\"background-color: hsl(120, 100.00%, 92.38%); border: none;\">\n",
       "            <td style=\"padding: 0 1em 0 0.5em; text-align: right; border: none;\">\n",
       "                0.1233\n",
       "                \n",
       "                    &plusmn; 0.0336\n",
       "                \n",
       "            </td>\n",
       "            <td style=\"padding: 0 0.5em 0 0.5em; text-align: left; border: none;\">\n",
       "                GrLivArea\n",
       "            </td>\n",
       "        </tr>\n",
       "    \n",
       "        <tr style=\"background-color: hsl(120, 100.00%, 96.29%); border: none;\">\n",
       "            <td style=\"padding: 0 1em 0 0.5em; text-align: right; border: none;\">\n",
       "                0.0442\n",
       "                \n",
       "                    &plusmn; 0.0085\n",
       "                \n",
       "            </td>\n",
       "            <td style=\"padding: 0 0.5em 0 0.5em; text-align: left; border: none;\">\n",
       "                TotalBsmtSF\n",
       "            </td>\n",
       "        </tr>\n",
       "    \n",
       "        <tr style=\"background-color: hsl(120, 100.00%, 98.01%); border: none;\">\n",
       "            <td style=\"padding: 0 1em 0 0.5em; text-align: right; border: none;\">\n",
       "                0.0182\n",
       "                \n",
       "                    &plusmn; 0.0081\n",
       "                \n",
       "            </td>\n",
       "            <td style=\"padding: 0 0.5em 0 0.5em; text-align: left; border: none;\">\n",
       "                BsmtFinSF1\n",
       "            </td>\n",
       "        </tr>\n",
       "    \n",
       "        <tr style=\"background-color: hsl(120, 100.00%, 98.03%); border: none;\">\n",
       "            <td style=\"padding: 0 1em 0 0.5em; text-align: right; border: none;\">\n",
       "                0.0178\n",
       "                \n",
       "                    &plusmn; 0.0031\n",
       "                \n",
       "            </td>\n",
       "            <td style=\"padding: 0 0.5em 0 0.5em; text-align: left; border: none;\">\n",
       "                GarageCars\n",
       "            </td>\n",
       "        </tr>\n",
       "    \n",
       "        <tr style=\"background-color: hsl(120, 100.00%, 98.77%); border: none;\">\n",
       "            <td style=\"padding: 0 1em 0 0.5em; text-align: right; border: none;\">\n",
       "                0.0091\n",
       "                \n",
       "                    &plusmn; 0.0007\n",
       "                \n",
       "            </td>\n",
       "            <td style=\"padding: 0 0.5em 0 0.5em; text-align: left; border: none;\">\n",
       "                LotArea\n",
       "            </td>\n",
       "        </tr>\n",
       "    \n",
       "        <tr style=\"background-color: hsl(120, 100.00%, 99.03%); border: none;\">\n",
       "            <td style=\"padding: 0 1em 0 0.5em; text-align: right; border: none;\">\n",
       "                0.0065\n",
       "                \n",
       "                    &plusmn; 0.0031\n",
       "                \n",
       "            </td>\n",
       "            <td style=\"padding: 0 0.5em 0 0.5em; text-align: left; border: none;\">\n",
       "                YearBuilt\n",
       "            </td>\n",
       "        </tr>\n",
       "    \n",
       "        <tr style=\"background-color: hsl(120, 100.00%, 99.04%); border: none;\">\n",
       "            <td style=\"padding: 0 1em 0 0.5em; text-align: right; border: none;\">\n",
       "                0.0064\n",
       "                \n",
       "                    &plusmn; 0.0028\n",
       "                \n",
       "            </td>\n",
       "            <td style=\"padding: 0 0.5em 0 0.5em; text-align: left; border: none;\">\n",
       "                YearRemodAdd\n",
       "            </td>\n",
       "        </tr>\n",
       "    \n",
       "        <tr style=\"background-color: hsl(120, 100.00%, 99.43%); border: none;\">\n",
       "            <td style=\"padding: 0 1em 0 0.5em; text-align: right; border: none;\">\n",
       "                0.0030\n",
       "                \n",
       "                    &plusmn; 0.0012\n",
       "                \n",
       "            </td>\n",
       "            <td style=\"padding: 0 0.5em 0 0.5em; text-align: left; border: none;\">\n",
       "                OverallCond\n",
       "            </td>\n",
       "        </tr>\n",
       "    \n",
       "        <tr style=\"background-color: hsl(120, 100.00%, 99.47%); border: none;\">\n",
       "            <td style=\"padding: 0 1em 0 0.5em; text-align: right; border: none;\">\n",
       "                0.0027\n",
       "                \n",
       "                    &plusmn; 0.0040\n",
       "                \n",
       "            </td>\n",
       "            <td style=\"padding: 0 0.5em 0 0.5em; text-align: left; border: none;\">\n",
       "                BedroomAbvGr\n",
       "            </td>\n",
       "        </tr>\n",
       "    \n",
       "    \n",
       "        \n",
       "            <tr style=\"background-color: hsl(120, 100.00%, 99.47%); border: none;\">\n",
       "                <td colspan=\"2\" style=\"padding: 0 0.5em 0 0.5em; text-align: center; border: none; white-space: nowrap;\">\n",
       "                    <i>&hellip; 86 more &hellip;</i>\n",
       "                </td>\n",
       "            </tr>\n",
       "        \n",
       "    \n",
       "    </tbody>\n",
       "</table>\n",
       "    \n",
       "\n",
       "    \n",
       "\n",
       "\n",
       "    \n",
       "\n",
       "    \n",
       "\n",
       "    \n",
       "\n",
       "    \n",
       "\n",
       "    \n",
       "\n",
       "    \n",
       "\n",
       "\n",
       "\n"
      ],
      "text/plain": [
       "<IPython.core.display.HTML object>"
      ]
     },
     "execution_count": 56,
     "metadata": {},
     "output_type": "execute_result"
    }
   ],
   "source": [
    "perm = PermutationImportance(model_2, random_state=1).fit(val_X, val_y)\n",
    "eli5.show_weights(perm,top=10, feature_names = val_X.columns.tolist())"
   ]
  },
  {
   "cell_type": "code",
   "execution_count": 57,
   "id": "fdb98a73",
   "metadata": {
    "execution": {
     "iopub.execute_input": "2023-02-02T17:17:01.470046Z",
     "iopub.status.busy": "2023-02-02T17:17:01.469284Z",
     "iopub.status.idle": "2023-02-02T17:17:01.475626Z",
     "shell.execute_reply": "2023-02-02T17:17:01.474473Z"
    },
    "papermill": {
     "duration": 0.041482,
     "end_time": "2023-02-02T17:17:01.477986",
     "exception": false,
     "start_time": "2023-02-02T17:17:01.436504",
     "status": "completed"
    },
    "tags": []
   },
   "outputs": [],
   "source": [
    "weights=perm.feature_importances_\n",
    "Feature_weights=pd.DataFrame({'Features':val_X.columns,'Weights':weights})"
   ]
  },
  {
   "cell_type": "code",
   "execution_count": 58,
   "id": "6201128d",
   "metadata": {
    "execution": {
     "iopub.execute_input": "2023-02-02T17:17:01.543533Z",
     "iopub.status.busy": "2023-02-02T17:17:01.542567Z",
     "iopub.status.idle": "2023-02-02T17:17:01.548195Z",
     "shell.execute_reply": "2023-02-02T17:17:01.547373Z"
    },
    "papermill": {
     "duration": 0.040371,
     "end_time": "2023-02-02T17:17:01.550333",
     "exception": false,
     "start_time": "2023-02-02T17:17:01.509962",
     "status": "completed"
    },
    "tags": []
   },
   "outputs": [],
   "source": [
    "Feature_weights=Feature_weights.sort_values(by=[\"Weights\"],ascending=False)"
   ]
  },
  {
   "cell_type": "code",
   "execution_count": 59,
   "id": "d4652f80",
   "metadata": {
    "execution": {
     "iopub.execute_input": "2023-02-02T17:17:01.615183Z",
     "iopub.status.busy": "2023-02-02T17:17:01.614755Z",
     "iopub.status.idle": "2023-02-02T17:17:01.620402Z",
     "shell.execute_reply": "2023-02-02T17:17:01.619316Z"
    },
    "papermill": {
     "duration": 0.040925,
     "end_time": "2023-02-02T17:17:01.622792",
     "exception": false,
     "start_time": "2023-02-02T17:17:01.581867",
     "status": "completed"
    },
    "tags": []
   },
   "outputs": [],
   "source": [
    "Top10=Feature_weights.head(10).Features.tolist()"
   ]
  },
  {
   "cell_type": "code",
   "execution_count": 60,
   "id": "f57ac901",
   "metadata": {
    "execution": {
     "iopub.execute_input": "2023-02-02T17:17:01.687410Z",
     "iopub.status.busy": "2023-02-02T17:17:01.686668Z",
     "iopub.status.idle": "2023-02-02T17:17:04.354135Z",
     "shell.execute_reply": "2023-02-02T17:17:04.353146Z"
    },
    "papermill": {
     "duration": 2.702654,
     "end_time": "2023-02-02T17:17:04.356578",
     "exception": false,
     "start_time": "2023-02-02T17:17:01.653924",
     "status": "completed"
    },
    "tags": []
   },
   "outputs": [
    {
     "data": {
      "image/png": "[encoded data removed]",
      "text/plain": [
       "<Figure size 360x360 with 1 Axes>"
      ]
     },
     "metadata": {},
     "output_type": "display_data"
    },
    {
     "data": {
      "image/png": "[encoded data removed]",
      "text/plain": [
       "<Figure size 360x360 with 1 Axes>"
      ]
     },
     "metadata": {},
     "output_type": "display_data"
    },
    {
     "data": {
      "image/png": "[encoded data removed]",
      "text/plain": [
       "<Figure size 360x360 with 1 Axes>"
      ]
     },
     "metadata": {},
     "output_type": "display_data"
    },
    {
     "data": {
      "image/png": "[encoded data removed]",
      "text/plain": [
       "<Figure size 360x360 with 1 Axes>"
      ]
     },
     "metadata": {},
     "output_type": "display_data"
    },
    {
     "data": {
      "image/png": "[encoded data removed]",
      "text/plain": [
       "<Figure size 360x360 with 1 Axes>"
      ]
     },
     "metadata": {},
     "output_type": "display_data"
    },
    {
     "data": {
      "image/png": "[encoded data removed]",
      "text/plain": [
       "<Figure size 360x360 with 1 Axes>"
      ]
     },
     "metadata": {},
     "output_type": "display_data"
    },
    {
     "data": {
      "image/png": "[encoded data removed]",
      "text/plain": [
       "<Figure size 360x360 with 1 Axes>"
      ]
     },
     "metadata": {},
     "output_type": "display_data"
    },
    {
     "data": {
      "image/png": "[encoded data removed]",
      "text/plain": [
       "<Figure size 360x360 with 1 Axes>"
      ]
     },
     "metadata": {},
     "output_type": "display_data"
    },
    {
     "data": {
      "image/png": "[encoded data removed]",
      "text/plain": [
       "<Figure size 360x360 with 1 Axes>"
      ]
     },
     "metadata": {},
     "output_type": "display_data"
    },
    {
     "data": {
      "image/png": "[encoded data removed]",
      "text/plain": [
       "<Figure size 360x360 with 1 Axes>"
      ]
     },
     "metadata": {},
     "output_type": "display_data"
    }
   ],
   "source": [
    "for feature in Top10:\n",
    "    plt.rcParams['figure.figsize']=5,5\n",
    "    sns.scatterplot(x=train_X[feature],y=train_y)\n",
    "    plt.show()"
   ]
  },
  {
   "cell_type": "code",
   "execution_count": 61,
   "id": "4a392aad",
   "metadata": {
    "execution": {
     "iopub.execute_input": "2023-02-02T17:17:04.432994Z",
     "iopub.status.busy": "2023-02-02T17:17:04.432523Z",
     "iopub.status.idle": "2023-02-02T17:17:04.437451Z",
     "shell.execute_reply": "2023-02-02T17:17:04.436047Z"
    },
    "papermill": {
     "duration": 0.045754,
     "end_time": "2023-02-02T17:17:04.439680",
     "exception": false,
     "start_time": "2023-02-02T17:17:04.393926",
     "status": "completed"
    },
    "tags": []
   },
   "outputs": [],
   "source": [
    "import numpy as np"
   ]
  },
  {
   "cell_type": "code",
   "execution_count": 62,
   "id": "e14a400d",
   "metadata": {
    "execution": {
     "iopub.execute_input": "2023-02-02T17:17:04.514725Z",
     "iopub.status.busy": "2023-02-02T17:17:04.513601Z",
     "iopub.status.idle": "2023-02-02T17:17:04.534162Z",
     "shell.execute_reply": "2023-02-02T17:17:04.533292Z"
    },
    "papermill": {
     "duration": 0.0602,
     "end_time": "2023-02-02T17:17:04.536410",
     "exception": false,
     "start_time": "2023-02-02T17:17:04.476210",
     "status": "completed"
    },
    "tags": []
   },
   "outputs": [
    {
     "data": {
      "text/html": [
       "<div>\n",
       "<style scoped>\n",
       "    .dataframe tbody tr th:only-of-type {\n",
       "        vertical-align: middle;\n",
       "    }\n",
       "\n",
       "    .dataframe tbody tr th {\n",
       "        vertical-align: top;\n",
       "    }\n",
       "\n",
       "    .dataframe thead th {\n",
       "        text-align: right;\n",
       "    }\n",
       "</style>\n",
       "<table border=\"1\" class=\"dataframe\">\n",
       "  <thead>\n",
       "    <tr style=\"text-align: right;\">\n",
       "      <th></th>\n",
       "      <th>GrLivArea</th>\n",
       "      <th>TotalBsmtSF</th>\n",
       "      <th>BsmtFinSF1</th>\n",
       "      <th>GarageCars</th>\n",
       "      <th>2ndFlrSF</th>\n",
       "      <th>LotArea</th>\n",
       "      <th>YearRemodAdd</th>\n",
       "      <th>OverallCond</th>\n",
       "      <th>OpenPorchSF</th>\n",
       "      <th>YearBuilt</th>\n",
       "      <th>...</th>\n",
       "      <th>MSZoning_FV</th>\n",
       "      <th>Exterior2nd_Stone</th>\n",
       "      <th>Exterior2nd_Brk Cmn</th>\n",
       "      <th>Neighborhood_BrDale</th>\n",
       "      <th>Foundation_Slab</th>\n",
       "      <th>Exterior1st_WdShing</th>\n",
       "      <th>Neighborhood_SWISU</th>\n",
       "      <th>Exterior2nd_AsbShng</th>\n",
       "      <th>Neighborhood_NPkVill</th>\n",
       "      <th>NewQual</th>\n",
       "    </tr>\n",
       "  </thead>\n",
       "  <tbody>\n",
       "    <tr>\n",
       "      <th>0</th>\n",
       "      <td>1710</td>\n",
       "      <td>856</td>\n",
       "      <td>706</td>\n",
       "      <td>2</td>\n",
       "      <td>854</td>\n",
       "      <td>8450</td>\n",
       "      <td>2003</td>\n",
       "      <td>5</td>\n",
       "      <td>61</td>\n",
       "      <td>2003</td>\n",
       "      <td>...</td>\n",
       "      <td>0</td>\n",
       "      <td>0</td>\n",
       "      <td>0</td>\n",
       "      <td>0</td>\n",
       "      <td>0</td>\n",
       "      <td>0</td>\n",
       "      <td>0</td>\n",
       "      <td>0</td>\n",
       "      <td>0</td>\n",
       "      <td>49</td>\n",
       "    </tr>\n",
       "    <tr>\n",
       "      <th>1</th>\n",
       "      <td>1262</td>\n",
       "      <td>1262</td>\n",
       "      <td>978</td>\n",
       "      <td>2</td>\n",
       "      <td>0</td>\n",
       "      <td>9600</td>\n",
       "      <td>1976</td>\n",
       "      <td>8</td>\n",
       "      <td>0</td>\n",
       "      <td>1976</td>\n",
       "      <td>...</td>\n",
       "      <td>0</td>\n",
       "      <td>0</td>\n",
       "      <td>0</td>\n",
       "      <td>0</td>\n",
       "      <td>0</td>\n",
       "      <td>0</td>\n",
       "      <td>0</td>\n",
       "      <td>0</td>\n",
       "      <td>0</td>\n",
       "      <td>36</td>\n",
       "    </tr>\n",
       "    <tr>\n",
       "      <th>2</th>\n",
       "      <td>1786</td>\n",
       "      <td>920</td>\n",
       "      <td>486</td>\n",
       "      <td>2</td>\n",
       "      <td>866</td>\n",
       "      <td>11250</td>\n",
       "      <td>2002</td>\n",
       "      <td>5</td>\n",
       "      <td>42</td>\n",
       "      <td>2001</td>\n",
       "      <td>...</td>\n",
       "      <td>0</td>\n",
       "      <td>0</td>\n",
       "      <td>0</td>\n",
       "      <td>0</td>\n",
       "      <td>0</td>\n",
       "      <td>0</td>\n",
       "      <td>0</td>\n",
       "      <td>0</td>\n",
       "      <td>0</td>\n",
       "      <td>49</td>\n",
       "    </tr>\n",
       "    <tr>\n",
       "      <th>3</th>\n",
       "      <td>1717</td>\n",
       "      <td>756</td>\n",
       "      <td>216</td>\n",
       "      <td>3</td>\n",
       "      <td>756</td>\n",
       "      <td>9550</td>\n",
       "      <td>1970</td>\n",
       "      <td>5</td>\n",
       "      <td>35</td>\n",
       "      <td>1915</td>\n",
       "      <td>...</td>\n",
       "      <td>0</td>\n",
       "      <td>0</td>\n",
       "      <td>0</td>\n",
       "      <td>0</td>\n",
       "      <td>0</td>\n",
       "      <td>0</td>\n",
       "      <td>0</td>\n",
       "      <td>0</td>\n",
       "      <td>0</td>\n",
       "      <td>49</td>\n",
       "    </tr>\n",
       "    <tr>\n",
       "      <th>4</th>\n",
       "      <td>2198</td>\n",
       "      <td>1145</td>\n",
       "      <td>655</td>\n",
       "      <td>3</td>\n",
       "      <td>1053</td>\n",
       "      <td>14260</td>\n",
       "      <td>2000</td>\n",
       "      <td>5</td>\n",
       "      <td>84</td>\n",
       "      <td>2000</td>\n",
       "      <td>...</td>\n",
       "      <td>0</td>\n",
       "      <td>0</td>\n",
       "      <td>0</td>\n",
       "      <td>0</td>\n",
       "      <td>0</td>\n",
       "      <td>0</td>\n",
       "      <td>0</td>\n",
       "      <td>0</td>\n",
       "      <td>0</td>\n",
       "      <td>64</td>\n",
       "    </tr>\n",
       "  </tbody>\n",
       "</table>\n",
       "<p>5 rows × 96 columns</p>\n",
       "</div>"
      ],
      "text/plain": [
       "   GrLivArea  TotalBsmtSF  BsmtFinSF1  GarageCars  2ndFlrSF  LotArea  \\\n",
       "0       1710          856         706           2       854     8450   \n",
       "1       1262         1262         978           2         0     9600   \n",
       "2       1786          920         486           2       866    11250   \n",
       "3       1717          756         216           3       756     9550   \n",
       "4       2198         1145         655           3      1053    14260   \n",
       "\n",
       "   YearRemodAdd  OverallCond  OpenPorchSF  YearBuilt  ...  MSZoning_FV  \\\n",
       "0          2003            5           61       2003  ...            0   \n",
       "1          1976            8            0       1976  ...            0   \n",
       "2          2002            5           42       2001  ...            0   \n",
       "3          1970            5           35       1915  ...            0   \n",
       "4          2000            5           84       2000  ...            0   \n",
       "\n",
       "   Exterior2nd_Stone  Exterior2nd_Brk Cmn  Neighborhood_BrDale  \\\n",
       "0                  0                    0                    0   \n",
       "1                  0                    0                    0   \n",
       "2                  0                    0                    0   \n",
       "3                  0                    0                    0   \n",
       "4                  0                    0                    0   \n",
       "\n",
       "   Foundation_Slab  Exterior1st_WdShing  Neighborhood_SWISU  \\\n",
       "0                0                    0                   0   \n",
       "1                0                    0                   0   \n",
       "2                0                    0                   0   \n",
       "3                0                    0                   0   \n",
       "4                0                    0                   0   \n",
       "\n",
       "   Exterior2nd_AsbShng  Neighborhood_NPkVill  NewQual  \n",
       "0                    0                     0       49  \n",
       "1                    0                     0       36  \n",
       "2                    0                     0       49  \n",
       "3                    0                     0       49  \n",
       "4                    0                     0       64  \n",
       "\n",
       "[5 rows x 96 columns]"
      ]
     },
     "execution_count": 62,
     "metadata": {},
     "output_type": "execute_result"
    }
   ],
   "source": [
    "X3=X2.copy()\n",
    "X3['NewQual']=(X3['OverallQual'])**2\n",
    "X3=X3.drop('OverallQual',axis=1)\n",
    "X3.head()"
   ]
  },
  {
   "cell_type": "markdown",
   "id": "09c577e5",
   "metadata": {
    "papermill": {
     "duration": 0.036658,
     "end_time": "2023-02-02T17:17:04.610587",
     "exception": false,
     "start_time": "2023-02-02T17:17:04.573929",
     "status": "completed"
    },
    "tags": []
   },
   "source": [
    "***"
   ]
  },
  {
   "cell_type": "code",
   "execution_count": 63,
   "id": "f815e883",
   "metadata": {
    "execution": {
     "iopub.execute_input": "2023-02-02T17:17:04.686725Z",
     "iopub.status.busy": "2023-02-02T17:17:04.686090Z",
     "iopub.status.idle": "2023-02-02T17:17:04.689775Z",
     "shell.execute_reply": "2023-02-02T17:17:04.688995Z"
    },
    "papermill": {
     "duration": 0.043951,
     "end_time": "2023-02-02T17:17:04.691809",
     "exception": false,
     "start_time": "2023-02-02T17:17:04.647858",
     "status": "completed"
    },
    "tags": []
   },
   "outputs": [],
   "source": [
    "# 3rd Model fitting"
   ]
  },
  {
   "cell_type": "code",
   "execution_count": 64,
   "id": "e006d243",
   "metadata": {
    "execution": {
     "iopub.execute_input": "2023-02-02T17:17:04.767311Z",
     "iopub.status.busy": "2023-02-02T17:17:04.766662Z",
     "iopub.status.idle": "2023-02-02T17:17:04.773530Z",
     "shell.execute_reply": "2023-02-02T17:17:04.772694Z"
    },
    "papermill": {
     "duration": 0.047279,
     "end_time": "2023-02-02T17:17:04.775792",
     "exception": false,
     "start_time": "2023-02-02T17:17:04.728513",
     "status": "completed"
    },
    "tags": []
   },
   "outputs": [],
   "source": [
    "train_X, val_X, train_y, val_y = train_test_split(X3,y,random_state=0) "
   ]
  },
  {
   "cell_type": "code",
   "execution_count": 65,
   "id": "83f801eb",
   "metadata": {
    "execution": {
     "iopub.execute_input": "2023-02-02T17:17:04.851984Z",
     "iopub.status.busy": "2023-02-02T17:17:04.851336Z",
     "iopub.status.idle": "2023-02-02T17:17:06.181654Z",
     "shell.execute_reply": "2023-02-02T17:17:06.180519Z"
    },
    "papermill": {
     "duration": 1.37102,
     "end_time": "2023-02-02T17:17:06.183919",
     "exception": false,
     "start_time": "2023-02-02T17:17:04.812899",
     "status": "completed"
    },
    "tags": []
   },
   "outputs": [
    {
     "data": {
      "text/plain": [
       "RandomForestRegressor(random_state=0)"
      ]
     },
     "execution_count": 65,
     "metadata": {},
     "output_type": "execute_result"
    }
   ],
   "source": [
    "model_3= RandomForestRegressor(n_estimators = 100, random_state = 0)\n",
    "model_3.fit(train_X,train_y)"
   ]
  },
  {
   "cell_type": "code",
   "execution_count": 66,
   "id": "201016c4",
   "metadata": {
    "execution": {
     "iopub.execute_input": "2023-02-02T17:17:06.261045Z",
     "iopub.status.busy": "2023-02-02T17:17:06.260580Z",
     "iopub.status.idle": "2023-02-02T17:17:06.290328Z",
     "shell.execute_reply": "2023-02-02T17:17:06.289254Z"
    },
    "papermill": {
     "duration": 0.070991,
     "end_time": "2023-02-02T17:17:06.292469",
     "exception": false,
     "start_time": "2023-02-02T17:17:06.221478",
     "status": "completed"
    },
    "tags": []
   },
   "outputs": [
    {
     "data": {
      "text/plain": [
       "16837.17728767123"
      ]
     },
     "execution_count": 66,
     "metadata": {},
     "output_type": "execute_result"
    }
   ],
   "source": [
    "mean_absolute_error(val_y, model_3.predict(val_X))\n",
    "#MAE = 16837.17728767123"
   ]
  },
  {
   "cell_type": "code",
   "execution_count": 67,
   "id": "6d3d997d",
   "metadata": {
    "execution": {
     "iopub.execute_input": "2023-02-02T17:17:06.369423Z",
     "iopub.status.busy": "2023-02-02T17:17:06.368981Z",
     "iopub.status.idle": "2023-02-02T17:17:06.633067Z",
     "shell.execute_reply": "2023-02-02T17:17:06.631996Z"
    },
    "papermill": {
     "duration": 0.305638,
     "end_time": "2023-02-02T17:17:06.635407",
     "exception": false,
     "start_time": "2023-02-02T17:17:06.329769",
     "status": "completed"
    },
    "tags": []
   },
   "outputs": [
    {
     "data": {
      "image/png": "[encoded data removed]",
      "text/plain": [
       "<Figure size 360x360 with 1 Axes>"
      ]
     },
     "metadata": {},
     "output_type": "display_data"
    }
   ],
   "source": [
    "plt.rcParams['figure.figsize']=5,5\n",
    "log=np.log(train_X['NewQual'])\n",
    "sns.scatterplot(x=train_X['NewQual'],y=train_y)\n",
    "plt.show()"
   ]
  },
  {
   "cell_type": "markdown",
   "id": "dd9fe06c",
   "metadata": {
    "papermill": {
     "duration": 0.037377,
     "end_time": "2023-02-02T17:17:06.710293",
     "exception": false,
     "start_time": "2023-02-02T17:17:06.672916",
     "status": "completed"
    },
    "tags": []
   },
   "source": [
    "***"
   ]
  },
  {
   "cell_type": "code",
   "execution_count": 68,
   "id": "2f578f91",
   "metadata": {
    "execution": {
     "iopub.execute_input": "2023-02-02T17:17:06.788193Z",
     "iopub.status.busy": "2023-02-02T17:17:06.787060Z",
     "iopub.status.idle": "2023-02-02T17:17:06.791390Z",
     "shell.execute_reply": "2023-02-02T17:17:06.790676Z"
    },
    "papermill": {
     "duration": 0.045141,
     "end_time": "2023-02-02T17:17:06.793298",
     "exception": false,
     "start_time": "2023-02-02T17:17:06.748157",
     "status": "completed"
    },
    "tags": []
   },
   "outputs": [],
   "source": [
    "#Getting rid of outliers"
   ]
  },
  {
   "cell_type": "code",
   "execution_count": 69,
   "id": "5bd1f969",
   "metadata": {
    "execution": {
     "iopub.execute_input": "2023-02-02T17:17:06.871226Z",
     "iopub.status.busy": "2023-02-02T17:17:06.869830Z",
     "iopub.status.idle": "2023-02-02T17:17:07.101090Z",
     "shell.execute_reply": "2023-02-02T17:17:07.099924Z"
    },
    "papermill": {
     "duration": 0.272571,
     "end_time": "2023-02-02T17:17:07.103408",
     "exception": false,
     "start_time": "2023-02-02T17:17:06.830837",
     "status": "completed"
    },
    "tags": []
   },
   "outputs": [
    {
     "data": {
      "text/html": [
       "<div>\n",
       "<style scoped>\n",
       "    .dataframe tbody tr th:only-of-type {\n",
       "        vertical-align: middle;\n",
       "    }\n",
       "\n",
       "    .dataframe tbody tr th {\n",
       "        vertical-align: top;\n",
       "    }\n",
       "\n",
       "    .dataframe thead th {\n",
       "        text-align: right;\n",
       "    }\n",
       "</style>\n",
       "<table border=\"1\" class=\"dataframe\">\n",
       "  <thead>\n",
       "    <tr style=\"text-align: right;\">\n",
       "      <th></th>\n",
       "      <th>GrLivArea</th>\n",
       "      <th>TotalBsmtSF</th>\n",
       "      <th>BsmtFinSF1</th>\n",
       "      <th>GarageCars</th>\n",
       "      <th>2ndFlrSF</th>\n",
       "      <th>LotArea</th>\n",
       "      <th>YearRemodAdd</th>\n",
       "      <th>OverallCond</th>\n",
       "      <th>OpenPorchSF</th>\n",
       "      <th>YearBuilt</th>\n",
       "      <th>...</th>\n",
       "      <th>MSZoning_FV</th>\n",
       "      <th>Exterior2nd_Stone</th>\n",
       "      <th>Exterior2nd_Brk Cmn</th>\n",
       "      <th>Neighborhood_BrDale</th>\n",
       "      <th>Foundation_Slab</th>\n",
       "      <th>Exterior1st_WdShing</th>\n",
       "      <th>Neighborhood_SWISU</th>\n",
       "      <th>Exterior2nd_AsbShng</th>\n",
       "      <th>Neighborhood_NPkVill</th>\n",
       "      <th>NewQual</th>\n",
       "    </tr>\n",
       "  </thead>\n",
       "  <tbody>\n",
       "    <tr>\n",
       "      <th>count</th>\n",
       "      <td>1394.000000</td>\n",
       "      <td>1394.000000</td>\n",
       "      <td>1394.000000</td>\n",
       "      <td>1394.000000</td>\n",
       "      <td>1394.000000</td>\n",
       "      <td>1394.00000</td>\n",
       "      <td>1394.000000</td>\n",
       "      <td>1394.000000</td>\n",
       "      <td>1394.000000</td>\n",
       "      <td>1394.000000</td>\n",
       "      <td>...</td>\n",
       "      <td>1394.000000</td>\n",
       "      <td>1394.000000</td>\n",
       "      <td>1394.000000</td>\n",
       "      <td>1394.000000</td>\n",
       "      <td>1394.000000</td>\n",
       "      <td>1394.000000</td>\n",
       "      <td>1394.000000</td>\n",
       "      <td>1394.000000</td>\n",
       "      <td>1394.000000</td>\n",
       "      <td>1394.000000</td>\n",
       "    </tr>\n",
       "    <tr>\n",
       "      <th>mean</th>\n",
       "      <td>1471.941176</td>\n",
       "      <td>1016.732425</td>\n",
       "      <td>412.355093</td>\n",
       "      <td>1.727403</td>\n",
       "      <td>342.286944</td>\n",
       "      <td>9672.98637</td>\n",
       "      <td>1984.452654</td>\n",
       "      <td>5.588235</td>\n",
       "      <td>45.538020</td>\n",
       "      <td>1970.860115</td>\n",
       "      <td>...</td>\n",
       "      <td>0.046628</td>\n",
       "      <td>0.002869</td>\n",
       "      <td>0.005022</td>\n",
       "      <td>0.011478</td>\n",
       "      <td>0.017217</td>\n",
       "      <td>0.017934</td>\n",
       "      <td>0.016499</td>\n",
       "      <td>0.014347</td>\n",
       "      <td>0.006456</td>\n",
       "      <td>37.991392</td>\n",
       "    </tr>\n",
       "    <tr>\n",
       "      <th>std</th>\n",
       "      <td>459.887025</td>\n",
       "      <td>371.623988</td>\n",
       "      <td>400.912693</td>\n",
       "      <td>0.723125</td>\n",
       "      <td>422.226112</td>\n",
       "      <td>4350.55598</td>\n",
       "      <td>20.768463</td>\n",
       "      <td>1.111723</td>\n",
       "      <td>65.222588</td>\n",
       "      <td>30.023797</td>\n",
       "      <td>...</td>\n",
       "      <td>0.210917</td>\n",
       "      <td>0.053509</td>\n",
       "      <td>0.070710</td>\n",
       "      <td>0.106556</td>\n",
       "      <td>0.130124</td>\n",
       "      <td>0.132759</td>\n",
       "      <td>0.127431</td>\n",
       "      <td>0.118960</td>\n",
       "      <td>0.080120</td>\n",
       "      <td>16.225437</td>\n",
       "    </tr>\n",
       "    <tr>\n",
       "      <th>min</th>\n",
       "      <td>334.000000</td>\n",
       "      <td>0.000000</td>\n",
       "      <td>0.000000</td>\n",
       "      <td>0.000000</td>\n",
       "      <td>0.000000</td>\n",
       "      <td>1300.00000</td>\n",
       "      <td>1950.000000</td>\n",
       "      <td>1.000000</td>\n",
       "      <td>0.000000</td>\n",
       "      <td>1872.000000</td>\n",
       "      <td>...</td>\n",
       "      <td>0.000000</td>\n",
       "      <td>0.000000</td>\n",
       "      <td>0.000000</td>\n",
       "      <td>0.000000</td>\n",
       "      <td>0.000000</td>\n",
       "      <td>0.000000</td>\n",
       "      <td>0.000000</td>\n",
       "      <td>0.000000</td>\n",
       "      <td>0.000000</td>\n",
       "      <td>1.000000</td>\n",
       "    </tr>\n",
       "    <tr>\n",
       "      <th>25%</th>\n",
       "      <td>1118.500000</td>\n",
       "      <td>788.000000</td>\n",
       "      <td>0.000000</td>\n",
       "      <td>1.000000</td>\n",
       "      <td>0.000000</td>\n",
       "      <td>7440.00000</td>\n",
       "      <td>1966.000000</td>\n",
       "      <td>5.000000</td>\n",
       "      <td>0.000000</td>\n",
       "      <td>1953.000000</td>\n",
       "      <td>...</td>\n",
       "      <td>0.000000</td>\n",
       "      <td>0.000000</td>\n",
       "      <td>0.000000</td>\n",
       "      <td>0.000000</td>\n",
       "      <td>0.000000</td>\n",
       "      <td>0.000000</td>\n",
       "      <td>0.000000</td>\n",
       "      <td>0.000000</td>\n",
       "      <td>0.000000</td>\n",
       "      <td>25.000000</td>\n",
       "    </tr>\n",
       "    <tr>\n",
       "      <th>50%</th>\n",
       "      <td>1436.500000</td>\n",
       "      <td>973.500000</td>\n",
       "      <td>369.500000</td>\n",
       "      <td>2.000000</td>\n",
       "      <td>0.000000</td>\n",
       "      <td>9308.00000</td>\n",
       "      <td>1993.000000</td>\n",
       "      <td>5.000000</td>\n",
       "      <td>24.000000</td>\n",
       "      <td>1972.000000</td>\n",
       "      <td>...</td>\n",
       "      <td>0.000000</td>\n",
       "      <td>0.000000</td>\n",
       "      <td>0.000000</td>\n",
       "      <td>0.000000</td>\n",
       "      <td>0.000000</td>\n",
       "      <td>0.000000</td>\n",
       "      <td>0.000000</td>\n",
       "      <td>0.000000</td>\n",
       "      <td>0.000000</td>\n",
       "      <td>36.000000</td>\n",
       "    </tr>\n",
       "    <tr>\n",
       "      <th>75%</th>\n",
       "      <td>1733.750000</td>\n",
       "      <td>1248.750000</td>\n",
       "      <td>686.000000</td>\n",
       "      <td>2.000000</td>\n",
       "      <td>728.000000</td>\n",
       "      <td>11329.00000</td>\n",
       "      <td>2004.000000</td>\n",
       "      <td>6.000000</td>\n",
       "      <td>66.000000</td>\n",
       "      <td>2000.000000</td>\n",
       "      <td>...</td>\n",
       "      <td>0.000000</td>\n",
       "      <td>0.000000</td>\n",
       "      <td>0.000000</td>\n",
       "      <td>0.000000</td>\n",
       "      <td>0.000000</td>\n",
       "      <td>0.000000</td>\n",
       "      <td>0.000000</td>\n",
       "      <td>0.000000</td>\n",
       "      <td>0.000000</td>\n",
       "      <td>49.000000</td>\n",
       "    </tr>\n",
       "    <tr>\n",
       "      <th>max</th>\n",
       "      <td>2978.000000</td>\n",
       "      <td>1992.000000</td>\n",
       "      <td>1480.000000</td>\n",
       "      <td>3.000000</td>\n",
       "      <td>1611.000000</td>\n",
       "      <td>46589.00000</td>\n",
       "      <td>2010.000000</td>\n",
       "      <td>9.000000</td>\n",
       "      <td>547.000000</td>\n",
       "      <td>2010.000000</td>\n",
       "      <td>...</td>\n",
       "      <td>1.000000</td>\n",
       "      <td>1.000000</td>\n",
       "      <td>1.000000</td>\n",
       "      <td>1.000000</td>\n",
       "      <td>1.000000</td>\n",
       "      <td>1.000000</td>\n",
       "      <td>1.000000</td>\n",
       "      <td>1.000000</td>\n",
       "      <td>1.000000</td>\n",
       "      <td>100.000000</td>\n",
       "    </tr>\n",
       "  </tbody>\n",
       "</table>\n",
       "<p>8 rows × 96 columns</p>\n",
       "</div>"
      ],
      "text/plain": [
       "         GrLivArea  TotalBsmtSF   BsmtFinSF1   GarageCars     2ndFlrSF  \\\n",
       "count  1394.000000  1394.000000  1394.000000  1394.000000  1394.000000   \n",
       "mean   1471.941176  1016.732425   412.355093     1.727403   342.286944   \n",
       "std     459.887025   371.623988   400.912693     0.723125   422.226112   \n",
       "min     334.000000     0.000000     0.000000     0.000000     0.000000   \n",
       "25%    1118.500000   788.000000     0.000000     1.000000     0.000000   \n",
       "50%    1436.500000   973.500000   369.500000     2.000000     0.000000   \n",
       "75%    1733.750000  1248.750000   686.000000     2.000000   728.000000   \n",
       "max    2978.000000  1992.000000  1480.000000     3.000000  1611.000000   \n",
       "\n",
       "           LotArea  YearRemodAdd  OverallCond  OpenPorchSF    YearBuilt  ...  \\\n",
       "count   1394.00000   1394.000000  1394.000000  1394.000000  1394.000000  ...   \n",
       "mean    9672.98637   1984.452654     5.588235    45.538020  1970.860115  ...   \n",
       "std     4350.55598     20.768463     1.111723    65.222588    30.023797  ...   \n",
       "min     1300.00000   1950.000000     1.000000     0.000000  1872.000000  ...   \n",
       "25%     7440.00000   1966.000000     5.000000     0.000000  1953.000000  ...   \n",
       "50%     9308.00000   1993.000000     5.000000    24.000000  1972.000000  ...   \n",
       "75%    11329.00000   2004.000000     6.000000    66.000000  2000.000000  ...   \n",
       "max    46589.00000   2010.000000     9.000000   547.000000  2010.000000  ...   \n",
       "\n",
       "       MSZoning_FV  Exterior2nd_Stone  Exterior2nd_Brk Cmn  \\\n",
       "count  1394.000000        1394.000000          1394.000000   \n",
       "mean      0.046628           0.002869             0.005022   \n",
       "std       0.210917           0.053509             0.070710   \n",
       "min       0.000000           0.000000             0.000000   \n",
       "25%       0.000000           0.000000             0.000000   \n",
       "50%       0.000000           0.000000             0.000000   \n",
       "75%       0.000000           0.000000             0.000000   \n",
       "max       1.000000           1.000000             1.000000   \n",
       "\n",
       "       Neighborhood_BrDale  Foundation_Slab  Exterior1st_WdShing  \\\n",
       "count          1394.000000      1394.000000          1394.000000   \n",
       "mean              0.011478         0.017217             0.017934   \n",
       "std               0.106556         0.130124             0.132759   \n",
       "min               0.000000         0.000000             0.000000   \n",
       "25%               0.000000         0.000000             0.000000   \n",
       "50%               0.000000         0.000000             0.000000   \n",
       "75%               0.000000         0.000000             0.000000   \n",
       "max               1.000000         1.000000             1.000000   \n",
       "\n",
       "       Neighborhood_SWISU  Exterior2nd_AsbShng  Neighborhood_NPkVill  \\\n",
       "count         1394.000000          1394.000000           1394.000000   \n",
       "mean             0.016499             0.014347              0.006456   \n",
       "std              0.127431             0.118960              0.080120   \n",
       "min              0.000000             0.000000              0.000000   \n",
       "25%              0.000000             0.000000              0.000000   \n",
       "50%              0.000000             0.000000              0.000000   \n",
       "75%              0.000000             0.000000              0.000000   \n",
       "max              1.000000             1.000000              1.000000   \n",
       "\n",
       "           NewQual  \n",
       "count  1394.000000  \n",
       "mean     37.991392  \n",
       "std      16.225437  \n",
       "min       1.000000  \n",
       "25%      25.000000  \n",
       "50%      36.000000  \n",
       "75%      49.000000  \n",
       "max     100.000000  \n",
       "\n",
       "[8 rows x 96 columns]"
      ]
     },
     "execution_count": 69,
     "metadata": {},
     "output_type": "execute_result"
    }
   ],
   "source": [
    "X4=X3.copy()\n",
    "X4['SalesPrice']=y\n",
    "X4=X4.query('GrLivArea<3000 and TotalBsmtSF<2000 and BsmtFinSF1<1500 and GarageCars<4 and LotArea<50000')\n",
    "y=X4.pop('SalesPrice')\n",
    "X4.describe()"
   ]
  },
  {
   "cell_type": "markdown",
   "id": "ba82242e",
   "metadata": {
    "papermill": {
     "duration": 0.038322,
     "end_time": "2023-02-02T17:17:07.181368",
     "exception": false,
     "start_time": "2023-02-02T17:17:07.143046",
     "status": "completed"
    },
    "tags": []
   },
   "source": [
    "***"
   ]
  },
  {
   "cell_type": "code",
   "execution_count": 70,
   "id": "f5078d4f",
   "metadata": {
    "execution": {
     "iopub.execute_input": "2023-02-02T17:17:07.259523Z",
     "iopub.status.busy": "2023-02-02T17:17:07.259098Z",
     "iopub.status.idle": "2023-02-02T17:17:07.263981Z",
     "shell.execute_reply": "2023-02-02T17:17:07.262726Z"
    },
    "papermill": {
     "duration": 0.046559,
     "end_time": "2023-02-02T17:17:07.266112",
     "exception": false,
     "start_time": "2023-02-02T17:17:07.219553",
     "status": "completed"
    },
    "tags": []
   },
   "outputs": [],
   "source": [
    "#4th model fitting"
   ]
  },
  {
   "cell_type": "code",
   "execution_count": 71,
   "id": "2bcb720e",
   "metadata": {
    "execution": {
     "iopub.execute_input": "2023-02-02T17:17:07.343875Z",
     "iopub.status.busy": "2023-02-02T17:17:07.343465Z",
     "iopub.status.idle": "2023-02-02T17:17:07.351053Z",
     "shell.execute_reply": "2023-02-02T17:17:07.350002Z"
    },
    "papermill": {
     "duration": 0.049116,
     "end_time": "2023-02-02T17:17:07.353276",
     "exception": false,
     "start_time": "2023-02-02T17:17:07.304160",
     "status": "completed"
    },
    "tags": []
   },
   "outputs": [],
   "source": [
    "train_X, val_X, train_y, val_y = train_test_split(X4,y,random_state=0) "
   ]
  },
  {
   "cell_type": "code",
   "execution_count": 72,
   "id": "46e8da96",
   "metadata": {
    "execution": {
     "iopub.execute_input": "2023-02-02T17:17:07.432038Z",
     "iopub.status.busy": "2023-02-02T17:17:07.431007Z",
     "iopub.status.idle": "2023-02-02T17:17:08.671826Z",
     "shell.execute_reply": "2023-02-02T17:17:08.670686Z"
    },
    "papermill": {
     "duration": 1.283034,
     "end_time": "2023-02-02T17:17:08.674170",
     "exception": false,
     "start_time": "2023-02-02T17:17:07.391136",
     "status": "completed"
    },
    "tags": []
   },
   "outputs": [
    {
     "data": {
      "text/plain": [
       "RandomForestRegressor(random_state=0)"
      ]
     },
     "execution_count": 72,
     "metadata": {},
     "output_type": "execute_result"
    }
   ],
   "source": [
    "model_4= RandomForestRegressor(n_estimators = 100, random_state = 0)\n",
    "model_4.fit(train_X,train_y)"
   ]
  },
  {
   "cell_type": "code",
   "execution_count": 73,
   "id": "e44d17e9",
   "metadata": {
    "execution": {
     "iopub.execute_input": "2023-02-02T17:17:08.752206Z",
     "iopub.status.busy": "2023-02-02T17:17:08.751411Z",
     "iopub.status.idle": "2023-02-02T17:17:08.780597Z",
     "shell.execute_reply": "2023-02-02T17:17:08.779233Z"
    },
    "papermill": {
     "duration": 0.07109,
     "end_time": "2023-02-02T17:17:08.783231",
     "exception": false,
     "start_time": "2023-02-02T17:17:08.712141",
     "status": "completed"
    },
    "tags": []
   },
   "outputs": [
    {
     "data": {
      "text/plain": [
       "8725.755783872288"
      ]
     },
     "execution_count": 73,
     "metadata": {},
     "output_type": "execute_result"
    }
   ],
   "source": [
    "mean_absolute_error(val_y, model_3.predict(val_X))\n",
    "#MAE = 8725.755783872288"
   ]
  },
  {
   "cell_type": "markdown",
   "id": "ca3ce088",
   "metadata": {
    "papermill": {
     "duration": 0.037865,
     "end_time": "2023-02-02T17:17:08.859631",
     "exception": false,
     "start_time": "2023-02-02T17:17:08.821766",
     "status": "completed"
    },
    "tags": []
   },
   "source": [
    "***"
   ]
  },
  {
   "cell_type": "code",
   "execution_count": 74,
   "id": "02a1f2f8",
   "metadata": {
    "execution": {
     "iopub.execute_input": "2023-02-02T17:17:08.938431Z",
     "iopub.status.busy": "2023-02-02T17:17:08.937456Z",
     "iopub.status.idle": "2023-02-02T17:17:18.708483Z",
     "shell.execute_reply": "2023-02-02T17:17:18.707401Z"
    },
    "papermill": {
     "duration": 9.813025,
     "end_time": "2023-02-02T17:17:18.710980",
     "exception": false,
     "start_time": "2023-02-02T17:17:08.897955",
     "status": "completed"
    },
    "tags": []
   },
   "outputs": [
    {
     "data": {
      "text/html": [
       "\n",
       "    <style>\n",
       "    table.eli5-weights tr:hover {\n",
       "        filter: brightness(85%);\n",
       "    }\n",
       "</style>\n",
       "\n",
       "\n",
       "\n",
       "    \n",
       "\n",
       "    \n",
       "\n",
       "    \n",
       "\n",
       "    \n",
       "\n",
       "    \n",
       "\n",
       "    \n",
       "\n",
       "\n",
       "    \n",
       "\n",
       "    \n",
       "\n",
       "    \n",
       "\n",
       "    \n",
       "\n",
       "    \n",
       "\n",
       "    \n",
       "\n",
       "\n",
       "    \n",
       "\n",
       "    \n",
       "\n",
       "    \n",
       "\n",
       "    \n",
       "\n",
       "    \n",
       "        <table class=\"eli5-weights eli5-feature-importances\" style=\"border-collapse: collapse; border: none; margin-top: 0em; table-layout: auto;\">\n",
       "    <thead>\n",
       "    <tr style=\"border: none;\">\n",
       "        <th style=\"padding: 0 1em 0 0.5em; text-align: right; border: none;\">Weight</th>\n",
       "        <th style=\"padding: 0 0.5em 0 0.5em; text-align: left; border: none;\">Feature</th>\n",
       "    </tr>\n",
       "    </thead>\n",
       "    <tbody>\n",
       "    \n",
       "        <tr style=\"background-color: hsl(120, 100.00%, 80.00%); border: none;\">\n",
       "            <td style=\"padding: 0 1em 0 0.5em; text-align: right; border: none;\">\n",
       "                0.4518\n",
       "                \n",
       "                    &plusmn; 0.0223\n",
       "                \n",
       "            </td>\n",
       "            <td style=\"padding: 0 0.5em 0 0.5em; text-align: left; border: none;\">\n",
       "                NewQual\n",
       "            </td>\n",
       "        </tr>\n",
       "    \n",
       "        <tr style=\"background-color: hsl(120, 100.00%, 89.81%); border: none;\">\n",
       "            <td style=\"padding: 0 1em 0 0.5em; text-align: right; border: none;\">\n",
       "                0.1725\n",
       "                \n",
       "                    &plusmn; 0.0092\n",
       "                \n",
       "            </td>\n",
       "            <td style=\"padding: 0 0.5em 0 0.5em; text-align: left; border: none;\">\n",
       "                GrLivArea\n",
       "            </td>\n",
       "        </tr>\n",
       "    \n",
       "        <tr style=\"background-color: hsl(120, 100.00%, 95.60%); border: none;\">\n",
       "            <td style=\"padding: 0 1em 0 0.5em; text-align: right; border: none;\">\n",
       "                0.0520\n",
       "                \n",
       "                    &plusmn; 0.0085\n",
       "                \n",
       "            </td>\n",
       "            <td style=\"padding: 0 0.5em 0 0.5em; text-align: left; border: none;\">\n",
       "                TotalBsmtSF\n",
       "            </td>\n",
       "        </tr>\n",
       "    \n",
       "        <tr style=\"background-color: hsl(120, 100.00%, 96.94%); border: none;\">\n",
       "            <td style=\"padding: 0 1em 0 0.5em; text-align: right; border: none;\">\n",
       "                0.0309\n",
       "                \n",
       "                    &plusmn; 0.0127\n",
       "                \n",
       "            </td>\n",
       "            <td style=\"padding: 0 0.5em 0 0.5em; text-align: left; border: none;\">\n",
       "                GarageCars\n",
       "            </td>\n",
       "        </tr>\n",
       "    \n",
       "        <tr style=\"background-color: hsl(120, 100.00%, 97.21%); border: none;\">\n",
       "            <td style=\"padding: 0 1em 0 0.5em; text-align: right; border: none;\">\n",
       "                0.0270\n",
       "                \n",
       "                    &plusmn; 0.0081\n",
       "                \n",
       "            </td>\n",
       "            <td style=\"padding: 0 0.5em 0 0.5em; text-align: left; border: none;\">\n",
       "                BsmtFinSF1\n",
       "            </td>\n",
       "        </tr>\n",
       "    \n",
       "        <tr style=\"background-color: hsl(120, 100.00%, 98.78%); border: none;\">\n",
       "            <td style=\"padding: 0 1em 0 0.5em; text-align: right; border: none;\">\n",
       "                0.0084\n",
       "                \n",
       "                    &plusmn; 0.0031\n",
       "                \n",
       "            </td>\n",
       "            <td style=\"padding: 0 0.5em 0 0.5em; text-align: left; border: none;\">\n",
       "                YearBuilt\n",
       "            </td>\n",
       "        </tr>\n",
       "    \n",
       "        <tr style=\"background-color: hsl(120, 100.00%, 98.82%); border: none;\">\n",
       "            <td style=\"padding: 0 1em 0 0.5em; text-align: right; border: none;\">\n",
       "                0.0079\n",
       "                \n",
       "                    &plusmn; 0.0024\n",
       "                \n",
       "            </td>\n",
       "            <td style=\"padding: 0 0.5em 0 0.5em; text-align: left; border: none;\">\n",
       "                MasVnrArea\n",
       "            </td>\n",
       "        </tr>\n",
       "    \n",
       "        <tr style=\"background-color: hsl(120, 100.00%, 98.92%); border: none;\">\n",
       "            <td style=\"padding: 0 1em 0 0.5em; text-align: right; border: none;\">\n",
       "                0.0070\n",
       "                \n",
       "                    &plusmn; 0.0019\n",
       "                \n",
       "            </td>\n",
       "            <td style=\"padding: 0 0.5em 0 0.5em; text-align: left; border: none;\">\n",
       "                LotArea\n",
       "            </td>\n",
       "        </tr>\n",
       "    \n",
       "        <tr style=\"background-color: hsl(120, 100.00%, 98.99%); border: none;\">\n",
       "            <td style=\"padding: 0 1em 0 0.5em; text-align: right; border: none;\">\n",
       "                0.0064\n",
       "                \n",
       "                    &plusmn; 0.0023\n",
       "                \n",
       "            </td>\n",
       "            <td style=\"padding: 0 0.5em 0 0.5em; text-align: left; border: none;\">\n",
       "                YearRemodAdd\n",
       "            </td>\n",
       "        </tr>\n",
       "    \n",
       "        <tr style=\"background-color: hsl(120, 100.00%, 99.06%); border: none;\">\n",
       "            <td style=\"padding: 0 1em 0 0.5em; text-align: right; border: none;\">\n",
       "                0.0058\n",
       "                \n",
       "                    &plusmn; 0.0048\n",
       "                \n",
       "            </td>\n",
       "            <td style=\"padding: 0 0.5em 0 0.5em; text-align: left; border: none;\">\n",
       "                BsmtQual_Ex\n",
       "            </td>\n",
       "        </tr>\n",
       "    \n",
       "    \n",
       "        \n",
       "            <tr style=\"background-color: hsl(120, 100.00%, 99.06%); border: none;\">\n",
       "                <td colspan=\"2\" style=\"padding: 0 0.5em 0 0.5em; text-align: center; border: none; white-space: nowrap;\">\n",
       "                    <i>&hellip; 86 more &hellip;</i>\n",
       "                </td>\n",
       "            </tr>\n",
       "        \n",
       "    \n",
       "    </tbody>\n",
       "</table>\n",
       "    \n",
       "\n",
       "    \n",
       "\n",
       "\n",
       "    \n",
       "\n",
       "    \n",
       "\n",
       "    \n",
       "\n",
       "    \n",
       "\n",
       "    \n",
       "\n",
       "    \n",
       "\n",
       "\n",
       "\n"
      ],
      "text/plain": [
       "<IPython.core.display.HTML object>"
      ]
     },
     "execution_count": 74,
     "metadata": {},
     "output_type": "execute_result"
    }
   ],
   "source": [
    "perm = PermutationImportance(model_4, random_state=1).fit(val_X, val_y)\n",
    "eli5.show_weights(perm,top=10, feature_names = val_X.columns.tolist())"
   ]
  },
  {
   "cell_type": "code",
   "execution_count": 75,
   "id": "767552bd",
   "metadata": {
    "execution": {
     "iopub.execute_input": "2023-02-02T17:17:18.792034Z",
     "iopub.status.busy": "2023-02-02T17:17:18.791648Z",
     "iopub.status.idle": "2023-02-02T17:17:18.795906Z",
     "shell.execute_reply": "2023-02-02T17:17:18.794998Z"
    },
    "papermill": {
     "duration": 0.047309,
     "end_time": "2023-02-02T17:17:18.797973",
     "exception": false,
     "start_time": "2023-02-02T17:17:18.750664",
     "status": "completed"
    },
    "tags": []
   },
   "outputs": [],
   "source": [
    "Final_features=X4.columns"
   ]
  },
  {
   "cell_type": "code",
   "execution_count": 76,
   "id": "eeb1cff9",
   "metadata": {
    "execution": {
     "iopub.execute_input": "2023-02-02T17:17:18.878747Z",
     "iopub.status.busy": "2023-02-02T17:17:18.878053Z",
     "iopub.status.idle": "2023-02-02T17:17:18.932753Z",
     "shell.execute_reply": "2023-02-02T17:17:18.931687Z"
    },
    "papermill": {
     "duration": 0.097985,
     "end_time": "2023-02-02T17:17:18.935202",
     "exception": false,
     "start_time": "2023-02-02T17:17:18.837217",
     "status": "completed"
    },
    "tags": []
   },
   "outputs": [
    {
     "data": {
      "text/html": [
       "<div>\n",
       "<style scoped>\n",
       "    .dataframe tbody tr th:only-of-type {\n",
       "        vertical-align: middle;\n",
       "    }\n",
       "\n",
       "    .dataframe tbody tr th {\n",
       "        vertical-align: top;\n",
       "    }\n",
       "\n",
       "    .dataframe thead th {\n",
       "        text-align: right;\n",
       "    }\n",
       "</style>\n",
       "<table border=\"1\" class=\"dataframe\">\n",
       "  <thead>\n",
       "    <tr style=\"text-align: right;\">\n",
       "      <th></th>\n",
       "      <th>Id</th>\n",
       "      <th>MSSubClass</th>\n",
       "      <th>MSZoning</th>\n",
       "      <th>LotFrontage</th>\n",
       "      <th>LotArea</th>\n",
       "      <th>Street</th>\n",
       "      <th>Alley</th>\n",
       "      <th>LotShape</th>\n",
       "      <th>LandContour</th>\n",
       "      <th>Utilities</th>\n",
       "      <th>...</th>\n",
       "      <th>PoolArea</th>\n",
       "      <th>PoolQC</th>\n",
       "      <th>Fence</th>\n",
       "      <th>MiscFeature</th>\n",
       "      <th>MiscVal</th>\n",
       "      <th>MoSold</th>\n",
       "      <th>YrSold</th>\n",
       "      <th>SaleType</th>\n",
       "      <th>SaleCondition</th>\n",
       "      <th>NewQual</th>\n",
       "    </tr>\n",
       "  </thead>\n",
       "  <tbody>\n",
       "    <tr>\n",
       "      <th>0</th>\n",
       "      <td>1461</td>\n",
       "      <td>20</td>\n",
       "      <td>RH</td>\n",
       "      <td>80.0</td>\n",
       "      <td>11622</td>\n",
       "      <td>Pave</td>\n",
       "      <td>NaN</td>\n",
       "      <td>Reg</td>\n",
       "      <td>Lvl</td>\n",
       "      <td>AllPub</td>\n",
       "      <td>...</td>\n",
       "      <td>0</td>\n",
       "      <td>NaN</td>\n",
       "      <td>MnPrv</td>\n",
       "      <td>NaN</td>\n",
       "      <td>0</td>\n",
       "      <td>6</td>\n",
       "      <td>2010</td>\n",
       "      <td>WD</td>\n",
       "      <td>Normal</td>\n",
       "      <td>25</td>\n",
       "    </tr>\n",
       "    <tr>\n",
       "      <th>1</th>\n",
       "      <td>1462</td>\n",
       "      <td>20</td>\n",
       "      <td>RL</td>\n",
       "      <td>81.0</td>\n",
       "      <td>14267</td>\n",
       "      <td>Pave</td>\n",
       "      <td>NaN</td>\n",
       "      <td>IR1</td>\n",
       "      <td>Lvl</td>\n",
       "      <td>AllPub</td>\n",
       "      <td>...</td>\n",
       "      <td>0</td>\n",
       "      <td>NaN</td>\n",
       "      <td>NaN</td>\n",
       "      <td>Gar2</td>\n",
       "      <td>12500</td>\n",
       "      <td>6</td>\n",
       "      <td>2010</td>\n",
       "      <td>WD</td>\n",
       "      <td>Normal</td>\n",
       "      <td>36</td>\n",
       "    </tr>\n",
       "    <tr>\n",
       "      <th>2</th>\n",
       "      <td>1463</td>\n",
       "      <td>60</td>\n",
       "      <td>RL</td>\n",
       "      <td>74.0</td>\n",
       "      <td>13830</td>\n",
       "      <td>Pave</td>\n",
       "      <td>NaN</td>\n",
       "      <td>IR1</td>\n",
       "      <td>Lvl</td>\n",
       "      <td>AllPub</td>\n",
       "      <td>...</td>\n",
       "      <td>0</td>\n",
       "      <td>NaN</td>\n",
       "      <td>MnPrv</td>\n",
       "      <td>NaN</td>\n",
       "      <td>0</td>\n",
       "      <td>3</td>\n",
       "      <td>2010</td>\n",
       "      <td>WD</td>\n",
       "      <td>Normal</td>\n",
       "      <td>25</td>\n",
       "    </tr>\n",
       "    <tr>\n",
       "      <th>3</th>\n",
       "      <td>1464</td>\n",
       "      <td>60</td>\n",
       "      <td>RL</td>\n",
       "      <td>78.0</td>\n",
       "      <td>9978</td>\n",
       "      <td>Pave</td>\n",
       "      <td>NaN</td>\n",
       "      <td>IR1</td>\n",
       "      <td>Lvl</td>\n",
       "      <td>AllPub</td>\n",
       "      <td>...</td>\n",
       "      <td>0</td>\n",
       "      <td>NaN</td>\n",
       "      <td>NaN</td>\n",
       "      <td>NaN</td>\n",
       "      <td>0</td>\n",
       "      <td>6</td>\n",
       "      <td>2010</td>\n",
       "      <td>WD</td>\n",
       "      <td>Normal</td>\n",
       "      <td>36</td>\n",
       "    </tr>\n",
       "    <tr>\n",
       "      <th>4</th>\n",
       "      <td>1465</td>\n",
       "      <td>120</td>\n",
       "      <td>RL</td>\n",
       "      <td>43.0</td>\n",
       "      <td>5005</td>\n",
       "      <td>Pave</td>\n",
       "      <td>NaN</td>\n",
       "      <td>IR1</td>\n",
       "      <td>HLS</td>\n",
       "      <td>AllPub</td>\n",
       "      <td>...</td>\n",
       "      <td>0</td>\n",
       "      <td>NaN</td>\n",
       "      <td>NaN</td>\n",
       "      <td>NaN</td>\n",
       "      <td>0</td>\n",
       "      <td>1</td>\n",
       "      <td>2010</td>\n",
       "      <td>WD</td>\n",
       "      <td>Normal</td>\n",
       "      <td>64</td>\n",
       "    </tr>\n",
       "  </tbody>\n",
       "</table>\n",
       "<p>5 rows × 80 columns</p>\n",
       "</div>"
      ],
      "text/plain": [
       "     Id  MSSubClass MSZoning  LotFrontage  LotArea Street Alley LotShape  \\\n",
       "0  1461          20       RH         80.0    11622   Pave   NaN      Reg   \n",
       "1  1462          20       RL         81.0    14267   Pave   NaN      IR1   \n",
       "2  1463          60       RL         74.0    13830   Pave   NaN      IR1   \n",
       "3  1464          60       RL         78.0     9978   Pave   NaN      IR1   \n",
       "4  1465         120       RL         43.0     5005   Pave   NaN      IR1   \n",
       "\n",
       "  LandContour Utilities  ... PoolArea PoolQC  Fence MiscFeature MiscVal  \\\n",
       "0         Lvl    AllPub  ...        0    NaN  MnPrv         NaN       0   \n",
       "1         Lvl    AllPub  ...        0    NaN    NaN        Gar2   12500   \n",
       "2         Lvl    AllPub  ...        0    NaN  MnPrv         NaN       0   \n",
       "3         Lvl    AllPub  ...        0    NaN    NaN         NaN       0   \n",
       "4         HLS    AllPub  ...        0    NaN    NaN         NaN       0   \n",
       "\n",
       "  MoSold YrSold  SaleType  SaleCondition  NewQual  \n",
       "0      6   2010        WD         Normal       25  \n",
       "1      6   2010        WD         Normal       36  \n",
       "2      3   2010        WD         Normal       25  \n",
       "3      6   2010        WD         Normal       36  \n",
       "4      1   2010        WD         Normal       64  \n",
       "\n",
       "[5 rows x 80 columns]"
      ]
     },
     "execution_count": 76,
     "metadata": {},
     "output_type": "execute_result"
    }
   ],
   "source": [
    "test_data = pd.read_csv('/kaggle/input/home-data-for-ml-course/test.csv')\n",
    "\n",
    "test_data['NewQual']=(test_data['OverallQual'])**2\n",
    "test_data=test_data.drop('OverallQual',axis=1)\n",
    "test_data.head() #80 col"
   ]
  },
  {
   "cell_type": "code",
   "execution_count": 77,
   "id": "ae352ded",
   "metadata": {
    "execution": {
     "iopub.execute_input": "2023-02-02T17:17:19.015343Z",
     "iopub.status.busy": "2023-02-02T17:17:19.014954Z",
     "iopub.status.idle": "2023-02-02T17:17:19.031056Z",
     "shell.execute_reply": "2023-02-02T17:17:19.029998Z"
    },
    "papermill": {
     "duration": 0.058977,
     "end_time": "2023-02-02T17:17:19.033198",
     "exception": false,
     "start_time": "2023-02-02T17:17:18.974221",
     "status": "completed"
    },
    "tags": []
   },
   "outputs": [
    {
     "name": "stderr",
     "output_type": "stream",
     "text": [
      "/opt/conda/lib/python3.7/site-packages/ipykernel_launcher.py:6: UserWarning: Boolean Series key will be reindexed to match DataFrame index.\n",
      "  \n"
     ]
    }
   ],
   "source": [
    "test_data['LotFrontage']= test_data['LotFrontage'].fillna(test_data['LotFrontage'].mean())\n",
    "test_data['MasVnrType']= test_data['MasVnrType'].fillna('None')\n",
    "test_data['MasVnrArea']= test_data['MasVnrArea'].fillna(0)\n",
    "test_data['BsmtQual']= test_data['BsmtQual'].fillna(\"NA\")\n",
    "\n",
    "test_data[test_data.BsmtExposure.isna()][test_data.BsmtQual.isna()==False].BsmtExposure=\"No\"\n",
    "test_data['BsmtExposure']= test_data['BsmtExposure'].fillna(\"NA\")\n",
    "\n",
    "test_data['BsmtFinType1']= test_data['BsmtFinType1'].fillna(\"NA\")\n",
    "test_data['GarageType']= test_data['GarageType'].fillna(\"NA\")\n",
    "test_data['GarageYrBlt']= test_data['GarageYrBlt'].fillna(0)\n",
    "test_data['GarageFinish']= df['GarageFinish'].fillna(\"NA\")"
   ]
  },
  {
   "cell_type": "code",
   "execution_count": 78,
   "id": "7083cfc6",
   "metadata": {
    "execution": {
     "iopub.execute_input": "2023-02-02T17:17:19.113159Z",
     "iopub.status.busy": "2023-02-02T17:17:19.112476Z",
     "iopub.status.idle": "2023-02-02T17:17:19.140446Z",
     "shell.execute_reply": "2023-02-02T17:17:19.139354Z"
    },
    "papermill": {
     "duration": 0.070578,
     "end_time": "2023-02-02T17:17:19.142861",
     "exception": false,
     "start_time": "2023-02-02T17:17:19.072283",
     "status": "completed"
    },
    "tags": []
   },
   "outputs": [
    {
     "data": {
      "text/plain": [
       "Index(['MSZoning', 'Alley', 'Utilities', 'Exterior1st', 'Exterior2nd',\n",
       "       'BsmtCond', 'BsmtFinSF1', 'BsmtFinType2', 'BsmtFinSF2', 'BsmtUnfSF',\n",
       "       'TotalBsmtSF', 'BsmtFullBath', 'BsmtHalfBath', 'KitchenQual',\n",
       "       'Functional', 'FireplaceQu', 'GarageCars', 'GarageArea', 'GarageQual',\n",
       "       'GarageCond', 'PoolQC', 'Fence', 'MiscFeature', 'SaleType'],\n",
       "      dtype='object')"
      ]
     },
     "execution_count": 78,
     "metadata": {},
     "output_type": "execute_result"
    }
   ],
   "source": [
    "test_data.columns[[test_data[col].isna().sum()>0 for col in test_data.columns]]"
   ]
  },
  {
   "cell_type": "code",
   "execution_count": 79,
   "id": "9dbe87e4",
   "metadata": {
    "execution": {
     "iopub.execute_input": "2023-02-02T17:17:19.224201Z",
     "iopub.status.busy": "2023-02-02T17:17:19.223100Z",
     "iopub.status.idle": "2023-02-02T17:17:19.267539Z",
     "shell.execute_reply": "2023-02-02T17:17:19.266673Z"
    },
    "papermill": {
     "duration": 0.08783,
     "end_time": "2023-02-02T17:17:19.270026",
     "exception": false,
     "start_time": "2023-02-02T17:17:19.182196",
     "status": "completed"
    },
    "tags": []
   },
   "outputs": [],
   "source": [
    "test_data=pd.get_dummies(test_data)"
   ]
  },
  {
   "cell_type": "code",
   "execution_count": 80,
   "id": "d41f4c5e",
   "metadata": {
    "execution": {
     "iopub.execute_input": "2023-02-02T17:17:19.351557Z",
     "iopub.status.busy": "2023-02-02T17:17:19.350263Z",
     "iopub.status.idle": "2023-02-02T17:17:19.357726Z",
     "shell.execute_reply": "2023-02-02T17:17:19.356961Z"
    },
    "papermill": {
     "duration": 0.050182,
     "end_time": "2023-02-02T17:17:19.359826",
     "exception": false,
     "start_time": "2023-02-02T17:17:19.309644",
     "status": "completed"
    },
    "tags": []
   },
   "outputs": [],
   "source": [
    "X = test_data[Final_features]"
   ]
  },
  {
   "cell_type": "code",
   "execution_count": 81,
   "id": "1cdf2d1b",
   "metadata": {
    "execution": {
     "iopub.execute_input": "2023-02-02T17:17:19.441021Z",
     "iopub.status.busy": "2023-02-02T17:17:19.440558Z",
     "iopub.status.idle": "2023-02-02T17:17:19.467272Z",
     "shell.execute_reply": "2023-02-02T17:17:19.466128Z"
    },
    "papermill": {
     "duration": 0.070762,
     "end_time": "2023-02-02T17:17:19.469568",
     "exception": false,
     "start_time": "2023-02-02T17:17:19.398806",
     "status": "completed"
    },
    "tags": []
   },
   "outputs": [
    {
     "data": {
      "text/plain": [
       "Index(['TotalBsmtSF', 'BsmtFinSF1', 'GarageCars', 'BsmtUnfSF'], dtype='object')"
      ]
     },
     "execution_count": 81,
     "metadata": {},
     "output_type": "execute_result"
    }
   ],
   "source": [
    "X.columns[[X[col].isna().sum()>0 for col in X.columns]]"
   ]
  },
  {
   "cell_type": "code",
   "execution_count": 82,
   "id": "24e0f766",
   "metadata": {
    "execution": {
     "iopub.execute_input": "2023-02-02T17:17:19.551006Z",
     "iopub.status.busy": "2023-02-02T17:17:19.550231Z",
     "iopub.status.idle": "2023-02-02T17:17:19.559372Z",
     "shell.execute_reply": "2023-02-02T17:17:19.558089Z"
    },
    "papermill": {
     "duration": 0.052621,
     "end_time": "2023-02-02T17:17:19.561535",
     "exception": false,
     "start_time": "2023-02-02T17:17:19.508914",
     "status": "completed"
    },
    "tags": []
   },
   "outputs": [
    {
     "name": "stderr",
     "output_type": "stream",
     "text": [
      "/opt/conda/lib/python3.7/site-packages/ipykernel_launcher.py:1: SettingWithCopyWarning: \n",
      "A value is trying to be set on a copy of a slice from a DataFrame.\n",
      "Try using .loc[row_indexer,col_indexer] = value instead\n",
      "\n",
      "See the caveats in the documentation: https://pandas.pydata.org/pandas-docs/stable/user_guide/indexing.html#returning-a-view-versus-a-copy\n",
      "  \"\"\"Entry point for launching an IPython kernel.\n",
      "/opt/conda/lib/python3.7/site-packages/ipykernel_launcher.py:2: SettingWithCopyWarning: \n",
      "A value is trying to be set on a copy of a slice from a DataFrame.\n",
      "Try using .loc[row_indexer,col_indexer] = value instead\n",
      "\n",
      "See the caveats in the documentation: https://pandas.pydata.org/pandas-docs/stable/user_guide/indexing.html#returning-a-view-versus-a-copy\n",
      "  \n",
      "/opt/conda/lib/python3.7/site-packages/ipykernel_launcher.py:3: SettingWithCopyWarning: \n",
      "A value is trying to be set on a copy of a slice from a DataFrame.\n",
      "Try using .loc[row_indexer,col_indexer] = value instead\n",
      "\n",
      "See the caveats in the documentation: https://pandas.pydata.org/pandas-docs/stable/user_guide/indexing.html#returning-a-view-versus-a-copy\n",
      "  This is separate from the ipykernel package so we can avoid doing imports until\n",
      "/opt/conda/lib/python3.7/site-packages/ipykernel_launcher.py:4: SettingWithCopyWarning: \n",
      "A value is trying to be set on a copy of a slice from a DataFrame.\n",
      "Try using .loc[row_indexer,col_indexer] = value instead\n",
      "\n",
      "See the caveats in the documentation: https://pandas.pydata.org/pandas-docs/stable/user_guide/indexing.html#returning-a-view-versus-a-copy\n",
      "  after removing the cwd from sys.path.\n"
     ]
    }
   ],
   "source": [
    "X['TotalBsmtSF']= X['TotalBsmtSF'].fillna(0)\n",
    "X['BsmtFinSF1']= X['BsmtFinSF1'].fillna(0)\n",
    "X['GarageCars']= X['GarageCars'].fillna(0)\n",
    "X['BsmtUnfSF']= X['BsmtUnfSF'].fillna(0)"
   ]
  },
  {
   "cell_type": "code",
   "execution_count": 83,
   "id": "d628797f",
   "metadata": {
    "execution": {
     "iopub.execute_input": "2023-02-02T17:17:19.643141Z",
     "iopub.status.busy": "2023-02-02T17:17:19.642422Z",
     "iopub.status.idle": "2023-02-02T17:17:19.687657Z",
     "shell.execute_reply": "2023-02-02T17:17:19.686393Z"
    },
    "papermill": {
     "duration": 0.088942,
     "end_time": "2023-02-02T17:17:19.690410",
     "exception": false,
     "start_time": "2023-02-02T17:17:19.601468",
     "status": "completed"
    },
    "tags": []
   },
   "outputs": [],
   "source": [
    "test_preds = model_4.predict(X)"
   ]
  },
  {
   "cell_type": "code",
   "execution_count": 84,
   "id": "be64e079",
   "metadata": {
    "execution": {
     "iopub.execute_input": "2023-02-02T17:17:19.772265Z",
     "iopub.status.busy": "2023-02-02T17:17:19.771574Z",
     "iopub.status.idle": "2023-02-02T17:17:19.783359Z",
     "shell.execute_reply": "2023-02-02T17:17:19.782328Z"
    },
    "papermill": {
     "duration": 0.055552,
     "end_time": "2023-02-02T17:17:19.785857",
     "exception": false,
     "start_time": "2023-02-02T17:17:19.730305",
     "status": "completed"
    },
    "tags": []
   },
   "outputs": [],
   "source": [
    "output = pd.DataFrame({'Id': test_data.Id,\n",
    "                       'SalePrice': test_preds})\n",
    "output.to_csv('submission.csv', index=False)"
   ]
  }
 ],
 "metadata": {
  "kernelspec": {
   "display_name": "Python 3",
   "language": "python",
   "name": "python3"
  },
  "language_info": {
   "codemirror_mode": {
    "name": "ipython",
    "version": 3
   },
   "file_extension": ".py",
   "mimetype": "text/x-python",
   "name": "python",
   "nbconvert_exporter": "python",
   "pygments_lexer": "ipython3",
   "version": "3.7.12"
  },
  "papermill": {
   "default_parameters": {},
   "duration": 79.206294,
   "end_time": "2023-02-02T17:17:22.446867",
   "environment_variables": {},
   "exception": null,
   "input_path": "__notebook__.ipynb",
   "output_path": "__notebook__.ipynb",
   "parameters": {},
   "start_time": "2023-02-02T17:16:03.240573",
   "version": "2.3.4"
  }
 },
 "nbformat": 4,
 "nbformat_minor": 5
}
